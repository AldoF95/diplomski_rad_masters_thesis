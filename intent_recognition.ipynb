{
  "nbformat": 4,
  "nbformat_minor": 0,
  "metadata": {
    "colab": {
      "name": "intent_recognition.ipynb",
      "provenance": [],
      "mount_file_id": "18vEUhqFdtcE8UqQYJxSGccPmDpRUCgpd",
      "authorship_tag": "ABX9TyNaZT4qBP3Hj1O+OEetWXo1",
      "include_colab_link": true
    },
    "kernelspec": {
      "name": "python3",
      "display_name": "Python 3"
    },
    "language_info": {
      "name": "python"
    }
  },
  "cells": [
    {
      "cell_type": "markdown",
      "metadata": {
        "id": "view-in-github",
        "colab_type": "text"
      },
      "source": [
        "<a href=\"https://colab.research.google.com/github/AldoF95/diplomski_rad_masters_thesis/blob/main/intent_recognition.ipynb\" target=\"_parent\"><img src=\"https://colab.research.google.com/assets/colab-badge.svg\" alt=\"Open In Colab\"/></a>"
      ]
    },
    {
      "cell_type": "code",
      "metadata": {
        "id": "E3qlcp6egY0_"
      },
      "source": [
        "!pip install tensorflow_text"
      ],
      "execution_count": null,
      "outputs": []
    },
    {
      "cell_type": "code",
      "metadata": {
        "id": "sVrW04yuiq-W"
      },
      "source": [
        "import tensorflow as tf\n",
        "import tensorflow_text as tft\n",
        "import tensorflow_hub as tfh\n",
        "import pandas as pd\n",
        "import numpy as np"
      ],
      "execution_count": null,
      "outputs": []
    },
    {
      "cell_type": "code",
      "metadata": {
        "id": "EF88qU8wgdIK"
      },
      "source": [
        "data_path = \"/content/drive/MyDrive/chatbot-data.xlsx\""
      ],
      "execution_count": null,
      "outputs": []
    },
    {
      "cell_type": "code",
      "metadata": {
        "id": "tiCGwHYUgdL-"
      },
      "source": [
        "preprocessor = tfh.KerasLayer('https://tfhub.dev/google/universal-sentence-encoder-cmlm/multilingual-preprocess/2')\n",
        "model = tfh.KerasLayer('https://tfhub.dev/google/LaBSE/2')"
      ],
      "execution_count": null,
      "outputs": []
    },
    {
      "cell_type": "code",
      "metadata": {
        "id": "7j2z3VNwgdP3"
      },
      "source": [
        "data = pd.read_excel(data_path)"
      ],
      "execution_count": null,
      "outputs": []
    },
    {
      "cell_type": "code",
      "metadata": {
        "id": "GYgw8zTngdS3"
      },
      "source": [
        "data.columns = ['text', 'action_type', 'intent', 'g_translation']"
      ],
      "execution_count": null,
      "outputs": []
    },
    {
      "cell_type": "code",
      "metadata": {
        "colab": {
          "base_uri": "https://localhost:8080/"
        },
        "id": "QyUcTw7vrzaR",
        "outputId": "7d292b59-f23e-4905-d223-724d349fdcfa"
      },
      "source": [
        "data['intent'].unique()"
      ],
      "execution_count": null,
      "outputs": [
        {
          "output_type": "execute_result",
          "data": {
            "text/plain": [
              "array(['upis_na_sveuciliste', 'studomat_problemi', 'status_studenta',\n",
              "       'prijava_zavrsnog_diplomskog'], dtype=object)"
            ]
          },
          "metadata": {
            "tags": []
          },
          "execution_count": 10
        }
      ]
    },
    {
      "cell_type": "code",
      "metadata": {
        "colab": {
          "base_uri": "https://localhost:8080/",
          "height": 206
        },
        "id": "j7AAF0t5gdVe",
        "outputId": "59cd06f7-a41c-4558-f85b-a4f9c31fe402"
      },
      "source": [
        "data['intent'] = data['intent'].astype('category')\n",
        "data['intent_codes'] = data['intent'].cat.codes\n",
        "data.head()"
      ],
      "execution_count": null,
      "outputs": [
        {
          "output_type": "execute_result",
          "data": {
            "text/html": [
              "<div>\n",
              "<style scoped>\n",
              "    .dataframe tbody tr th:only-of-type {\n",
              "        vertical-align: middle;\n",
              "    }\n",
              "\n",
              "    .dataframe tbody tr th {\n",
              "        vertical-align: top;\n",
              "    }\n",
              "\n",
              "    .dataframe thead th {\n",
              "        text-align: right;\n",
              "    }\n",
              "</style>\n",
              "<table border=\"1\" class=\"dataframe\">\n",
              "  <thead>\n",
              "    <tr style=\"text-align: right;\">\n",
              "      <th></th>\n",
              "      <th>text</th>\n",
              "      <th>action_type</th>\n",
              "      <th>intent</th>\n",
              "      <th>g_translation</th>\n",
              "      <th>intent_codes</th>\n",
              "    </tr>\n",
              "  </thead>\n",
              "  <tbody>\n",
              "    <tr>\n",
              "      <th>0</th>\n",
              "      <td>je li potreban prijemni ispit za upis</td>\n",
              "      <td>static_faq</td>\n",
              "      <td>upis_na_sveuciliste</td>\n",
              "      <td>Is the admission exam for enrollment</td>\n",
              "      <td>3</td>\n",
              "    </tr>\n",
              "    <tr>\n",
              "      <th>1</th>\n",
              "      <td>postoji li izvanredan studij</td>\n",
              "      <td>static_faq</td>\n",
              "      <td>upis_na_sveuciliste</td>\n",
              "      <td>Is there a remarkable study</td>\n",
              "      <td>3</td>\n",
              "    </tr>\n",
              "    <tr>\n",
              "      <th>2</th>\n",
              "      <td>koji su troskovi upisa</td>\n",
              "      <td>static_faq</td>\n",
              "      <td>upis_na_sveuciliste</td>\n",
              "      <td>What are the cost of enrollment</td>\n",
              "      <td>3</td>\n",
              "    </tr>\n",
              "    <tr>\n",
              "      <th>3</th>\n",
              "      <td>gdje da uplatim troskove</td>\n",
              "      <td>static_faq</td>\n",
              "      <td>upis_na_sveuciliste</td>\n",
              "      <td>where to pay spots</td>\n",
              "      <td>3</td>\n",
              "    </tr>\n",
              "    <tr>\n",
              "      <th>4</th>\n",
              "      <td>gdje da uplatim skolarinu</td>\n",
              "      <td>static_faq</td>\n",
              "      <td>upis_na_sveuciliste</td>\n",
              "      <td>where to pay the skolarin</td>\n",
              "      <td>3</td>\n",
              "    </tr>\n",
              "  </tbody>\n",
              "</table>\n",
              "</div>"
            ],
            "text/plain": [
              "                                    text  ... intent_codes\n",
              "0  je li potreban prijemni ispit za upis  ...            3\n",
              "1           postoji li izvanredan studij  ...            3\n",
              "2                 koji su troskovi upisa  ...            3\n",
              "3               gdje da uplatim troskove  ...            3\n",
              "4              gdje da uplatim skolarinu  ...            3\n",
              "\n",
              "[5 rows x 5 columns]"
            ]
          },
          "metadata": {
            "tags": []
          },
          "execution_count": 11
        }
      ]
    },
    {
      "cell_type": "code",
      "metadata": {
        "colab": {
          "base_uri": "https://localhost:8080/",
          "height": 298
        },
        "id": "kgsBWqBrr-xZ",
        "outputId": "2490ffa9-6cda-4985-9e9c-74e4309cf431"
      },
      "source": [
        "data['intent_codes'][data['intent']=='studomat_problemi'] = 1\n",
        "data[data['intent']=='studomat_problemi'].head()"
      ],
      "execution_count": null,
      "outputs": [
        {
          "output_type": "stream",
          "text": [
            "/usr/local/lib/python3.7/dist-packages/ipykernel_launcher.py:1: SettingWithCopyWarning: \n",
            "A value is trying to be set on a copy of a slice from a DataFrame\n",
            "\n",
            "See the caveats in the documentation: https://pandas.pydata.org/pandas-docs/stable/user_guide/indexing.html#returning-a-view-versus-a-copy\n",
            "  \"\"\"Entry point for launching an IPython kernel.\n"
          ],
          "name": "stderr"
        },
        {
          "output_type": "execute_result",
          "data": {
            "text/html": [
              "<div>\n",
              "<style scoped>\n",
              "    .dataframe tbody tr th:only-of-type {\n",
              "        vertical-align: middle;\n",
              "    }\n",
              "\n",
              "    .dataframe tbody tr th {\n",
              "        vertical-align: top;\n",
              "    }\n",
              "\n",
              "    .dataframe thead th {\n",
              "        text-align: right;\n",
              "    }\n",
              "</style>\n",
              "<table border=\"1\" class=\"dataframe\">\n",
              "  <thead>\n",
              "    <tr style=\"text-align: right;\">\n",
              "      <th></th>\n",
              "      <th>text</th>\n",
              "      <th>action_type</th>\n",
              "      <th>intent</th>\n",
              "      <th>g_translation</th>\n",
              "      <th>intent_codes</th>\n",
              "    </tr>\n",
              "  </thead>\n",
              "  <tbody>\n",
              "    <tr>\n",
              "      <th>22</th>\n",
              "      <td>ne mogu pristupiti studomatu</td>\n",
              "      <td>pokreni_proces</td>\n",
              "      <td>studomat_problemi</td>\n",
              "      <td>cannot access the studomat</td>\n",
              "      <td>1</td>\n",
              "    </tr>\n",
              "    <tr>\n",
              "      <th>23</th>\n",
              "      <td>ispit mi nije prijavljen</td>\n",
              "      <td>dynamic_faq</td>\n",
              "      <td>studomat_problemi</td>\n",
              "      <td>The exam not reported to me</td>\n",
              "      <td>1</td>\n",
              "    </tr>\n",
              "    <tr>\n",
              "      <th>24</th>\n",
              "      <td>prijavio sam ispit ali ga nema na popisu</td>\n",
              "      <td>static_faq</td>\n",
              "      <td>studomat_problemi</td>\n",
              "      <td>I reported the exam but there is not on the list</td>\n",
              "      <td>1</td>\n",
              "    </tr>\n",
              "    <tr>\n",
              "      <th>25</th>\n",
              "      <td>prijavila sam ispit ali ga nema na popisu</td>\n",
              "      <td>static_faq</td>\n",
              "      <td>studomat_problemi</td>\n",
              "      <td>I reported the exam but there is not on the list</td>\n",
              "      <td>1</td>\n",
              "    </tr>\n",
              "    <tr>\n",
              "      <th>26</th>\n",
              "      <td>na studomatu mi jos nije upisana ocijena</td>\n",
              "      <td>dynamic_faq</td>\n",
              "      <td>studomat_problemi</td>\n",
              "      <td>At the Studomat, we have not yet been enrolled</td>\n",
              "      <td>1</td>\n",
              "    </tr>\n",
              "  </tbody>\n",
              "</table>\n",
              "</div>"
            ],
            "text/plain": [
              "                                         text  ... intent_codes\n",
              "22               ne mogu pristupiti studomatu  ...            1\n",
              "23                   ispit mi nije prijavljen  ...            1\n",
              "24   prijavio sam ispit ali ga nema na popisu  ...            1\n",
              "25  prijavila sam ispit ali ga nema na popisu  ...            1\n",
              "26   na studomatu mi jos nije upisana ocijena  ...            1\n",
              "\n",
              "[5 rows x 5 columns]"
            ]
          },
          "metadata": {
            "tags": []
          },
          "execution_count": 12
        }
      ]
    },
    {
      "cell_type": "code",
      "metadata": {
        "colab": {
          "base_uri": "https://localhost:8080/"
        },
        "id": "ud0vZjO1sofx",
        "outputId": "8a62f12b-5164-4dac-c397-a61c38476427"
      },
      "source": [
        "data['intent_codes'][data['intent_codes']==3] = 2"
      ],
      "execution_count": null,
      "outputs": [
        {
          "output_type": "stream",
          "text": [
            "/usr/local/lib/python3.7/dist-packages/ipykernel_launcher.py:1: SettingWithCopyWarning: \n",
            "A value is trying to be set on a copy of a slice from a DataFrame\n",
            "\n",
            "See the caveats in the documentation: https://pandas.pydata.org/pandas-docs/stable/user_guide/indexing.html#returning-a-view-versus-a-copy\n",
            "  \"\"\"Entry point for launching an IPython kernel.\n"
          ],
          "name": "stderr"
        }
      ]
    },
    {
      "cell_type": "code",
      "metadata": {
        "id": "DysZgU2Osy25"
      },
      "source": [
        "codes = data['intent_codes'].unique()"
      ],
      "execution_count": null,
      "outputs": []
    },
    {
      "cell_type": "code",
      "metadata": {
        "id": "p8ItBSeOE-he"
      },
      "source": [
        "validation_data = pd.DataFrame(columns=data.columns)\n",
        "train_data = pd.DataFrame(columns=data.columns)\n",
        "for c in codes:\n",
        "  sample = data[data['intent_codes']==c]\n",
        "  sample = sample.sample(frac=1)\n",
        "  val = sample.sample(frac=0.2)\n",
        "  train = pd.concat([sample, val]).drop_duplicates(keep=False)\n",
        "  validation_data = validation_data.append(val, ignore_index=True)\n",
        "  train_data = train_data.append(train, ignore_index=True)"
      ],
      "execution_count": null,
      "outputs": []
    },
    {
      "cell_type": "code",
      "metadata": {
        "colab": {
          "base_uri": "https://localhost:8080/"
        },
        "id": "760d6mCcHVJT",
        "outputId": "609f4349-dafc-4f6c-a289-87ff5acd5fa7"
      },
      "source": [
        "validation_data['intent_codes'].value_counts()"
      ],
      "execution_count": null,
      "outputs": [
        {
          "output_type": "execute_result",
          "data": {
            "text/plain": [
              "0    20\n",
              "2    11\n",
              "1    11\n",
              "Name: intent_codes, dtype: int64"
            ]
          },
          "metadata": {
            "tags": []
          },
          "execution_count": 33
        }
      ]
    },
    {
      "cell_type": "code",
      "metadata": {
        "colab": {
          "base_uri": "https://localhost:8080/"
        },
        "id": "fQ3C1bvuHhbM",
        "outputId": "ec0dab19-716b-4c6c-abb8-ab0a4f2dca7c"
      },
      "source": [
        "train_data['intent_codes'].value_counts()"
      ],
      "execution_count": null,
      "outputs": [
        {
          "output_type": "execute_result",
          "data": {
            "text/plain": [
              "0    78\n",
              "2    45\n",
              "1    43\n",
              "Name: intent_codes, dtype: int64"
            ]
          },
          "metadata": {
            "tags": []
          },
          "execution_count": 32
        }
      ]
    },
    {
      "cell_type": "code",
      "metadata": {
        "id": "4ijaRFwGnt-G"
      },
      "source": [
        "''' data_eng = data[['g_translation', 'intent_codes']]\n",
        "data_eng.columns = ['text', 'intent_codes']\n",
        "data_eng.head() '''\n",
        "\n",
        "train_data_eng = train_data[['g_translation', 'intent_codes']]\n",
        "validation_data_eng = validation_data[['g_translation', 'intent_codes']]\n",
        "train_data_eng.columns = ['text', 'intent_codes']\n",
        "validation_data_eng.columns = ['text', 'intent_codes']"
      ],
      "execution_count": null,
      "outputs": []
    },
    {
      "cell_type": "code",
      "metadata": {
        "id": "B8mr-1n09n8c"
      },
      "source": [
        "''' data_split = data[['text', 'intent_codes']]\n",
        "data_split.head() '''\n",
        "\n",
        "train_data_hr = train_data[['text', 'intent_codes']]\n",
        "validation_data_hr = validation_data[['text', 'intent_codes']]"
      ],
      "execution_count": null,
      "outputs": []
    },
    {
      "cell_type": "code",
      "metadata": {
        "id": "SexbQftwo5z_"
      },
      "source": [
        "''' data_hr_eng = data_split.append(data_eng, ignore_index=True)\n",
        "data_hr_eng.info() '''\n",
        "\n",
        "train_data_eng_hr = train_data_eng.append(train_data_hr, ignore_index=True)\n",
        "validation_data_eng_hr = validation_data_eng.append(validation_data_hr, ignore_index=True)"
      ],
      "execution_count": null,
      "outputs": []
    },
    {
      "cell_type": "code",
      "metadata": {
        "id": "2lfgdRiz93pk"
      },
      "source": [
        "def df_to_dataset(df, shuffle=True, batch_size=16):\n",
        "  df = df.copy()\n",
        "  labels = df.pop('intent_codes')\n",
        "  lables_cat = tf.keras.utils.to_categorical(labels, 3)\n",
        "  dataset = tf.data.Dataset.from_tensor_slices((dict(df), lables_cat))\n",
        "  if shuffle:\n",
        "    dataset = dataset.shuffle(buffer_size=len(df))\n",
        "  dataset = dataset.batch(batch_size).prefetch(batch_size)\n",
        "  return dataset"
      ],
      "execution_count": null,
      "outputs": []
    },
    {
      "cell_type": "code",
      "metadata": {
        "id": "WliUG-0ioDpH"
      },
      "source": [
        "train_df_eng = df_to_dataset(train_data_eng)\n",
        "validation_df_eng = df_to_dataset(validation_data_eng)\n",
        "\n",
        "train_df_hr = df_to_dataset(train_data_hr)\n",
        "validation_df_hr = df_to_dataset(validation_data_hr)\n",
        "\n",
        "train_df_eng_hr = df_to_dataset(train_data_eng_hr)\n",
        "validation_df_eng_hr = df_to_dataset(validation_data_eng_hr)"
      ],
      "execution_count": null,
      "outputs": []
    },
    {
      "cell_type": "code",
      "metadata": {
        "id": "keNA8BAx-xmb"
      },
      "source": [
        "train_df = df_to_dataset(data_split)"
      ],
      "execution_count": null,
      "outputs": []
    },
    {
      "cell_type": "code",
      "metadata": {
        "colab": {
          "base_uri": "https://localhost:8080/"
        },
        "id": "QAGNqASd_YQj",
        "outputId": "dbe801c7-89a9-4b9f-e720-3573abf565f2"
      },
      "source": [
        "[(text, lbl)] = train_df.take(1)\n",
        "lbl"
      ],
      "execution_count": null,
      "outputs": [
        {
          "output_type": "execute_result",
          "data": {
            "text/plain": [
              "<tf.Tensor: shape=(16, 3), dtype=float32, numpy=\n",
              "array([[1., 0., 0.],\n",
              "       [0., 0., 1.],\n",
              "       [0., 0., 1.],\n",
              "       [0., 0., 1.],\n",
              "       [1., 0., 0.],\n",
              "       [0., 1., 0.],\n",
              "       [1., 0., 0.],\n",
              "       [0., 1., 0.],\n",
              "       [1., 0., 0.],\n",
              "       [1., 0., 0.],\n",
              "       [1., 0., 0.],\n",
              "       [0., 0., 1.],\n",
              "       [1., 0., 0.],\n",
              "       [1., 0., 0.],\n",
              "       [0., 1., 0.],\n",
              "       [1., 0., 0.]], dtype=float32)>"
            ]
          },
          "metadata": {
            "tags": []
          },
          "execution_count": 81
        }
      ]
    },
    {
      "cell_type": "code",
      "metadata": {
        "id": "emOsVyy5ou_Q"
      },
      "source": [
        "train_hr_eng = df_to_dataset(data_hr_eng)"
      ],
      "execution_count": null,
      "outputs": []
    },
    {
      "cell_type": "code",
      "metadata": {
        "id": "_P3fvmvrvATK"
      },
      "source": [
        "LR_DECAY = tf.keras.optimizers.schedules.ExponentialDecay(\n",
        "    0.001, 52, 0.96, True\n",
        ")"
      ],
      "execution_count": null,
      "outputs": []
    },
    {
      "cell_type": "code",
      "metadata": {
        "id": "HBaVMLy6kSHo"
      },
      "source": [
        "def model_build():\n",
        "  inputs = tf.keras.layers.Input(shape=(), dtype=tf.string, name='text')\n",
        "  encoded_input = preprocessor(inputs)\n",
        "  encoder_outputs = model(encoded_input)\n",
        "  x = encoder_outputs['pooled_output']\n",
        "  x = tf.keras.layers.Dropout(0.1)(x)\n",
        "  x = tf.keras.layers.Dense(128, activation='relu')(x)\n",
        "  x = tf.keras.layers.Dropout(0.7)(x)\n",
        "  outputs = tf.keras.layers.Dense(3, activation='softmax', name='classifier')(x)\n",
        "  return tf.keras.Model(inputs, outputs)\n",
        "  "
      ],
      "execution_count": null,
      "outputs": []
    },
    {
      "cell_type": "code",
      "metadata": {
        "colab": {
          "base_uri": "https://localhost:8080/"
        },
        "id": "ooQCaR-tkSLo",
        "outputId": "ce750e97-98ab-4d1b-909c-e21c3374ae7c"
      },
      "source": [
        "classifier_eng = model_build()\n",
        "classifier_eng.compile(\n",
        "    optimizer = tf.keras.optimizers.Adam(0.001),\n",
        "    loss = tf.keras.losses.CategoricalCrossentropy(from_logits=True),\n",
        "    metrics = tf.keras.metrics.CategoricalAccuracy()\n",
        ")\n",
        "\n",
        "history_eng = classifier_eng.fit(\n",
        "    train_df_eng,\n",
        "    epochs = 5,\n",
        "    batch_size = 16,\n",
        "    validation_data = validation_df_eng\n",
        ")"
      ],
      "execution_count": null,
      "outputs": [
        {
          "output_type": "stream",
          "text": [
            "Epoch 1/5\n"
          ],
          "name": "stdout"
        },
        {
          "output_type": "stream",
          "text": [
            "/usr/local/lib/python3.7/dist-packages/tensorflow/python/keras/backend.py:4870: UserWarning: \"`categorical_crossentropy` received `from_logits=True`, but the `output` argument was produced by a sigmoid or softmax activation and thus does not represent logits. Was this intended?\"\n",
            "  '\"`categorical_crossentropy` received `from_logits=True`, but '\n"
          ],
          "name": "stderr"
        },
        {
          "output_type": "stream",
          "text": [
            "11/11 [==============================] - 109s 9s/step - loss: 1.1997 - categorical_accuracy: 0.4337 - val_loss: 0.5708 - val_categorical_accuracy: 0.8810\n",
            "Epoch 2/5\n",
            "11/11 [==============================] - 96s 9s/step - loss: 0.6779 - categorical_accuracy: 0.6988 - val_loss: 0.3471 - val_categorical_accuracy: 0.9762\n",
            "Epoch 3/5\n",
            "11/11 [==============================] - 96s 9s/step - loss: 0.3527 - categorical_accuracy: 0.8614 - val_loss: 0.2230 - val_categorical_accuracy: 0.9762\n",
            "Epoch 4/5\n",
            "11/11 [==============================] - 95s 9s/step - loss: 0.2811 - categorical_accuracy: 0.8976 - val_loss: 0.1713 - val_categorical_accuracy: 0.9762\n",
            "Epoch 5/5\n",
            "11/11 [==============================] - 96s 9s/step - loss: 0.2674 - categorical_accuracy: 0.8795 - val_loss: 0.1615 - val_categorical_accuracy: 0.9762\n"
          ],
          "name": "stdout"
        }
      ]
    },
    {
      "cell_type": "code",
      "metadata": {
        "id": "myeJiZedtK-Z",
        "colab": {
          "base_uri": "https://localhost:8080/"
        },
        "outputId": "5aed0172-700d-44fa-9ff2-efada282ed4a"
      },
      "source": [
        "classifier_hr = model_build()\n",
        "classifier_hr.compile(\n",
        "    optimizer = tf.keras.optimizers.Adam(0.001),\n",
        "    loss = tf.keras.losses.CategoricalCrossentropy(from_logits=True),\n",
        "    metrics = tf.keras.metrics.CategoricalAccuracy()\n",
        ")\n",
        "\n",
        "history_hr = classifier_hr.fit(\n",
        "    train_df_hr,\n",
        "    epochs = 5,\n",
        "    batch_size = 16,\n",
        "    validation_data = validation_df_hr\n",
        ")"
      ],
      "execution_count": null,
      "outputs": [
        {
          "output_type": "stream",
          "text": [
            "Epoch 1/5\n"
          ],
          "name": "stdout"
        },
        {
          "output_type": "stream",
          "text": [
            "/usr/local/lib/python3.7/dist-packages/tensorflow/python/keras/backend.py:4870: UserWarning: \"`categorical_crossentropy` received `from_logits=True`, but the `output` argument was produced by a sigmoid or softmax activation and thus does not represent logits. Was this intended?\"\n",
            "  '\"`categorical_crossentropy` received `from_logits=True`, but '\n"
          ],
          "name": "stderr"
        },
        {
          "output_type": "stream",
          "text": [
            "11/11 [==============================] - 101s 9s/step - loss: 1.0563 - categorical_accuracy: 0.5181 - val_loss: 0.5690 - val_categorical_accuracy: 0.8810\n",
            "Epoch 2/5\n",
            "11/11 [==============================] - 97s 9s/step - loss: 0.6875 - categorical_accuracy: 0.7410 - val_loss: 0.3496 - val_categorical_accuracy: 0.9286\n",
            "Epoch 3/5\n",
            "11/11 [==============================] - 95s 9s/step - loss: 0.4457 - categorical_accuracy: 0.8253 - val_loss: 0.2472 - val_categorical_accuracy: 0.9524\n",
            "Epoch 4/5\n",
            "11/11 [==============================] - 96s 9s/step - loss: 0.3008 - categorical_accuracy: 0.9157 - val_loss: 0.1934 - val_categorical_accuracy: 0.9762\n",
            "Epoch 5/5\n",
            "11/11 [==============================] - 96s 9s/step - loss: 0.2505 - categorical_accuracy: 0.9096 - val_loss: 0.1630 - val_categorical_accuracy: 0.9762\n"
          ],
          "name": "stdout"
        }
      ]
    },
    {
      "cell_type": "code",
      "metadata": {
        "id": "zBZszeSjtLCh",
        "colab": {
          "base_uri": "https://localhost:8080/"
        },
        "outputId": "7c41ba79-d3aa-4e55-af55-b9a87318161f"
      },
      "source": [
        "classifier_hr_eng = model_build()\n",
        "classifier_hr_eng.compile(\n",
        "    optimizer = tf.keras.optimizers.Adam(LR_DECAY),\n",
        "    loss = tf.keras.losses.CategoricalCrossentropy(from_logits=True),\n",
        "    metrics = tf.keras.metrics.CategoricalAccuracy()\n",
        ")\n",
        "\n",
        "history_hr_eng = classifier_hr_eng.fit(\n",
        "    train_df_eng_hr,\n",
        "    epochs = 10,\n",
        "    batch_size = 16,\n",
        "    validation_data = validation_df_eng_hr\n",
        ")"
      ],
      "execution_count": null,
      "outputs": [
        {
          "output_type": "stream",
          "text": [
            "Epoch 1/10\n"
          ],
          "name": "stdout"
        },
        {
          "output_type": "stream",
          "text": [
            "/usr/local/lib/python3.7/dist-packages/tensorflow/python/keras/backend.py:4870: UserWarning: \"`categorical_crossentropy` received `from_logits=True`, but the `output` argument was produced by a sigmoid or softmax activation and thus does not represent logits. Was this intended?\"\n",
            "  '\"`categorical_crossentropy` received `from_logits=True`, but '\n"
          ],
          "name": "stderr"
        },
        {
          "output_type": "stream",
          "text": [
            "21/21 [==============================] - 196s 9s/step - loss: 0.9671 - categorical_accuracy: 0.5843 - val_loss: 0.3597 - val_categorical_accuracy: 0.9286\n",
            "Epoch 2/10\n",
            "21/21 [==============================] - 191s 9s/step - loss: 0.4001 - categorical_accuracy: 0.8645 - val_loss: 0.2212 - val_categorical_accuracy: 0.9762\n",
            "Epoch 3/10\n",
            "21/21 [==============================] - 192s 9s/step - loss: 0.2943 - categorical_accuracy: 0.8946 - val_loss: 0.1502 - val_categorical_accuracy: 0.9762\n",
            "Epoch 4/10\n",
            "21/21 [==============================] - 190s 9s/step - loss: 0.2181 - categorical_accuracy: 0.9217 - val_loss: 0.1266 - val_categorical_accuracy: 0.9643\n",
            "Epoch 5/10\n",
            "21/21 [==============================] - 191s 9s/step - loss: 0.1668 - categorical_accuracy: 0.9428 - val_loss: 0.1087 - val_categorical_accuracy: 0.9762\n",
            "Epoch 6/10\n",
            "21/21 [==============================] - 191s 9s/step - loss: 0.1428 - categorical_accuracy: 0.9608 - val_loss: 0.1356 - val_categorical_accuracy: 0.9762\n",
            "Epoch 7/10\n",
            "21/21 [==============================] - 192s 9s/step - loss: 0.1130 - categorical_accuracy: 0.9669 - val_loss: 0.1167 - val_categorical_accuracy: 0.9762\n",
            "Epoch 8/10\n",
            "21/21 [==============================] - 192s 9s/step - loss: 0.1056 - categorical_accuracy: 0.9608 - val_loss: 0.1234 - val_categorical_accuracy: 0.9762\n",
            "Epoch 9/10\n",
            "21/21 [==============================] - 192s 9s/step - loss: 0.0765 - categorical_accuracy: 0.9880 - val_loss: 0.1181 - val_categorical_accuracy: 0.9762\n",
            "Epoch 10/10\n",
            "21/21 [==============================] - 191s 9s/step - loss: 0.0774 - categorical_accuracy: 0.9819 - val_loss: 0.0979 - val_categorical_accuracy: 0.9762\n"
          ],
          "name": "stdout"
        }
      ]
    },
    {
      "cell_type": "code",
      "metadata": {
        "id": "elLCJv7ftLKm"
      },
      "source": [
        "test_data = \"hello\""
      ],
      "execution_count": null,
      "outputs": []
    },
    {
      "cell_type": "code",
      "metadata": {
        "id": "0lm1yh2-tLOB"
      },
      "source": [
        "test_data = tf.expand_dims(test_data, axis=0)\n",
        "prediction = classifier_hr_eng.predict(test_data)"
      ],
      "execution_count": null,
      "outputs": []
    },
    {
      "cell_type": "code",
      "metadata": {
        "colab": {
          "base_uri": "https://localhost:8080/"
        },
        "id": "U_9iNKA-6qKV",
        "outputId": "9094f8ce-2a46-47dc-9d59-98bb62433055"
      },
      "source": [
        "prediction2 = list(map('{:.3f}'.format,prediction[0]))\n",
        "prediction2"
      ],
      "execution_count": null,
      "outputs": [
        {
          "output_type": "execute_result",
          "data": {
            "text/plain": [
              "['0.620', '0.303', '0.077']"
            ]
          },
          "metadata": {
            "tags": []
          },
          "execution_count": 53
        }
      ]
    },
    {
      "cell_type": "code",
      "metadata": {
        "id": "OkY7ymfW-Yhr"
      },
      "source": [
        ""
      ],
      "execution_count": null,
      "outputs": []
    },
    {
      "cell_type": "code",
      "metadata": {
        "id": "AJW3fK-4-Yla"
      },
      "source": [
        ""
      ],
      "execution_count": null,
      "outputs": []
    },
    {
      "cell_type": "code",
      "metadata": {
        "colab": {
          "base_uri": "https://localhost:8080/"
        },
        "id": "t8lI5HVG-Yo_",
        "outputId": "d7c23efd-cfb3-46e1-9a91-483b34c300ee"
      },
      "source": [
        "data['intent_codes'].value_counts()"
      ],
      "execution_count": null,
      "outputs": [
        {
          "output_type": "execute_result",
          "data": {
            "text/plain": [
              "0    98\n",
              "2    56\n",
              "1    54\n",
              "Name: intent_codes, dtype: int64"
            ]
          },
          "metadata": {
            "tags": []
          },
          "execution_count": 61
        }
      ]
    },
    {
      "cell_type": "code",
      "metadata": {
        "id": "_7JbjIKa-Ysb"
      },
      "source": [
        ""
      ],
      "execution_count": null,
      "outputs": []
    },
    {
      "cell_type": "code",
      "metadata": {
        "id": "Chk_KRgQ-Yvb"
      },
      "source": [
        ""
      ],
      "execution_count": null,
      "outputs": []
    }
  ]
}