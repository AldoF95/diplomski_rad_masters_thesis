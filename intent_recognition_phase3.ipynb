{
  "nbformat": 4,
  "nbformat_minor": 0,
  "metadata": {
    "colab": {
      "name": "intent_recognition_phase3.ipynb",
      "provenance": [],
      "collapsed_sections": [
        "l4-OajOh0i7v",
        "B4Z5f3pD1Lna",
        "X86L7Hd_6r5E",
        "uE284w9XWdGN",
        "5LgjKFU5fv4U"
      ],
      "mount_file_id": "1yBaQjZQXeo6oFdwdXOQST4pKyvb9eALn",
      "authorship_tag": "ABX9TyOiZtOl26QaogPzkKr83pfQ",
      "include_colab_link": true
    },
    "kernelspec": {
      "name": "python3",
      "display_name": "Python 3"
    },
    "language_info": {
      "name": "python"
    }
  },
  "cells": [
    {
      "cell_type": "markdown",
      "metadata": {
        "id": "view-in-github",
        "colab_type": "text"
      },
      "source": [
        "<a href=\"https://colab.research.google.com/github/AldoF95/diplomski_rad_masters_thesis/blob/main/intent_recognition_phase3.ipynb\" target=\"_parent\"><img src=\"https://colab.research.google.com/assets/colab-badge.svg\" alt=\"Open In Colab\"/></a>"
      ]
    },
    {
      "cell_type": "code",
      "metadata": {
        "id": "K31bt551vrbO"
      },
      "source": [
        "!pip install tensorflow_text"
      ],
      "execution_count": null,
      "outputs": []
    },
    {
      "cell_type": "code",
      "metadata": {
        "id": "nNVQ-48c9oEV"
      },
      "source": [
        "!pip install --upgrade matplotlib"
      ],
      "execution_count": null,
      "outputs": []
    },
    {
      "cell_type": "markdown",
      "metadata": {
        "id": "xm9LV9kNedUV"
      },
      "source": [
        "# Data loading"
      ]
    },
    {
      "cell_type": "code",
      "metadata": {
        "id": "0px9_YjbvyO0"
      },
      "source": [
        "import tensorflow as tf\n",
        "#import tensorflow_text as tft\n",
        "import tensorflow_hub as tfh\n",
        "import pandas as pd\n",
        "import numpy as np\n",
        "import seaborn as sns\n",
        "import matplotlib.pyplot as plt"
      ],
      "execution_count": null,
      "outputs": []
    },
    {
      "cell_type": "code",
      "metadata": {
        "id": "8SDAA6v9vyXU"
      },
      "source": [
        "data = pd.read_excel('/content/drive/MyDrive/chatbot-data.xlsx')"
      ],
      "execution_count": null,
      "outputs": []
    },
    {
      "cell_type": "code",
      "metadata": {
        "id": "A9p6A3e7vyb0"
      },
      "source": [
        "#text preprocessor for bert based models\n",
        "preprocessor = tfh.KerasLayer('https://tfhub.dev/google/universal-sentence-encoder-cmlm/multilingual-preprocess/2')\n",
        "#Language Agnostic BERT sentence encoder\n",
        "model = tfh.KerasLayer('https://tfhub.dev/google/LaBSE/2')"
      ],
      "execution_count": null,
      "outputs": []
    },
    {
      "cell_type": "code",
      "metadata": {
        "colab": {
          "base_uri": "https://localhost:8080/"
        },
        "id": "-Od2WTG1vygQ",
        "outputId": "e428f835-88ef-4ebb-8de1-889f61a36d1e"
      },
      "source": [
        "data.info(verbose=True)"
      ],
      "execution_count": null,
      "outputs": [
        {
          "output_type": "stream",
          "text": [
            "<class 'pandas.core.frame.DataFrame'>\n",
            "RangeIndex: 208 entries, 0 to 207\n",
            "Data columns (total 6 columns):\n",
            " #   Column                 Non-Null Count  Dtype \n",
            "---  ------                 --------------  ----- \n",
            " 0   tekst_pitanja          208 non-null    object\n",
            " 1   vrsta_akcije           208 non-null    object\n",
            " 2   namjera                208 non-null    object\n",
            " 3   namjera_02             208 non-null    object\n",
            " 4   eng_google_translator  208 non-null    object\n",
            " 5   eng_human_translation  208 non-null    object\n",
            "dtypes: object(6)\n",
            "memory usage: 9.9+ KB\n"
          ],
          "name": "stdout"
        }
      ]
    },
    {
      "cell_type": "code",
      "metadata": {
        "id": "adIFwm_1vykL"
      },
      "source": [
        "#text -> hrvatski text\n",
        "#action -> vrsta akcije (ne koristim ovdje)\n",
        "#intent -> 3 classes of intents\n",
        "#intetn -> 5 classes of intents\n",
        "#g_translation -> translation hr->eng using google translator\n",
        "#h_translation -> translation hr->eng manualy   \n",
        "columns = ['text', 'action', 'intent', 'intent02', 'g_translation', 'h_translation']\n",
        "data.columns = columns"
      ],
      "execution_count": null,
      "outputs": []
    },
    {
      "cell_type": "code",
      "metadata": {
        "id": "AQpmWDh6vypW"
      },
      "source": [
        "#creating out of domain category\n",
        "data['intent02'][data['intent02']=='studomat_problemi'] = 'OOD'\n",
        "data['intent02'][data['intent02']=='status_studenta'] = 'OOD'"
      ],
      "execution_count": null,
      "outputs": []
    },
    {
      "cell_type": "code",
      "metadata": {
        "id": "snUmYxtDvysD"
      },
      "source": [
        "data['intent02'] = data['intent02'].astype('category')\n",
        "data['intent_codes'] = data['intent02'].cat.codes"
      ],
      "execution_count": null,
      "outputs": []
    },
    {
      "cell_type": "code",
      "metadata": {
        "colab": {
          "base_uri": "https://localhost:8080/",
          "height": 283
        },
        "id": "uYuWGuh-vyvb",
        "outputId": "845e3146-e6ca-489f-d0bb-110f5390cc90"
      },
      "source": [
        "values = data['intent02'].value_counts()\n",
        "plt.stem(values)"
      ],
      "execution_count": null,
      "outputs": [
        {
          "output_type": "execute_result",
          "data": {
            "text/plain": [
              "<StemContainer object of 3 artists>"
            ]
          },
          "metadata": {},
          "execution_count": 6
        },
        {
          "output_type": "display_data",
          "data": {
            "image/png": "[encoded data removed]",
            "text/plain": [
              "<Figure size 432x288 with 1 Axes>"
            ]
          },
          "metadata": {
            "needs_background": "light"
          }
        }
      ]
    },
    {
      "cell_type": "code",
      "metadata": {
        "id": "YEeAgAzLlpbC",
        "colab": {
          "base_uri": "https://localhost:8080/"
        },
        "outputId": "c1405c94-74a6-4e2d-e3ed-5a07ff22ddf1"
      },
      "source": [
        "upis_data = data[data['intent02']=='upis_na_sveuciliste']\n",
        "upis_data = upis_data.sample(frac=1, random_state=1234)\n",
        "upis_data = upis_data.sample(40)\n",
        "upis_data.info()"
      ],
      "execution_count": null,
      "outputs": [
        {
          "output_type": "stream",
          "text": [
            "<class 'pandas.core.frame.DataFrame'>\n",
            "Int64Index: 40 entries, 21 to 1\n",
            "Data columns (total 7 columns):\n",
            " #   Column         Non-Null Count  Dtype   \n",
            "---  ------         --------------  -----   \n",
            " 0   text           40 non-null     object  \n",
            " 1   action         40 non-null     object  \n",
            " 2   intent         40 non-null     object  \n",
            " 3   intent02       40 non-null     category\n",
            " 4   g_translation  40 non-null     object  \n",
            " 5   h_translation  40 non-null     object  \n",
            " 6   intent_codes   40 non-null     int8    \n",
            "dtypes: category(1), int8(1), object(5)\n",
            "memory usage: 2.1+ KB\n"
          ],
          "name": "stdout"
        }
      ]
    },
    {
      "cell_type": "code",
      "metadata": {
        "colab": {
          "base_uri": "https://localhost:8080/"
        },
        "id": "QLV4-XZflqeq",
        "outputId": "7830a062-ff70-49b7-8a02-696cc3b9aa69"
      },
      "source": [
        "ood_data = data[data['intent02']=='OOD']\n",
        "ood_data = ood_data.sample(frac=1, random_state=1234)\n",
        "ood_data = ood_data.sample(40)\n",
        "ood_data.info()"
      ],
      "execution_count": null,
      "outputs": [
        {
          "output_type": "stream",
          "text": [
            "<class 'pandas.core.frame.DataFrame'>\n",
            "Int64Index: 40 entries, 28 to 41\n",
            "Data columns (total 7 columns):\n",
            " #   Column         Non-Null Count  Dtype   \n",
            "---  ------         --------------  -----   \n",
            " 0   text           40 non-null     object  \n",
            " 1   action         40 non-null     object  \n",
            " 2   intent         40 non-null     object  \n",
            " 3   intent02       40 non-null     category\n",
            " 4   g_translation  40 non-null     object  \n",
            " 5   h_translation  40 non-null     object  \n",
            " 6   intent_codes   40 non-null     int8    \n",
            "dtypes: category(1), int8(1), object(5)\n",
            "memory usage: 2.1+ KB\n"
          ],
          "name": "stdout"
        }
      ]
    },
    {
      "cell_type": "code",
      "metadata": {
        "colab": {
          "base_uri": "https://localhost:8080/"
        },
        "id": "yeO5grrblqj3",
        "outputId": "a1742531-730d-4bab-fdd1-a0d9a20542da"
      },
      "source": [
        "data2 = data[(data['intent02'] != 'OOD') & (data['intent02'] != 'upis_na_sveuciliste')]\n",
        "data2.info()"
      ],
      "execution_count": null,
      "outputs": [
        {
          "output_type": "stream",
          "text": [
            "<class 'pandas.core.frame.DataFrame'>\n",
            "Int64Index: 98 entries, 54 to 207\n",
            "Data columns (total 7 columns):\n",
            " #   Column         Non-Null Count  Dtype   \n",
            "---  ------         --------------  -----   \n",
            " 0   text           98 non-null     object  \n",
            " 1   action         98 non-null     object  \n",
            " 2   intent         98 non-null     object  \n",
            " 3   intent02       98 non-null     category\n",
            " 4   g_translation  98 non-null     object  \n",
            " 5   h_translation  98 non-null     object  \n",
            " 6   intent_codes   98 non-null     int8    \n",
            "dtypes: category(1), int8(1), object(5)\n",
            "memory usage: 5.0+ KB\n"
          ],
          "name": "stdout"
        }
      ]
    },
    {
      "cell_type": "code",
      "metadata": {
        "id": "b3ggX0Xclqnr"
      },
      "source": [
        "data2 = data2.append(upis_data, ignore_index=True)\n",
        "data2 = data2.append(ood_data, ignore_index=True)"
      ],
      "execution_count": null,
      "outputs": []
    },
    {
      "cell_type": "code",
      "metadata": {
        "colab": {
          "base_uri": "https://localhost:8080/",
          "height": 283
        },
        "id": "-VAxT_U1Aavj",
        "outputId": "41ec9069-f868-4d83-c605-1d676e6b29e0"
      },
      "source": [
        "values = data2['intent02'].value_counts()\n",
        "plt.stem(values)"
      ],
      "execution_count": null,
      "outputs": [
        {
          "output_type": "execute_result",
          "data": {
            "text/plain": [
              "<StemContainer object of 3 artists>"
            ]
          },
          "metadata": {},
          "execution_count": 11
        },
        {
          "output_type": "display_data",
          "data": {
            "image/png": "[encoded data removed]",
            "text/plain": [
              "<Figure size 432x288 with 1 Axes>"
            ]
          },
          "metadata": {
            "needs_background": "light"
          }
        }
      ]
    },
    {
      "cell_type": "code",
      "metadata": {
        "id": "Ci-zXPoelqrz"
      },
      "source": [
        "data = data2"
      ],
      "execution_count": null,
      "outputs": []
    },
    {
      "cell_type": "code",
      "metadata": {
        "colab": {
          "base_uri": "https://localhost:8080/",
          "height": 770
        },
        "id": "2ILv17gZaPfT",
        "outputId": "46e533a9-6f36-4438-94a6-aae91f4dbf3f"
      },
      "source": [
        "bars = data2['intent02'].unique()\n",
        "height = data2['intent02'].value_counts()\n",
        "\n",
        "plt.figure(figsize=(15, 12))\n",
        "#plt.subplots_adjust(top=10)\n",
        "plt.gca().spines['top'].set_color('none')\n",
        "plt.gca().spines['right'].set_color('none')\n",
        "\n",
        "\n",
        "plt.bar(data2['intent02'].unique(), data2['intent02'].value_counts(), color='yellow')\n",
        "plt.grid(True, axis='y')\n",
        "# Rotation of the bar names\n",
        "plt.xticks(bars, rotation=90, fontsize=15)\n",
        "plt.yticks(fontsize=15)\n",
        " \n",
        "# Custom the subplot layout\n",
        "plt.subplots_adjust(bottom=0.4, top=0.99)\n",
        "\n",
        "for index,data in enumerate(height):\n",
        "    plt.text(x=index-0.15 , y =data+1 , s=f\"{data}\" , fontdict=dict(fontsize=15))\n",
        "\n",
        "\n",
        "# Show graphic\n",
        "plt.show()"
      ],
      "execution_count": null,
      "outputs": [
        {
          "output_type": "display_data",
          "data": {
            "image/png": "[encoded data removed]",
            "text/plain": [
              "<Figure size 1080x864 with 1 Axes>"
            ]
          },
          "metadata": {
            "needs_background": "light"
          }
        }
      ]
    },
    {
      "cell_type": "code",
      "metadata": {
        "id": "xgS0Kx8vaPkY"
      },
      "source": [
        "import seaborn as sns"
      ],
      "execution_count": null,
      "outputs": []
    },
    {
      "cell_type": "code",
      "metadata": {
        "colab": {
          "base_uri": "https://localhost:8080/",
          "height": 393
        },
        "id": "r7flIpLt1bz_",
        "outputId": "f292b3f2-404e-4e6f-9d3e-60a3b368d231"
      },
      "source": [
        "font_s = 25\n",
        "sns.set_style(\"darkgrid\")\n",
        "hist = sns.catplot(y=\"intent02\", \n",
        "                   kind=\"count\", \n",
        "                   color=\"#9DB9F1\",\n",
        "                   alpha=0.9,\n",
        "                   data=data2,\n",
        "                   order=data2['intent02'].value_counts().index)\n",
        "hist.fig.set_size_inches(20, 4.8)\n",
        "hist.set_xticklabels(fontsize=font_s)\n",
        "hist.set_yticklabels(fontsize=font_s)\n",
        "hist.set(xlabel='Iznos', ylabel=None)\n",
        "hist.set_xlabels(label='Iznos', fontsize=font_s-5)\n",
        "\n",
        "ax = hist.facet_axis(0, 0)\n",
        "\n",
        "for c in ax.containers:\n",
        "    labels = [f'{(v.get_width())}' for v in c]\n",
        "    ax.bar_label(c, labels=labels, label_type='edge', fontsize=font_s)\n"
      ],
      "execution_count": null,
      "outputs": [
        {
          "output_type": "display_data",
          "data": {
            "image/png": "[encoded data removed]",
            "text/plain": [
              "<Figure size 1440x345.6 with 1 Axes>"
            ]
          },
          "metadata": {}
        }
      ]
    },
    {
      "cell_type": "code",
      "metadata": {
        "colab": {
          "base_uri": "https://localhost:8080/"
        },
        "id": "WUFdCKJvaPs0",
        "outputId": "2d104935-a621-4f43-f842-8304f1cdbaf0"
      },
      "source": [
        "data2['intent02'].value_counts()"
      ],
      "execution_count": null,
      "outputs": [
        {
          "output_type": "execute_result",
          "data": {
            "text/plain": [
              "prijava_zavrsnog               42\n",
              "upis_na_sveuciliste            40\n",
              "OOD                            40\n",
              "prijava_diplomskog             37\n",
              "prijava_zavrsnog_diplomskog    19\n",
              "Name: intent02, dtype: int64"
            ]
          },
          "metadata": {},
          "execution_count": 92
        }
      ]
    },
    {
      "cell_type": "markdown",
      "metadata": {
        "id": "l4-OajOh0i7v"
      },
      "source": [
        "# Train - Validation split"
      ]
    },
    {
      "cell_type": "code",
      "metadata": {
        "id": "C2HAzfrD018T"
      },
      "source": [
        "codes = data['intent_codes'].unique()"
      ],
      "execution_count": null,
      "outputs": []
    },
    {
      "cell_type": "code",
      "metadata": {
        "id": "JTNHDkiPvyzV"
      },
      "source": [
        "#train - validation split\n",
        "#TODO fixed validation split\n",
        "validation_data = pd.DataFrame(columns=data.columns)\n",
        "train_data = pd.DataFrame(columns=data.columns)\n",
        "for c in codes:\n",
        "  sample = data[data['intent_codes']==c]\n",
        "  sample = sample.sample(frac=1)\n",
        "  val = sample.sample(frac=0.2)\n",
        "  train = pd.concat([sample, val]).drop_duplicates(keep=False)\n",
        "  validation_data = validation_data.append(val, ignore_index=True)\n",
        "  train_data = train_data.append(train, ignore_index=True)"
      ],
      "execution_count": null,
      "outputs": []
    },
    {
      "cell_type": "code",
      "metadata": {
        "colab": {
          "base_uri": "https://localhost:8080/"
        },
        "id": "tBaCyB9Yvy26",
        "outputId": "c7df3207-539d-4ac0-ded4-9fb6532eb0d1"
      },
      "source": [
        "validation_data['intent02'].value_counts()"
      ],
      "execution_count": null,
      "outputs": [
        {
          "output_type": "execute_result",
          "data": {
            "text/plain": [
              "upis_na_sveuciliste            8\n",
              "prijava_zavrsnog               8\n",
              "OOD                            8\n",
              "prijava_diplomskog             7\n",
              "prijava_zavrsnog_diplomskog    4\n",
              "Name: intent02, dtype: int64"
            ]
          },
          "metadata": {},
          "execution_count": 29
        }
      ]
    },
    {
      "cell_type": "code",
      "metadata": {
        "colab": {
          "base_uri": "https://localhost:8080/"
        },
        "id": "ICCae6Gi07uM",
        "outputId": "3076a685-0b70-4115-8566-e560628cbbec"
      },
      "source": [
        "train_data['intent02'].value_counts()"
      ],
      "execution_count": null,
      "outputs": [
        {
          "output_type": "execute_result",
          "data": {
            "text/plain": [
              "prijava_zavrsnog               34\n",
              "upis_na_sveuciliste            32\n",
              "OOD                            32\n",
              "prijava_diplomskog             30\n",
              "prijava_zavrsnog_diplomskog    15\n",
              "Name: intent02, dtype: int64"
            ]
          },
          "metadata": {},
          "execution_count": 30
        }
      ]
    },
    {
      "cell_type": "markdown",
      "metadata": {
        "id": "B4Z5f3pD1Lna"
      },
      "source": [
        "# Split by language and dataframe to dataset transformation"
      ]
    },
    {
      "cell_type": "code",
      "metadata": {
        "id": "28JN_y-S2ImC"
      },
      "source": [
        "train_data.head()"
      ],
      "execution_count": null,
      "outputs": []
    },
    {
      "cell_type": "code",
      "metadata": {
        "id": "N0DJe2sc1P8h"
      },
      "source": [
        "#google translation data\n",
        "train_data_eng = train_data[['g_translation', 'intent_codes']]\n",
        "validation_data_eng = validation_data[['g_translation', 'intent_codes']]\n",
        "train_data_eng.columns = ['text', 'intent_codes']\n",
        "validation_data_eng.columns = ['text', 'intent_codes']\n",
        "#croatian data\n",
        "train_data_hr = train_data[['text', 'intent_codes']]\n",
        "validation_data_hr = validation_data[['text', 'intent_codes']]\n",
        "train_data_hr.columns = ['text', 'intent_codes']\n",
        "validation_data_hr.columns = ['text', 'intent_codes']\n",
        "#human translation data\n",
        "train_data_human = train_data[['h_translation', 'intent_codes']]\n",
        "validation_data_human = validation_data[['h_translation', 'intent_codes']]\n",
        "train_data_human.columns = ['text', 'intent_codes']\n",
        "validation_data_human.columns = ['text', 'intent_codes']\n",
        "#google translation + croatian data\n",
        "train_data_eng_hr = train_data_eng.append(train_data_hr, ignore_index = True)\n",
        "validation_data_eng_hr = validation_data_eng.append(validation_data_hr, ignore_index = True)\n",
        "\n",
        "#human translation + croatian data\n",
        "train_data_human_hr = train_data_human.append(train_data_hr, ignore_index = True)\n",
        "validation_data_human_hr = validation_data_human.append(validation_data_hr, ignore_index = True)\n"
      ],
      "execution_count": null,
      "outputs": []
    },
    {
      "cell_type": "code",
      "metadata": {
        "id": "4mbwGey11QlU"
      },
      "source": [
        "def df_to_dataset(df, shuffle=True, batch_size=16):\n",
        "  df = df.copy()\n",
        "  labels = df.pop('intent_codes')\n",
        "  lables_cat = tf.keras.utils.to_categorical(labels, 5)\n",
        "  dataset = tf.data.Dataset.from_tensor_slices((dict(df), lables_cat))\n",
        "  if shuffle:\n",
        "    dataset = dataset.shuffle(buffer_size=len(df))\n",
        "  dataset = dataset.batch(batch_size).prefetch(batch_size)\n",
        "  return dataset"
      ],
      "execution_count": null,
      "outputs": []
    },
    {
      "cell_type": "code",
      "metadata": {
        "id": "M7yGeV-D1Qoc"
      },
      "source": [
        "train_data_eng = df_to_dataset(train_data_eng)\n",
        "validation_data_eng = df_to_dataset(validation_data_eng)\n",
        "\n",
        "train_data_hr = df_to_dataset(train_data_hr)\n",
        "validation_data_hr = df_to_dataset(validation_data_hr)\n",
        "\n",
        "train_data_human = df_to_dataset(train_data_human)\n",
        "validation_data_human = df_to_dataset(validation_data_human)\n",
        "\n",
        "train_data_eng_hr = df_to_dataset(train_data_eng_hr)\n",
        "validation_data_eng_hr = df_to_dataset(validation_data_eng_hr)\n",
        "\n",
        "train_data_human_hr = df_to_dataset(train_data_human_hr)\n",
        "validation_data_human_hr = df_to_dataset(validation_data_human_hr)"
      ],
      "execution_count": null,
      "outputs": []
    },
    {
      "cell_type": "markdown",
      "metadata": {
        "id": "X86L7Hd_6r5E"
      },
      "source": [
        "# Model"
      ]
    },
    {
      "cell_type": "code",
      "metadata": {
        "id": "WIu3Efom57HF"
      },
      "source": [
        "def model_build():\n",
        "  inputs = tf.keras.layers.Input(shape=(), dtype=tf.string, name='text')\n",
        "  encoded_input = preprocessor(inputs)\n",
        "  encoder_outputs = model(encoded_input)\n",
        "  x = encoder_outputs['pooled_output']\n",
        "  x = tf.keras.layers.Dropout(0.1)(x)\n",
        "  x = tf.keras.layers.Dense(128, activation='relu')(x)\n",
        "  x = tf.keras.layers.Dropout(0.7)(x)\n",
        "  outputs = tf.keras.layers.Dense(5, activation='softmax', name='classifier')(x)\n",
        "  return tf.keras.Model(inputs, outputs)"
      ],
      "execution_count": null,
      "outputs": []
    },
    {
      "cell_type": "code",
      "metadata": {
        "colab": {
          "base_uri": "https://localhost:8080/"
        },
        "id": "EVyqj8h0lFME",
        "outputId": "7b100124-e015-421d-d07a-01483a0b6b36"
      },
      "source": [
        "model_test = model_build()\n",
        "model_test.summary()"
      ],
      "execution_count": null,
      "outputs": [
        {
          "output_type": "stream",
          "text": [
            "Model: \"model\"\n",
            "__________________________________________________________________________________________________\n",
            "Layer (type)                    Output Shape         Param #     Connected to                     \n",
            "==================================================================================================\n",
            "text (InputLayer)               [(None,)]            0                                            \n",
            "__________________________________________________________________________________________________\n",
            "keras_layer (KerasLayer)        {'input_type_ids': ( 0           text[0][0]                       \n",
            "__________________________________________________________________________________________________\n",
            "keras_layer_1 (KerasLayer)      {'pooled_output': (N 470926849   keras_layer[0][0]                \n",
            "                                                                 keras_layer[0][1]                \n",
            "                                                                 keras_layer[0][2]                \n",
            "__________________________________________________________________________________________________\n",
            "dropout (Dropout)               (None, 768)          0           keras_layer_1[0][13]             \n",
            "__________________________________________________________________________________________________\n",
            "dense (Dense)                   (None, 128)          98432       dropout[0][0]                    \n",
            "__________________________________________________________________________________________________\n",
            "dropout_1 (Dropout)             (None, 128)          0           dense[0][0]                      \n",
            "__________________________________________________________________________________________________\n",
            "classifier (Dense)              (None, 5)            645         dropout_1[0][0]                  \n",
            "==================================================================================================\n",
            "Total params: 471,025,926\n",
            "Trainable params: 99,077\n",
            "Non-trainable params: 470,926,849\n",
            "__________________________________________________________________________________________________\n"
          ],
          "name": "stdout"
        }
      ]
    },
    {
      "cell_type": "code",
      "metadata": {
        "colab": {
          "base_uri": "https://localhost:8080/"
        },
        "id": "08zeVswl57K1",
        "outputId": "cc2afa24-ac96-487a-936c-f3b6dcd80fb4"
      },
      "source": [
        "#MODEL ENG\n",
        "model_eng = model_build()\n",
        "model_eng.compile(\n",
        "    optimizer=tf.keras.optimizers.Adam(0.001),\n",
        "    loss = tf.keras.losses.CategoricalCrossentropy(from_logits=True),\n",
        "    metrics = tf.keras.metrics.CategoricalAccuracy()\n",
        ")\n",
        "\n",
        "eng_history = model_eng.fit(\n",
        "    train_data_eng,\n",
        "    epochs = 10,\n",
        "    batch_size = 16,\n",
        "    validation_data = validation_data_eng\n",
        ")"
      ],
      "execution_count": null,
      "outputs": [
        {
          "output_type": "stream",
          "text": [
            "Epoch 1/10\n"
          ],
          "name": "stdout"
        },
        {
          "output_type": "stream",
          "text": [
            "/usr/local/lib/python3.7/dist-packages/keras/backend.py:4847: UserWarning: \"`categorical_crossentropy` received `from_logits=True`, but the `output` argument was produced by a sigmoid or softmax activation and thus does not represent logits. Was this intended?\"\n",
            "  '\"`categorical_crossentropy` received `from_logits=True`, but '\n"
          ],
          "name": "stderr"
        },
        {
          "output_type": "stream",
          "text": [
            "9/9 [==============================] - 57s 6s/step - loss: 1.7941 - categorical_accuracy: 0.2937 - val_loss: 1.1410 - val_categorical_accuracy: 0.6571\n",
            "Epoch 2/10\n",
            "9/9 [==============================] - 53s 6s/step - loss: 1.1218 - categorical_accuracy: 0.5245 - val_loss: 0.7839 - val_categorical_accuracy: 0.9143\n",
            "Epoch 3/10\n",
            "9/9 [==============================] - 53s 6s/step - loss: 0.7997 - categorical_accuracy: 0.7273 - val_loss: 0.5646 - val_categorical_accuracy: 0.9429\n",
            "Epoch 4/10\n",
            "9/9 [==============================] - 53s 6s/step - loss: 0.6050 - categorical_accuracy: 0.8042 - val_loss: 0.4507 - val_categorical_accuracy: 0.9429\n",
            "Epoch 5/10\n",
            "9/9 [==============================] - 53s 6s/step - loss: 0.4349 - categorical_accuracy: 0.8741 - val_loss: 0.3949 - val_categorical_accuracy: 0.9143\n",
            "Epoch 6/10\n",
            "9/9 [==============================] - 53s 6s/step - loss: 0.3940 - categorical_accuracy: 0.8951 - val_loss: 0.3305 - val_categorical_accuracy: 0.9429\n",
            "Epoch 7/10\n",
            "9/9 [==============================] - 54s 6s/step - loss: 0.2881 - categorical_accuracy: 0.9371 - val_loss: 0.2939 - val_categorical_accuracy: 0.9143\n",
            "Epoch 8/10\n",
            "9/9 [==============================] - 54s 6s/step - loss: 0.1899 - categorical_accuracy: 0.9720 - val_loss: 0.2638 - val_categorical_accuracy: 0.9143\n",
            "Epoch 9/10\n",
            "9/9 [==============================] - 53s 6s/step - loss: 0.2514 - categorical_accuracy: 0.9441 - val_loss: 0.2404 - val_categorical_accuracy: 0.9143\n",
            "Epoch 10/10\n",
            "9/9 [==============================] - 53s 6s/step - loss: 0.2572 - categorical_accuracy: 0.9371 - val_loss: 0.2273 - val_categorical_accuracy: 0.9714\n"
          ],
          "name": "stdout"
        }
      ]
    },
    {
      "cell_type": "code",
      "metadata": {
        "colab": {
          "base_uri": "https://localhost:8080/"
        },
        "id": "lD9avEJa57Oz",
        "outputId": "72f6ddc8-f4de-4a5c-88ef-5e84f1983e9f"
      },
      "source": [
        "#MODEL HR\n",
        "model_hr = model_build()\n",
        "model_hr.compile(\n",
        "    optimizer=tf.keras.optimizers.Adam(0.001),\n",
        "    loss = tf.keras.losses.CategoricalCrossentropy(from_logits=True),\n",
        "    metrics = tf.keras.metrics.CategoricalAccuracy()\n",
        ")\n",
        "\n",
        "hr_history = model_hr.fit(\n",
        "    train_data_hr,\n",
        "    epochs = 8,\n",
        "    batch_size = 16,\n",
        "    validation_data = validation_data_hr\n",
        ")"
      ],
      "execution_count": null,
      "outputs": [
        {
          "output_type": "stream",
          "text": [
            "Epoch 1/8\n"
          ],
          "name": "stdout"
        },
        {
          "output_type": "stream",
          "text": [
            "/usr/local/lib/python3.7/dist-packages/keras/backend.py:4847: UserWarning: \"`categorical_crossentropy` received `from_logits=True`, but the `output` argument was produced by a sigmoid or softmax activation and thus does not represent logits. Was this intended?\"\n",
            "  '\"`categorical_crossentropy` received `from_logits=True`, but '\n"
          ],
          "name": "stderr"
        },
        {
          "output_type": "stream",
          "text": [
            "9/9 [==============================] - 56s 6s/step - loss: 1.8094 - categorical_accuracy: 0.3077 - val_loss: 1.1130 - val_categorical_accuracy: 0.6571\n",
            "Epoch 2/8\n",
            "9/9 [==============================] - 53s 6s/step - loss: 1.2131 - categorical_accuracy: 0.4895 - val_loss: 0.8263 - val_categorical_accuracy: 0.8000\n",
            "Epoch 3/8\n",
            "9/9 [==============================] - 53s 6s/step - loss: 0.8244 - categorical_accuracy: 0.6993 - val_loss: 0.6219 - val_categorical_accuracy: 0.9143\n",
            "Epoch 4/8\n",
            "9/9 [==============================] - 52s 6s/step - loss: 0.7495 - categorical_accuracy: 0.7552 - val_loss: 0.4866 - val_categorical_accuracy: 0.9429\n",
            "Epoch 5/8\n",
            "9/9 [==============================] - 52s 6s/step - loss: 0.5818 - categorical_accuracy: 0.8182 - val_loss: 0.4022 - val_categorical_accuracy: 0.9143\n",
            "Epoch 6/8\n",
            "9/9 [==============================] - 53s 6s/step - loss: 0.4415 - categorical_accuracy: 0.8531 - val_loss: 0.3474 - val_categorical_accuracy: 0.9429\n",
            "Epoch 7/8\n",
            "9/9 [==============================] - 52s 6s/step - loss: 0.3146 - categorical_accuracy: 0.9021 - val_loss: 0.2985 - val_categorical_accuracy: 0.9143\n",
            "Epoch 8/8\n",
            "9/9 [==============================] - 52s 6s/step - loss: 0.3778 - categorical_accuracy: 0.8671 - val_loss: 0.2648 - val_categorical_accuracy: 0.9143\n"
          ],
          "name": "stdout"
        }
      ]
    },
    {
      "cell_type": "code",
      "metadata": {
        "id": "uVIyQek357Sf",
        "colab": {
          "base_uri": "https://localhost:8080/"
        },
        "outputId": "be210474-3899-4feb-c248-2cd442becec0"
      },
      "source": [
        "#MODEL HUMAN\n",
        "model_human = model_build()\n",
        "model_human.compile(\n",
        "    optimizer=tf.keras.optimizers.Adam(0.001),\n",
        "    loss = tf.keras.losses.CategoricalCrossentropy(from_logits=True),\n",
        "    metrics = tf.keras.metrics.CategoricalAccuracy()\n",
        ")\n",
        "\n",
        "human_history = model_human.fit(\n",
        "    train_data_human,\n",
        "    epochs = 8,\n",
        "    batch_size = 16,\n",
        "    validation_data = validation_data_human\n",
        ")"
      ],
      "execution_count": null,
      "outputs": [
        {
          "output_type": "stream",
          "text": [
            "Epoch 1/8\n"
          ],
          "name": "stdout"
        },
        {
          "output_type": "stream",
          "text": [
            "/usr/local/lib/python3.7/dist-packages/keras/backend.py:4847: UserWarning: \"`categorical_crossentropy` received `from_logits=True`, but the `output` argument was produced by a sigmoid or softmax activation and thus does not represent logits. Was this intended?\"\n",
            "  '\"`categorical_crossentropy` received `from_logits=True`, but '\n"
          ],
          "name": "stderr"
        },
        {
          "output_type": "stream",
          "text": [
            "9/9 [==============================] - 55s 6s/step - loss: 1.6177 - categorical_accuracy: 0.3077 - val_loss: 0.8812 - val_categorical_accuracy: 0.8286\n",
            "Epoch 2/8\n",
            "9/9 [==============================] - 52s 6s/step - loss: 0.9931 - categorical_accuracy: 0.6294 - val_loss: 0.5706 - val_categorical_accuracy: 0.8571\n",
            "Epoch 3/8\n",
            "9/9 [==============================] - 52s 6s/step - loss: 0.7052 - categorical_accuracy: 0.7762 - val_loss: 0.4209 - val_categorical_accuracy: 0.8571\n",
            "Epoch 4/8\n",
            "9/9 [==============================] - 52s 6s/step - loss: 0.4930 - categorical_accuracy: 0.8462 - val_loss: 0.3203 - val_categorical_accuracy: 0.9143\n",
            "Epoch 5/8\n",
            "9/9 [==============================] - 52s 6s/step - loss: 0.3935 - categorical_accuracy: 0.8881 - val_loss: 0.2709 - val_categorical_accuracy: 0.9143\n",
            "Epoch 6/8\n",
            "9/9 [==============================] - 52s 6s/step - loss: 0.2536 - categorical_accuracy: 0.9371 - val_loss: 0.2439 - val_categorical_accuracy: 0.9143\n",
            "Epoch 7/8\n",
            "9/9 [==============================] - 52s 6s/step - loss: 0.3093 - categorical_accuracy: 0.8951 - val_loss: 0.2166 - val_categorical_accuracy: 0.9143\n",
            "Epoch 8/8\n",
            "9/9 [==============================] - 52s 6s/step - loss: 0.2409 - categorical_accuracy: 0.9580 - val_loss: 0.1982 - val_categorical_accuracy: 0.9429\n"
          ],
          "name": "stdout"
        }
      ]
    },
    {
      "cell_type": "code",
      "metadata": {
        "id": "U7E7omqq7D40",
        "colab": {
          "base_uri": "https://localhost:8080/"
        },
        "outputId": "b8d929a0-3dce-4224-bd0a-43b9304e32df"
      },
      "source": [
        "#MODEL ENG+HR\n",
        "model_eng_hr = model_build()\n",
        "model_eng_hr.compile(\n",
        "    optimizer=tf.keras.optimizers.Adam(0.001),\n",
        "    loss = tf.keras.losses.CategoricalCrossentropy(from_logits=True),\n",
        "    metrics = tf.keras.metrics.CategoricalAccuracy()\n",
        ")\n",
        "\n",
        "eng_hr_history = model_eng_hr.fit(\n",
        "    train_data_eng_hr,\n",
        "    epochs = 10,\n",
        "    batch_size = 16,\n",
        "    validation_data = validation_data_eng_hr\n",
        ")"
      ],
      "execution_count": null,
      "outputs": [
        {
          "output_type": "stream",
          "text": [
            "Epoch 1/10\n"
          ],
          "name": "stdout"
        },
        {
          "output_type": "stream",
          "text": [
            "/usr/local/lib/python3.7/dist-packages/keras/backend.py:4847: UserWarning: \"`categorical_crossentropy` received `from_logits=True`, but the `output` argument was produced by a sigmoid or softmax activation and thus does not represent logits. Was this intended?\"\n",
            "  '\"`categorical_crossentropy` received `from_logits=True`, but '\n"
          ],
          "name": "stderr"
        },
        {
          "output_type": "stream",
          "text": [
            "18/18 [==============================] - 108s 6s/step - loss: 1.5901 - categorical_accuracy: 0.3706 - val_loss: 0.8617 - val_categorical_accuracy: 0.7429\n",
            "Epoch 2/10\n",
            "18/18 [==============================] - 104s 6s/step - loss: 0.7684 - categorical_accuracy: 0.7413 - val_loss: 0.4815 - val_categorical_accuracy: 0.9143\n",
            "Epoch 3/10\n",
            "18/18 [==============================] - 104s 6s/step - loss: 0.5412 - categorical_accuracy: 0.8462 - val_loss: 0.3616 - val_categorical_accuracy: 0.8857\n",
            "Epoch 4/10\n",
            "18/18 [==============================] - 105s 6s/step - loss: 0.3682 - categorical_accuracy: 0.8916 - val_loss: 0.2899 - val_categorical_accuracy: 0.9000\n",
            "Epoch 5/10\n",
            "18/18 [==============================] - 104s 6s/step - loss: 0.3026 - categorical_accuracy: 0.9056 - val_loss: 0.2550 - val_categorical_accuracy: 0.9000\n",
            "Epoch 6/10\n",
            "18/18 [==============================] - 103s 6s/step - loss: 0.2398 - categorical_accuracy: 0.9266 - val_loss: 0.2452 - val_categorical_accuracy: 0.9000\n",
            "Epoch 7/10\n",
            "18/18 [==============================] - 104s 6s/step - loss: 0.2273 - categorical_accuracy: 0.9266 - val_loss: 0.2258 - val_categorical_accuracy: 0.9286\n",
            "Epoch 8/10\n",
            "18/18 [==============================] - 104s 6s/step - loss: 0.1783 - categorical_accuracy: 0.9510 - val_loss: 0.2195 - val_categorical_accuracy: 0.9143\n",
            "Epoch 9/10\n",
            "18/18 [==============================] - 103s 6s/step - loss: 0.1792 - categorical_accuracy: 0.9510 - val_loss: 0.2196 - val_categorical_accuracy: 0.9143\n",
            "Epoch 10/10\n",
            "18/18 [==============================] - 104s 6s/step - loss: 0.1451 - categorical_accuracy: 0.9510 - val_loss: 0.2093 - val_categorical_accuracy: 0.9143\n"
          ],
          "name": "stdout"
        }
      ]
    },
    {
      "cell_type": "code",
      "metadata": {
        "id": "1oySphkH7D-h",
        "colab": {
          "base_uri": "https://localhost:8080/"
        },
        "outputId": "9cf536c6-9444-408d-cb5b-52e590c0f57f"
      },
      "source": [
        "#MODEL HUMAN+HR\n",
        "model_human_hr = model_build()\n",
        "model_human_hr.compile(\n",
        "    optimizer=tf.keras.optimizers.Adam(0.001),\n",
        "    loss = tf.keras.losses.CategoricalCrossentropy(from_logits=True),\n",
        "    metrics = tf.keras.metrics.CategoricalAccuracy()\n",
        ")\n",
        "\n",
        "human_hr_history = model_human_hr.fit(\n",
        "    train_data_human_hr,\n",
        "    epochs = 10,\n",
        "    batch_size = 16,\n",
        "    validation_data = validation_data_human_hr\n",
        ")"
      ],
      "execution_count": null,
      "outputs": [
        {
          "output_type": "stream",
          "text": [
            "Epoch 1/10\n"
          ],
          "name": "stdout"
        },
        {
          "output_type": "stream",
          "text": [
            "/usr/local/lib/python3.7/dist-packages/keras/backend.py:4847: UserWarning: \"`categorical_crossentropy` received `from_logits=True`, but the `output` argument was produced by a sigmoid or softmax activation and thus does not represent logits. Was this intended?\"\n",
            "  '\"`categorical_crossentropy` received `from_logits=True`, but '\n"
          ],
          "name": "stderr"
        },
        {
          "output_type": "stream",
          "text": [
            "18/18 [==============================] - 107s 6s/step - loss: 1.5847 - categorical_accuracy: 0.3846 - val_loss: 0.8184 - val_categorical_accuracy: 0.8286\n",
            "Epoch 2/10\n",
            "18/18 [==============================] - 105s 6s/step - loss: 0.8407 - categorical_accuracy: 0.6853 - val_loss: 0.4954 - val_categorical_accuracy: 0.9143\n",
            "Epoch 3/10\n",
            "18/18 [==============================] - 104s 6s/step - loss: 0.5390 - categorical_accuracy: 0.8182 - val_loss: 0.3283 - val_categorical_accuracy: 0.9143\n",
            "Epoch 4/10\n",
            "18/18 [==============================] - 104s 6s/step - loss: 0.3345 - categorical_accuracy: 0.9091 - val_loss: 0.2580 - val_categorical_accuracy: 0.9000\n",
            "Epoch 5/10\n",
            "18/18 [==============================] - 104s 6s/step - loss: 0.3393 - categorical_accuracy: 0.8776 - val_loss: 0.2167 - val_categorical_accuracy: 0.9429\n",
            "Epoch 6/10\n",
            "18/18 [==============================] - 104s 6s/step - loss: 0.2907 - categorical_accuracy: 0.9196 - val_loss: 0.1944 - val_categorical_accuracy: 0.9429\n",
            "Epoch 7/10\n",
            "18/18 [==============================] - 104s 6s/step - loss: 0.2289 - categorical_accuracy: 0.9301 - val_loss: 0.2079 - val_categorical_accuracy: 0.9143\n",
            "Epoch 8/10\n",
            "18/18 [==============================] - 104s 6s/step - loss: 0.2350 - categorical_accuracy: 0.9406 - val_loss: 0.2065 - val_categorical_accuracy: 0.9286\n",
            "Epoch 9/10\n",
            "18/18 [==============================] - 105s 6s/step - loss: 0.1600 - categorical_accuracy: 0.9510 - val_loss: 0.2001 - val_categorical_accuracy: 0.9143\n",
            "Epoch 10/10\n",
            "18/18 [==============================] - 105s 6s/step - loss: 0.1613 - categorical_accuracy: 0.9650 - val_loss: 0.2146 - val_categorical_accuracy: 0.9143\n"
          ],
          "name": "stdout"
        }
      ]
    },
    {
      "cell_type": "markdown",
      "metadata": {
        "id": "uE284w9XWdGN"
      },
      "source": [
        "# Text preprocessing"
      ]
    },
    {
      "cell_type": "code",
      "metadata": {
        "id": "JhnQy4t77ETl",
        "colab": {
          "base_uri": "https://localhost:8080/"
        },
        "outputId": "b690225e-84ae-483d-ef9b-bedfd2e02d19"
      },
      "source": [
        "import string\n",
        "import re\n",
        "import nltk\n",
        "nltk.download('stopwords')\n",
        "nltk.download('wordnet')\n",
        "from nltk.stem.porter import PorterStemmer\n",
        "from nltk.stem import WordNetLemmatizer"
      ],
      "execution_count": null,
      "outputs": [
        {
          "output_type": "stream",
          "text": [
            "[nltk_data] Downloading package stopwords to /root/nltk_data...\n",
            "[nltk_data]   Unzipping corpora/stopwords.zip.\n",
            "[nltk_data] Downloading package wordnet to /root/nltk_data...\n",
            "[nltk_data]   Unzipping corpora/wordnet.zip.\n"
          ],
          "name": "stdout"
        }
      ]
    },
    {
      "cell_type": "code",
      "metadata": {
        "id": "X2nix_nE7EXl"
      },
      "source": [
        "def remove_punctuation(text):\n",
        "    punctuationfree=\"\".join([i for i in text if i not in string.punctuation])\n",
        "    return punctuationfree\n",
        "\n",
        "def tokenization(text):\n",
        "    tokens = re.split(r\"\\s+\",text)\n",
        "    return tokens\n",
        "\n",
        "stopwords = nltk.corpus.stopwords.words('english')\n",
        "def remove_stopwords(text):\n",
        "    output= [i for i in text if i not in stopwords]\n",
        "    return output\n",
        "\n",
        "porter_stemmer = PorterStemmer()\n",
        "def stemming(text):\n",
        "    stem_text = [porter_stemmer.stem(word) for word in text]\n",
        "    return stem_text\n",
        "\n",
        "wordnet_lemmatizer = WordNetLemmatizer()\n",
        "def lemmatizer(text):\n",
        "    lemm_text = [wordnet_lemmatizer.lemmatize(word) for word in text]\n",
        "    return lemm_text"
      ],
      "execution_count": null,
      "outputs": []
    },
    {
      "cell_type": "code",
      "metadata": {
        "id": "e_Xu6-Nr7Eas",
        "colab": {
          "base_uri": "https://localhost:8080/",
          "height": 328
        },
        "outputId": "b179df1f-0324-4c65-afb8-902af1d7e0a4"
      },
      "source": [
        "#remove punctuations\n",
        "data['h_translation']= data['h_translation'].apply(lambda x:remove_punctuation(x))\n",
        "data['text'] = data['text'].apply(lambda x:remove_punctuation(x))\n",
        "data.head()"
      ],
      "execution_count": null,
      "outputs": [
        {
          "output_type": "execute_result",
          "data": {
            "text/html": [
              "<div>\n",
              "<style scoped>\n",
              "    .dataframe tbody tr th:only-of-type {\n",
              "        vertical-align: middle;\n",
              "    }\n",
              "\n",
              "    .dataframe tbody tr th {\n",
              "        vertical-align: top;\n",
              "    }\n",
              "\n",
              "    .dataframe thead th {\n",
              "        text-align: right;\n",
              "    }\n",
              "</style>\n",
              "<table border=\"1\" class=\"dataframe\">\n",
              "  <thead>\n",
              "    <tr style=\"text-align: right;\">\n",
              "      <th></th>\n",
              "      <th>text</th>\n",
              "      <th>action</th>\n",
              "      <th>intent</th>\n",
              "      <th>intent02</th>\n",
              "      <th>g_translation</th>\n",
              "      <th>h_translation</th>\n",
              "      <th>intent_codes</th>\n",
              "    </tr>\n",
              "  </thead>\n",
              "  <tbody>\n",
              "    <tr>\n",
              "      <th>0</th>\n",
              "      <td>kako prijaviti zavrsni</td>\n",
              "      <td>static_faq</td>\n",
              "      <td>prijava_zavrsnog_diplomskog</td>\n",
              "      <td>prijava_zavrsnog</td>\n",
              "      <td>How to Report Final</td>\n",
              "      <td>how to register my final paper</td>\n",
              "      <td>2</td>\n",
              "    </tr>\n",
              "    <tr>\n",
              "      <th>1</th>\n",
              "      <td>kako prijaviti diplomski</td>\n",
              "      <td>static_faq</td>\n",
              "      <td>prijava_zavrsnog_diplomskog</td>\n",
              "      <td>prijava_diplomskog</td>\n",
              "      <td>How to report graduate</td>\n",
              "      <td>how to register my masters thesis</td>\n",
              "      <td>1</td>\n",
              "    </tr>\n",
              "    <tr>\n",
              "      <th>2</th>\n",
              "      <td>mogu pokrenuti postupak prijave zavrsnog</td>\n",
              "      <td>pokreni_proces</td>\n",
              "      <td>prijava_zavrsnog_diplomskog</td>\n",
              "      <td>prijava_zavrsnog</td>\n",
              "      <td>can initiate a completion process of final</td>\n",
              "      <td>can i start the process for the final paper re...</td>\n",
              "      <td>2</td>\n",
              "    </tr>\n",
              "    <tr>\n",
              "      <th>3</th>\n",
              "      <td>mogu pokrenuti postupak prijave diplomskog</td>\n",
              "      <td>pokreni_proces</td>\n",
              "      <td>prijava_zavrsnog_diplomskog</td>\n",
              "      <td>prijava_diplomskog</td>\n",
              "      <td>can initiate a graduate procedure</td>\n",
              "      <td>can i start the process for the masters thesis...</td>\n",
              "      <td>1</td>\n",
              "    </tr>\n",
              "    <tr>\n",
              "      <th>4</th>\n",
              "      <td>koje su teme za zavrsni</td>\n",
              "      <td>dynamic_faq</td>\n",
              "      <td>prijava_zavrsnog_diplomskog</td>\n",
              "      <td>prijava_zavrsnog</td>\n",
              "      <td>What are the topics for the final</td>\n",
              "      <td>what are the topics for the final paper</td>\n",
              "      <td>2</td>\n",
              "    </tr>\n",
              "  </tbody>\n",
              "</table>\n",
              "</div>"
            ],
            "text/plain": [
              "                                         text  ... intent_codes\n",
              "0                      kako prijaviti zavrsni  ...            2\n",
              "1                    kako prijaviti diplomski  ...            1\n",
              "2    mogu pokrenuti postupak prijave zavrsnog  ...            2\n",
              "3  mogu pokrenuti postupak prijave diplomskog  ...            1\n",
              "4                     koje su teme za zavrsni  ...            2\n",
              "\n",
              "[5 rows x 7 columns]"
            ]
          },
          "metadata": {},
          "execution_count": 63
        }
      ]
    },
    {
      "cell_type": "code",
      "metadata": {
        "colab": {
          "base_uri": "https://localhost:8080/",
          "height": 328
        },
        "id": "Iy44vVnaWjbv",
        "outputId": "a6b9298c-cd71-4548-d849-0617aeb943ad"
      },
      "source": [
        "#lowercase\n",
        "data['h_translation']= data['h_translation'].apply(lambda x: x.lower())\n",
        "data['text']= data['text'].apply(lambda x: x.lower())\n",
        "data.head()"
      ],
      "execution_count": null,
      "outputs": [
        {
          "output_type": "execute_result",
          "data": {
            "text/html": [
              "<div>\n",
              "<style scoped>\n",
              "    .dataframe tbody tr th:only-of-type {\n",
              "        vertical-align: middle;\n",
              "    }\n",
              "\n",
              "    .dataframe tbody tr th {\n",
              "        vertical-align: top;\n",
              "    }\n",
              "\n",
              "    .dataframe thead th {\n",
              "        text-align: right;\n",
              "    }\n",
              "</style>\n",
              "<table border=\"1\" class=\"dataframe\">\n",
              "  <thead>\n",
              "    <tr style=\"text-align: right;\">\n",
              "      <th></th>\n",
              "      <th>text</th>\n",
              "      <th>action</th>\n",
              "      <th>intent</th>\n",
              "      <th>intent02</th>\n",
              "      <th>g_translation</th>\n",
              "      <th>h_translation</th>\n",
              "      <th>intent_codes</th>\n",
              "    </tr>\n",
              "  </thead>\n",
              "  <tbody>\n",
              "    <tr>\n",
              "      <th>0</th>\n",
              "      <td>kako prijaviti zavrsni</td>\n",
              "      <td>static_faq</td>\n",
              "      <td>prijava_zavrsnog_diplomskog</td>\n",
              "      <td>prijava_zavrsnog</td>\n",
              "      <td>How to Report Final</td>\n",
              "      <td>how to register my final paper</td>\n",
              "      <td>2</td>\n",
              "    </tr>\n",
              "    <tr>\n",
              "      <th>1</th>\n",
              "      <td>kako prijaviti diplomski</td>\n",
              "      <td>static_faq</td>\n",
              "      <td>prijava_zavrsnog_diplomskog</td>\n",
              "      <td>prijava_diplomskog</td>\n",
              "      <td>How to report graduate</td>\n",
              "      <td>how to register my masters thesis</td>\n",
              "      <td>1</td>\n",
              "    </tr>\n",
              "    <tr>\n",
              "      <th>2</th>\n",
              "      <td>mogu pokrenuti postupak prijave zavrsnog</td>\n",
              "      <td>pokreni_proces</td>\n",
              "      <td>prijava_zavrsnog_diplomskog</td>\n",
              "      <td>prijava_zavrsnog</td>\n",
              "      <td>can initiate a completion process of final</td>\n",
              "      <td>can i start the process for the final paper re...</td>\n",
              "      <td>2</td>\n",
              "    </tr>\n",
              "    <tr>\n",
              "      <th>3</th>\n",
              "      <td>mogu pokrenuti postupak prijave diplomskog</td>\n",
              "      <td>pokreni_proces</td>\n",
              "      <td>prijava_zavrsnog_diplomskog</td>\n",
              "      <td>prijava_diplomskog</td>\n",
              "      <td>can initiate a graduate procedure</td>\n",
              "      <td>can i start the process for the masters thesis...</td>\n",
              "      <td>1</td>\n",
              "    </tr>\n",
              "    <tr>\n",
              "      <th>4</th>\n",
              "      <td>koje su teme za zavrsni</td>\n",
              "      <td>dynamic_faq</td>\n",
              "      <td>prijava_zavrsnog_diplomskog</td>\n",
              "      <td>prijava_zavrsnog</td>\n",
              "      <td>What are the topics for the final</td>\n",
              "      <td>what are the topics for the final paper</td>\n",
              "      <td>2</td>\n",
              "    </tr>\n",
              "  </tbody>\n",
              "</table>\n",
              "</div>"
            ],
            "text/plain": [
              "                                         text  ... intent_codes\n",
              "0                      kako prijaviti zavrsni  ...            2\n",
              "1                    kako prijaviti diplomski  ...            1\n",
              "2    mogu pokrenuti postupak prijave zavrsnog  ...            2\n",
              "3  mogu pokrenuti postupak prijave diplomskog  ...            1\n",
              "4                     koje su teme za zavrsni  ...            2\n",
              "\n",
              "[5 rows x 7 columns]"
            ]
          },
          "metadata": {},
          "execution_count": 64
        }
      ]
    },
    {
      "cell_type": "code",
      "metadata": {
        "colab": {
          "base_uri": "https://localhost:8080/",
          "height": 328
        },
        "id": "6iQgOQ-VWjgI",
        "outputId": "40ff6542-6925-4da7-8b34-66950a2a7887"
      },
      "source": [
        "#tokenize split\n",
        "data['h_translation']= data['h_translation'].apply(lambda x: tokenization(x))\n",
        "data['text']= data['text'].apply(lambda x: tokenization(x))\n",
        "data.head()"
      ],
      "execution_count": null,
      "outputs": [
        {
          "output_type": "execute_result",
          "data": {
            "text/html": [
              "<div>\n",
              "<style scoped>\n",
              "    .dataframe tbody tr th:only-of-type {\n",
              "        vertical-align: middle;\n",
              "    }\n",
              "\n",
              "    .dataframe tbody tr th {\n",
              "        vertical-align: top;\n",
              "    }\n",
              "\n",
              "    .dataframe thead th {\n",
              "        text-align: right;\n",
              "    }\n",
              "</style>\n",
              "<table border=\"1\" class=\"dataframe\">\n",
              "  <thead>\n",
              "    <tr style=\"text-align: right;\">\n",
              "      <th></th>\n",
              "      <th>text</th>\n",
              "      <th>action</th>\n",
              "      <th>intent</th>\n",
              "      <th>intent02</th>\n",
              "      <th>g_translation</th>\n",
              "      <th>h_translation</th>\n",
              "      <th>intent_codes</th>\n",
              "    </tr>\n",
              "  </thead>\n",
              "  <tbody>\n",
              "    <tr>\n",
              "      <th>0</th>\n",
              "      <td>[kako, prijaviti, zavrsni]</td>\n",
              "      <td>static_faq</td>\n",
              "      <td>prijava_zavrsnog_diplomskog</td>\n",
              "      <td>prijava_zavrsnog</td>\n",
              "      <td>How to Report Final</td>\n",
              "      <td>[how, to, register, my, final, paper]</td>\n",
              "      <td>2</td>\n",
              "    </tr>\n",
              "    <tr>\n",
              "      <th>1</th>\n",
              "      <td>[kako, prijaviti, diplomski]</td>\n",
              "      <td>static_faq</td>\n",
              "      <td>prijava_zavrsnog_diplomskog</td>\n",
              "      <td>prijava_diplomskog</td>\n",
              "      <td>How to report graduate</td>\n",
              "      <td>[how, to, register, my, masters, thesis]</td>\n",
              "      <td>1</td>\n",
              "    </tr>\n",
              "    <tr>\n",
              "      <th>2</th>\n",
              "      <td>[mogu, pokrenuti, postupak, prijave, zavrsnog]</td>\n",
              "      <td>pokreni_proces</td>\n",
              "      <td>prijava_zavrsnog_diplomskog</td>\n",
              "      <td>prijava_zavrsnog</td>\n",
              "      <td>can initiate a completion process of final</td>\n",
              "      <td>[can, i, start, the, process, for, the, final,...</td>\n",
              "      <td>2</td>\n",
              "    </tr>\n",
              "    <tr>\n",
              "      <th>3</th>\n",
              "      <td>[mogu, pokrenuti, postupak, prijave, diplomskog]</td>\n",
              "      <td>pokreni_proces</td>\n",
              "      <td>prijava_zavrsnog_diplomskog</td>\n",
              "      <td>prijava_diplomskog</td>\n",
              "      <td>can initiate a graduate procedure</td>\n",
              "      <td>[can, i, start, the, process, for, the, master...</td>\n",
              "      <td>1</td>\n",
              "    </tr>\n",
              "    <tr>\n",
              "      <th>4</th>\n",
              "      <td>[koje, su, teme, za, zavrsni]</td>\n",
              "      <td>dynamic_faq</td>\n",
              "      <td>prijava_zavrsnog_diplomskog</td>\n",
              "      <td>prijava_zavrsnog</td>\n",
              "      <td>What are the topics for the final</td>\n",
              "      <td>[what, are, the, topics, for, the, final, paper]</td>\n",
              "      <td>2</td>\n",
              "    </tr>\n",
              "  </tbody>\n",
              "</table>\n",
              "</div>"
            ],
            "text/plain": [
              "                                               text  ... intent_codes\n",
              "0                        [kako, prijaviti, zavrsni]  ...            2\n",
              "1                      [kako, prijaviti, diplomski]  ...            1\n",
              "2    [mogu, pokrenuti, postupak, prijave, zavrsnog]  ...            2\n",
              "3  [mogu, pokrenuti, postupak, prijave, diplomskog]  ...            1\n",
              "4                     [koje, su, teme, za, zavrsni]  ...            2\n",
              "\n",
              "[5 rows x 7 columns]"
            ]
          },
          "metadata": {},
          "execution_count": 65
        }
      ]
    },
    {
      "cell_type": "code",
      "metadata": {
        "colab": {
          "base_uri": "https://localhost:8080/"
        },
        "id": "7WjV3DZeWjkH",
        "outputId": "7ee81fd3-aa88-4b26-9052-d265d33beca9"
      },
      "source": [
        "#stopwords remove (eng)\n",
        "data['h_translation']= data['h_translation'].apply(lambda x:remove_stopwords(x))\n",
        "data['h_translation'].head()"
      ],
      "execution_count": null,
      "outputs": [
        {
          "output_type": "execute_result",
          "data": {
            "text/plain": [
              "0                           [register, final, paper]\n",
              "1                        [register, masters, thesis]\n",
              "2       [start, process, final, paper, registration]\n",
              "3    [start, process, masters, thesis, registration]\n",
              "4                             [topics, final, paper]\n",
              "Name: h_translation, dtype: object"
            ]
          },
          "metadata": {},
          "execution_count": 66
        }
      ]
    },
    {
      "cell_type": "code",
      "metadata": {
        "colab": {
          "base_uri": "https://localhost:8080/"
        },
        "id": "d2ZKfOyEWjn9",
        "outputId": "3da0ac17-daf5-40f4-efb9-f389af7545d4"
      },
      "source": [
        "#stemming (eng)\n",
        "#data['h_translation']=data['h_translation'].apply(lambda x: stemming(x))\n",
        "#data['h_translation'].head()"
      ],
      "execution_count": null,
      "outputs": [
        {
          "output_type": "execute_result",
          "data": {
            "text/plain": [
              "0                      [regist, final, paper]\n",
              "1                     [regist, master, thesi]\n",
              "2     [start, process, final, paper, registr]\n",
              "3    [start, process, master, thesi, registr]\n",
              "4                       [topic, final, paper]\n",
              "Name: h_translation, dtype: object"
            ]
          },
          "metadata": {},
          "execution_count": 49
        }
      ]
    },
    {
      "cell_type": "code",
      "metadata": {
        "colab": {
          "base_uri": "https://localhost:8080/"
        },
        "id": "WfZ29MT1e7qE",
        "outputId": "7ba9ca23-99c5-4f52-a4c3-9104def70df2"
      },
      "source": [
        "#lemmatization (eng)\n",
        "data['h_translation']=data['h_translation'].apply(lambda x:lemmatizer(x))\n",
        "data['h_translation'].head()"
      ],
      "execution_count": null,
      "outputs": [
        {
          "output_type": "execute_result",
          "data": {
            "text/plain": [
              "0                          [register, final, paper]\n",
              "1                        [register, master, thesis]\n",
              "2      [start, process, final, paper, registration]\n",
              "3    [start, process, master, thesis, registration]\n",
              "4                             [topic, final, paper]\n",
              "Name: h_translation, dtype: object"
            ]
          },
          "metadata": {},
          "execution_count": 67
        }
      ]
    },
    {
      "cell_type": "code",
      "metadata": {
        "colab": {
          "base_uri": "https://localhost:8080/"
        },
        "id": "wmVEW3iST4s-",
        "outputId": "faadd2b5-5f89-4b4c-c294-4e849c7a75ec"
      },
      "source": [
        "data['g_translation']= data['g_translation'].apply(lambda x:remove_punctuation(x))\n",
        "data['g_translation']= data['g_translation'].apply(lambda x: x.lower())\n",
        "data['g_translation']= data['g_translation'].apply(lambda x: tokenization(x))\n",
        "data['g_translation']= data['g_translation'].apply(lambda x:remove_stopwords(x))\n",
        "data['g_translation']=data['g_translation'].apply(lambda x:lemmatizer(x))\n",
        "data['g_translation'].head()"
      ],
      "execution_count": null,
      "outputs": [
        {
          "output_type": "execute_result",
          "data": {
            "text/plain": [
              "0                           [report, final]\n",
              "1                        [report, graduate]\n",
              "2    [initiate, completion, process, final]\n",
              "3           [initiate, graduate, procedure]\n",
              "4                            [topic, final]\n",
              "Name: g_translation, dtype: object"
            ]
          },
          "metadata": {},
          "execution_count": 68
        }
      ]
    },
    {
      "cell_type": "code",
      "metadata": {
        "colab": {
          "base_uri": "https://localhost:8080/",
          "height": 206
        },
        "id": "a2BZlwBGe7t9",
        "outputId": "eafbedff-6999-4be5-eb24-0ae8829217fc"
      },
      "source": [
        "data[['text','g_translation', 'h_translation']].head()"
      ],
      "execution_count": null,
      "outputs": [
        {
          "output_type": "execute_result",
          "data": {
            "text/html": [
              "<div>\n",
              "<style scoped>\n",
              "    .dataframe tbody tr th:only-of-type {\n",
              "        vertical-align: middle;\n",
              "    }\n",
              "\n",
              "    .dataframe tbody tr th {\n",
              "        vertical-align: top;\n",
              "    }\n",
              "\n",
              "    .dataframe thead th {\n",
              "        text-align: right;\n",
              "    }\n",
              "</style>\n",
              "<table border=\"1\" class=\"dataframe\">\n",
              "  <thead>\n",
              "    <tr style=\"text-align: right;\">\n",
              "      <th></th>\n",
              "      <th>text</th>\n",
              "      <th>g_translation</th>\n",
              "      <th>h_translation</th>\n",
              "    </tr>\n",
              "  </thead>\n",
              "  <tbody>\n",
              "    <tr>\n",
              "      <th>0</th>\n",
              "      <td>[je, li, potreban, prijemni, ispit, za, upis]</td>\n",
              "      <td>[admission, exam, enrollment]</td>\n",
              "      <td>[preliminary, exam, needed, enrllment]</td>\n",
              "    </tr>\n",
              "    <tr>\n",
              "      <th>1</th>\n",
              "      <td>[postoji, li, izvanredan, studij]</td>\n",
              "      <td>[remarkable, study]</td>\n",
              "      <td>[parttime, program]</td>\n",
              "    </tr>\n",
              "    <tr>\n",
              "      <th>2</th>\n",
              "      <td>[koji, su, troskovi, upisa]</td>\n",
              "      <td>[cost, enrollment]</td>\n",
              "      <td>[much, enrollment, fee]</td>\n",
              "    </tr>\n",
              "    <tr>\n",
              "      <th>3</th>\n",
              "      <td>[gdje, da, uplatim, troskove]</td>\n",
              "      <td>[pay, spot]</td>\n",
              "      <td>[pay, enrollment, fee]</td>\n",
              "    </tr>\n",
              "    <tr>\n",
              "      <th>4</th>\n",
              "      <td>[gdje, da, uplatim, skolarinu]</td>\n",
              "      <td>[pay, skolarin]</td>\n",
              "      <td>[pay, tuition, fee]</td>\n",
              "    </tr>\n",
              "  </tbody>\n",
              "</table>\n",
              "</div>"
            ],
            "text/plain": [
              "                                            text  ...                           h_translation\n",
              "0  [je, li, potreban, prijemni, ispit, za, upis]  ...  [preliminary, exam, needed, enrllment]\n",
              "1              [postoji, li, izvanredan, studij]  ...                     [parttime, program]\n",
              "2                    [koji, su, troskovi, upisa]  ...                 [much, enrollment, fee]\n",
              "3                  [gdje, da, uplatim, troskove]  ...                  [pay, enrollment, fee]\n",
              "4                 [gdje, da, uplatim, skolarinu]  ...                     [pay, tuition, fee]\n",
              "\n",
              "[5 rows x 3 columns]"
            ]
          },
          "metadata": {
            "tags": []
          },
          "execution_count": 20
        }
      ]
    },
    {
      "cell_type": "code",
      "metadata": {
        "id": "kgk4tugoUwhr"
      },
      "source": [
        "#!pip install text-hr"
      ],
      "execution_count": null,
      "outputs": []
    },
    {
      "cell_type": "code",
      "metadata": {
        "id": "k1gj5AozU3CL"
      },
      "source": [
        "import text_hr"
      ],
      "execution_count": null,
      "outputs": []
    },
    {
      "cell_type": "code",
      "metadata": {
        "id": "0EaJ0FwSVXdj"
      },
      "source": [
        "stop_words_list_hr = []\n",
        "for word_base, l_key, cnt, _suff_id, wform_key, wform in text_hr.get_all_std_words():\n",
        "  if word_base is not None: stop_words_list_hr.append(word_base)\n",
        "  if wform is not None: stop_words_list_hr.append(wform)"
      ],
      "execution_count": null,
      "outputs": []
    },
    {
      "cell_type": "code",
      "metadata": {
        "colab": {
          "base_uri": "https://localhost:8080/"
        },
        "id": "ocHP8DanXTZb",
        "outputId": "272871cb-06c4-4b22-df02-8609c8b04b87"
      },
      "source": [
        "stop_words_list_hr = list(dict.fromkeys(stop_words_list_hr))\n",
        "len(stop_words_list_hr)"
      ],
      "execution_count": null,
      "outputs": [
        {
          "output_type": "execute_result",
          "data": {
            "text/plain": [
              "1207"
            ]
          },
          "metadata": {},
          "execution_count": 72
        }
      ]
    },
    {
      "cell_type": "code",
      "metadata": {
        "id": "_ayyppnMU50C"
      },
      "source": [
        "def remove_stopwords_hr(text):\n",
        "    output= [i for i in text if i not in stop_words_list_hr]\n",
        "    return output"
      ],
      "execution_count": null,
      "outputs": []
    },
    {
      "cell_type": "code",
      "metadata": {
        "id": "mReIAe_zXnRL"
      },
      "source": [
        "data['text']= data['text'].apply(lambda x:remove_stopwords_hr(x))"
      ],
      "execution_count": null,
      "outputs": []
    },
    {
      "cell_type": "code",
      "metadata": {
        "colab": {
          "base_uri": "https://localhost:8080/",
          "height": 206
        },
        "id": "hySD0o55Y9Pa",
        "outputId": "479f29a2-001b-4c84-e50c-2e00552cb740"
      },
      "source": [
        "data[['text','g_translation', 'h_translation']].head()"
      ],
      "execution_count": null,
      "outputs": [
        {
          "output_type": "execute_result",
          "data": {
            "text/html": [
              "<div>\n",
              "<style scoped>\n",
              "    .dataframe tbody tr th:only-of-type {\n",
              "        vertical-align: middle;\n",
              "    }\n",
              "\n",
              "    .dataframe tbody tr th {\n",
              "        vertical-align: top;\n",
              "    }\n",
              "\n",
              "    .dataframe thead th {\n",
              "        text-align: right;\n",
              "    }\n",
              "</style>\n",
              "<table border=\"1\" class=\"dataframe\">\n",
              "  <thead>\n",
              "    <tr style=\"text-align: right;\">\n",
              "      <th></th>\n",
              "      <th>text</th>\n",
              "      <th>g_translation</th>\n",
              "      <th>h_translation</th>\n",
              "    </tr>\n",
              "  </thead>\n",
              "  <tbody>\n",
              "    <tr>\n",
              "      <th>0</th>\n",
              "      <td>[prijaviti, zavrsni]</td>\n",
              "      <td>[report, final]</td>\n",
              "      <td>[register, final, paper]</td>\n",
              "    </tr>\n",
              "    <tr>\n",
              "      <th>1</th>\n",
              "      <td>[prijaviti, diplomski]</td>\n",
              "      <td>[report, graduate]</td>\n",
              "      <td>[register, master, thesis]</td>\n",
              "    </tr>\n",
              "    <tr>\n",
              "      <th>2</th>\n",
              "      <td>[pokrenuti, postupak, prijave, zavrsnog]</td>\n",
              "      <td>[initiate, completion, process, final]</td>\n",
              "      <td>[start, process, final, paper, registration]</td>\n",
              "    </tr>\n",
              "    <tr>\n",
              "      <th>3</th>\n",
              "      <td>[pokrenuti, postupak, prijave, diplomskog]</td>\n",
              "      <td>[initiate, graduate, procedure]</td>\n",
              "      <td>[start, process, master, thesis, registration]</td>\n",
              "    </tr>\n",
              "    <tr>\n",
              "      <th>4</th>\n",
              "      <td>[teme, zavrsni]</td>\n",
              "      <td>[topic, final]</td>\n",
              "      <td>[topic, final, paper]</td>\n",
              "    </tr>\n",
              "  </tbody>\n",
              "</table>\n",
              "</div>"
            ],
            "text/plain": [
              "                                         text  ...                                   h_translation\n",
              "0                        [prijaviti, zavrsni]  ...                        [register, final, paper]\n",
              "1                      [prijaviti, diplomski]  ...                      [register, master, thesis]\n",
              "2    [pokrenuti, postupak, prijave, zavrsnog]  ...    [start, process, final, paper, registration]\n",
              "3  [pokrenuti, postupak, prijave, diplomskog]  ...  [start, process, master, thesis, registration]\n",
              "4                             [teme, zavrsni]  ...                           [topic, final, paper]\n",
              "\n",
              "[5 rows x 3 columns]"
            ]
          },
          "metadata": {},
          "execution_count": 75
        }
      ]
    },
    {
      "cell_type": "code",
      "metadata": {
        "colab": {
          "base_uri": "https://localhost:8080/"
        },
        "id": "ktpZY3yJiW1L",
        "outputId": "b97ec431-86b6-4089-eb25-b84edb2af215"
      },
      "source": [
        "data['text'] = data['text'].str.join(\" \")\n",
        "data['h_translation'] = data['h_translation'].str.join(\" \")\n",
        "data['g_translation'] = data['g_translation'].str.join(\" \")\n",
        "data['text'].head()"
      ],
      "execution_count": null,
      "outputs": [
        {
          "output_type": "execute_result",
          "data": {
            "text/plain": [
              "0                        prijaviti zavrsni\n",
              "1                      prijaviti diplomski\n",
              "2      pokrenuti postupak prijave zavrsnog\n",
              "3    pokrenuti postupak prijave diplomskog\n",
              "4                             teme zavrsni\n",
              "Name: text, dtype: object"
            ]
          },
          "metadata": {},
          "execution_count": 76
        }
      ]
    },
    {
      "cell_type": "code",
      "metadata": {
        "colab": {
          "base_uri": "https://localhost:8080/",
          "height": 206
        },
        "id": "wjyTlZAFjhHB",
        "outputId": "014c09cb-f38e-4f7f-ff70-5ee8cddfafc2"
      },
      "source": [
        "data.head()"
      ],
      "execution_count": null,
      "outputs": [
        {
          "output_type": "execute_result",
          "data": {
            "text/html": [
              "<div>\n",
              "<style scoped>\n",
              "    .dataframe tbody tr th:only-of-type {\n",
              "        vertical-align: middle;\n",
              "    }\n",
              "\n",
              "    .dataframe tbody tr th {\n",
              "        vertical-align: top;\n",
              "    }\n",
              "\n",
              "    .dataframe thead th {\n",
              "        text-align: right;\n",
              "    }\n",
              "</style>\n",
              "<table border=\"1\" class=\"dataframe\">\n",
              "  <thead>\n",
              "    <tr style=\"text-align: right;\">\n",
              "      <th></th>\n",
              "      <th>text</th>\n",
              "      <th>action</th>\n",
              "      <th>intent</th>\n",
              "      <th>g_translation</th>\n",
              "      <th>h_translation</th>\n",
              "      <th>intent_codes</th>\n",
              "    </tr>\n",
              "  </thead>\n",
              "  <tbody>\n",
              "    <tr>\n",
              "      <th>0</th>\n",
              "      <td>potreban prijemni ispit upis</td>\n",
              "      <td>static_faq</td>\n",
              "      <td>upis_na_sveuciliste</td>\n",
              "      <td>admission exam enrollment</td>\n",
              "      <td>preliminary exam needed enrllment</td>\n",
              "      <td>2</td>\n",
              "    </tr>\n",
              "    <tr>\n",
              "      <th>1</th>\n",
              "      <td>postoji izvanredan studij</td>\n",
              "      <td>static_faq</td>\n",
              "      <td>upis_na_sveuciliste</td>\n",
              "      <td>remarkable study</td>\n",
              "      <td>parttime program</td>\n",
              "      <td>2</td>\n",
              "    </tr>\n",
              "    <tr>\n",
              "      <th>2</th>\n",
              "      <td>troskovi upisa</td>\n",
              "      <td>static_faq</td>\n",
              "      <td>upis_na_sveuciliste</td>\n",
              "      <td>cost enrollment</td>\n",
              "      <td>much enrollment fee</td>\n",
              "      <td>2</td>\n",
              "    </tr>\n",
              "    <tr>\n",
              "      <th>3</th>\n",
              "      <td>uplatim troskove</td>\n",
              "      <td>static_faq</td>\n",
              "      <td>upis_na_sveuciliste</td>\n",
              "      <td>pay spot</td>\n",
              "      <td>pay enrollment fee</td>\n",
              "      <td>2</td>\n",
              "    </tr>\n",
              "    <tr>\n",
              "      <th>4</th>\n",
              "      <td>uplatim skolarinu</td>\n",
              "      <td>static_faq</td>\n",
              "      <td>upis_na_sveuciliste</td>\n",
              "      <td>pay skolarin</td>\n",
              "      <td>pay tuition fee</td>\n",
              "      <td>2</td>\n",
              "    </tr>\n",
              "  </tbody>\n",
              "</table>\n",
              "</div>"
            ],
            "text/plain": [
              "                           text  ... intent_codes\n",
              "0  potreban prijemni ispit upis  ...            2\n",
              "1     postoji izvanredan studij  ...            2\n",
              "2                troskovi upisa  ...            2\n",
              "3              uplatim troskove  ...            2\n",
              "4             uplatim skolarinu  ...            2\n",
              "\n",
              "[5 rows x 6 columns]"
            ]
          },
          "metadata": {
            "tags": []
          },
          "execution_count": 31
        }
      ]
    },
    {
      "cell_type": "markdown",
      "metadata": {
        "id": "5LgjKFU5fv4U"
      },
      "source": [
        "#Data split after preprocessing"
      ]
    },
    {
      "cell_type": "code",
      "metadata": {
        "colab": {
          "base_uri": "https://localhost:8080/",
          "height": 36
        },
        "id": "RfaMj1uQgj9y",
        "outputId": "29ce0e1a-6e21-41df-f505-aab1990b1e42"
      },
      "source": [
        "data['text'][0]"
      ],
      "execution_count": null,
      "outputs": [
        {
          "output_type": "execute_result",
          "data": {
            "application/vnd.google.colaboratory.intrinsic+json": {
              "type": "string"
            },
            "text/plain": [
              "'prijaviti zavrsni'"
            ]
          },
          "metadata": {},
          "execution_count": 77
        }
      ]
    },
    {
      "cell_type": "code",
      "metadata": {
        "id": "PoEvgaANe7yL"
      },
      "source": [
        "preprocessed_validation_data = pd.DataFrame(columns=data.columns)\n",
        "preprocessed_train_data = pd.DataFrame(columns=data.columns)\n",
        "for c in codes:\n",
        "  sample = data[data['intent_codes']==c]\n",
        "  sample = sample.sample(frac=1)\n",
        "  val = sample.sample(frac=0.25)\n",
        "  train = pd.concat([sample, val]).drop_duplicates(keep=False)\n",
        "  preprocessed_validation_data = preprocessed_validation_data.append(val, ignore_index=True)\n",
        "  preprocessed_train_data = preprocessed_train_data.append(train, ignore_index=True)"
      ],
      "execution_count": null,
      "outputs": []
    },
    {
      "cell_type": "code",
      "metadata": {
        "id": "g1mDKCnXe714"
      },
      "source": [
        "#preprocessed croatian data\n",
        "train_data_hr = preprocessed_train_data[['text', 'intent_codes']]\n",
        "validation_data_hr = preprocessed_validation_data[['text', 'intent_codes']]\n",
        "train_data_hr.columns = ['text', 'intent_codes']\n",
        "validation_data_hr.columns = ['text', 'intent_codes']\n",
        "#preprocessed human translation data\n",
        "train_data_human = preprocessed_train_data[['h_translation', 'intent_codes']]\n",
        "validation_data_human = preprocessed_validation_data[['h_translation', 'intent_codes']]\n",
        "train_data_human.columns = ['text', 'intent_codes']\n",
        "validation_data_human.columns = ['text', 'intent_codes']\n",
        "#preprocessed google translation data\n",
        "train_data_eng = preprocessed_train_data[['g_translation', 'intent_codes']]\n",
        "validation_data_eng = preprocessed_validation_data[['g_translation', 'intent_codes']]\n",
        "train_data_eng.columns = ['text', 'intent_codes']\n",
        "validation_data_eng.columns = ['text', 'intent_codes']\n",
        "\n",
        "\n",
        "#google translation + croatian data\n",
        "train_data_eng_hr = train_data_eng.append(train_data_hr, ignore_index = True)\n",
        "validation_data_eng_hr = validation_data_eng.append(validation_data_hr, ignore_index = True)\n",
        "\n",
        "#human translation + croatian data\n",
        "train_data_human_hr = train_data_human.append(train_data_hr, ignore_index = True)\n",
        "validation_data_human_hr = validation_data_human.append(validation_data_hr, ignore_index = True)"
      ],
      "execution_count": null,
      "outputs": []
    },
    {
      "cell_type": "code",
      "metadata": {
        "id": "_ZM8jhIrj_eh"
      },
      "source": [
        "train_data_eng = df_to_dataset(train_data_eng)\n",
        "validation_data_eng = df_to_dataset(validation_data_eng)\n",
        "\n",
        "train_data_hr = df_to_dataset(train_data_hr)\n",
        "validation_data_hr = df_to_dataset(validation_data_hr)\n",
        "\n",
        "train_data_human = df_to_dataset(train_data_human)\n",
        "validation_data_human = df_to_dataset(validation_data_human)\n",
        "\n",
        "train_data_eng_hr = df_to_dataset(train_data_eng_hr)\n",
        "validation_data_eng_hr = df_to_dataset(validation_data_eng_hr)\n",
        "\n",
        "train_data_human_hr = df_to_dataset(train_data_human_hr)\n",
        "validation_data_human_hr = df_to_dataset(validation_data_human_hr)"
      ],
      "execution_count": null,
      "outputs": []
    },
    {
      "cell_type": "markdown",
      "metadata": {
        "id": "c4iV9MClkQYm"
      },
      "source": [
        "# Model after preprocessing"
      ]
    },
    {
      "cell_type": "code",
      "metadata": {
        "colab": {
          "base_uri": "https://localhost:8080/"
        },
        "id": "K9F3E9LykG5Q",
        "outputId": "169a0bf9-d661-4224-bd1f-050e37a0b39d"
      },
      "source": [
        "#MODEL PREPROCESSED HR\n",
        "model_hr = model_build()\n",
        "model_hr.compile(\n",
        "    optimizer=tf.keras.optimizers.Adam(0.001),\n",
        "    loss = tf.keras.losses.CategoricalCrossentropy(from_logits=True),\n",
        "    metrics = tf.keras.metrics.CategoricalAccuracy()\n",
        ")\n",
        "\n",
        "hr_history = model_hr.fit(\n",
        "    train_data_hr,\n",
        "    epochs = 8,\n",
        "    batch_size = 16,\n",
        "    validation_data = validation_data_hr\n",
        ")"
      ],
      "execution_count": null,
      "outputs": [
        {
          "output_type": "stream",
          "text": [
            "Epoch 1/8\n"
          ],
          "name": "stdout"
        },
        {
          "output_type": "stream",
          "text": [
            "/usr/local/lib/python3.7/dist-packages/keras/backend.py:4847: UserWarning: \"`categorical_crossentropy` received `from_logits=True`, but the `output` argument was produced by a sigmoid or softmax activation and thus does not represent logits. Was this intended?\"\n",
            "  '\"`categorical_crossentropy` received `from_logits=True`, but '\n"
          ],
          "name": "stderr"
        },
        {
          "output_type": "stream",
          "text": [
            "9/9 [==============================] - 56s 6s/step - loss: 1.7032 - categorical_accuracy: 0.2932 - val_loss: 1.0268 - val_categorical_accuracy: 0.7500\n",
            "Epoch 2/8\n",
            "9/9 [==============================] - 53s 6s/step - loss: 1.0928 - categorical_accuracy: 0.5940 - val_loss: 0.7373 - val_categorical_accuracy: 0.8636\n",
            "Epoch 3/8\n",
            "9/9 [==============================] - 52s 6s/step - loss: 0.7613 - categorical_accuracy: 0.7218 - val_loss: 0.5341 - val_categorical_accuracy: 0.9318\n",
            "Epoch 4/8\n",
            "9/9 [==============================] - 52s 6s/step - loss: 0.6929 - categorical_accuracy: 0.7444 - val_loss: 0.3953 - val_categorical_accuracy: 0.9773\n",
            "Epoch 5/8\n",
            "9/9 [==============================] - 52s 6s/step - loss: 0.5068 - categorical_accuracy: 0.8872 - val_loss: 0.3035 - val_categorical_accuracy: 0.9773\n",
            "Epoch 6/8\n",
            "9/9 [==============================] - 52s 6s/step - loss: 0.3418 - categorical_accuracy: 0.9098 - val_loss: 0.2461 - val_categorical_accuracy: 0.9545\n",
            "Epoch 7/8\n",
            "9/9 [==============================] - 52s 6s/step - loss: 0.3647 - categorical_accuracy: 0.9098 - val_loss: 0.2109 - val_categorical_accuracy: 0.9545\n",
            "Epoch 8/8\n",
            "9/9 [==============================] - 52s 6s/step - loss: 0.3274 - categorical_accuracy: 0.9023 - val_loss: 0.1866 - val_categorical_accuracy: 0.9545\n"
          ],
          "name": "stdout"
        }
      ]
    },
    {
      "cell_type": "code",
      "metadata": {
        "colab": {
          "base_uri": "https://localhost:8080/"
        },
        "id": "heczjrCskHCQ",
        "outputId": "5e18d612-24be-4f72-f922-de5e51513afd"
      },
      "source": [
        "#MODEL PREPROCESSED HUMAN\n",
        "model_human = model_build()\n",
        "model_human.compile(\n",
        "    optimizer=tf.keras.optimizers.Adam(0.001),\n",
        "    loss = tf.keras.losses.CategoricalCrossentropy(from_logits=True),\n",
        "    metrics = tf.keras.metrics.CategoricalAccuracy()\n",
        ")\n",
        "\n",
        "human_history = model_human.fit(\n",
        "    train_data_human,\n",
        "    epochs = 8,\n",
        "    batch_size = 16,\n",
        "    validation_data = validation_data_human\n",
        ")"
      ],
      "execution_count": null,
      "outputs": [
        {
          "output_type": "stream",
          "text": [
            "Epoch 1/8\n"
          ],
          "name": "stdout"
        },
        {
          "output_type": "stream",
          "text": [
            "/usr/local/lib/python3.7/dist-packages/keras/backend.py:4847: UserWarning: \"`categorical_crossentropy` received `from_logits=True`, but the `output` argument was produced by a sigmoid or softmax activation and thus does not represent logits. Was this intended?\"\n",
            "  '\"`categorical_crossentropy` received `from_logits=True`, but '\n"
          ],
          "name": "stderr"
        },
        {
          "output_type": "stream",
          "text": [
            "9/9 [==============================] - 56s 6s/step - loss: 1.5879 - categorical_accuracy: 0.3835 - val_loss: 0.8959 - val_categorical_accuracy: 0.7727\n",
            "Epoch 2/8\n",
            "9/9 [==============================] - 52s 6s/step - loss: 0.9050 - categorical_accuracy: 0.6466 - val_loss: 0.5477 - val_categorical_accuracy: 0.9318\n",
            "Epoch 3/8\n",
            "9/9 [==============================] - 52s 6s/step - loss: 0.5943 - categorical_accuracy: 0.8195 - val_loss: 0.3610 - val_categorical_accuracy: 0.9773\n",
            "Epoch 4/8\n",
            "9/9 [==============================] - 52s 6s/step - loss: 0.4902 - categorical_accuracy: 0.8722 - val_loss: 0.2538 - val_categorical_accuracy: 1.0000\n",
            "Epoch 5/8\n",
            "9/9 [==============================] - 52s 6s/step - loss: 0.3359 - categorical_accuracy: 0.9098 - val_loss: 0.1947 - val_categorical_accuracy: 1.0000\n",
            "Epoch 6/8\n",
            "9/9 [==============================] - 52s 6s/step - loss: 0.4134 - categorical_accuracy: 0.8872 - val_loss: 0.1672 - val_categorical_accuracy: 0.9773\n",
            "Epoch 7/8\n",
            "9/9 [==============================] - 52s 6s/step - loss: 0.2752 - categorical_accuracy: 0.9098 - val_loss: 0.1517 - val_categorical_accuracy: 0.9773\n",
            "Epoch 8/8\n",
            "9/9 [==============================] - 52s 6s/step - loss: 0.3444 - categorical_accuracy: 0.8872 - val_loss: 0.1361 - val_categorical_accuracy: 1.0000\n"
          ],
          "name": "stdout"
        }
      ]
    },
    {
      "cell_type": "code",
      "metadata": {
        "colab": {
          "base_uri": "https://localhost:8080/"
        },
        "id": "lLuKBFDQaE3T",
        "outputId": "26e9ed3e-19b1-47dc-a4fd-59667df2634e"
      },
      "source": [
        "#MODEL PREPROCESSED ENG\n",
        "model_eng = model_build()\n",
        "model_eng.compile(\n",
        "    optimizer=tf.keras.optimizers.Adam(0.001),\n",
        "    loss = tf.keras.losses.CategoricalCrossentropy(from_logits=True),\n",
        "    metrics = tf.keras.metrics.CategoricalAccuracy()\n",
        ")\n",
        "\n",
        "eng_history = model_eng.fit(\n",
        "    train_data_eng,\n",
        "    epochs = 8,\n",
        "    batch_size = 16,\n",
        "    validation_data = validation_data_eng\n",
        ")"
      ],
      "execution_count": null,
      "outputs": [
        {
          "output_type": "stream",
          "text": [
            "Epoch 1/8\n"
          ],
          "name": "stdout"
        },
        {
          "output_type": "stream",
          "text": [
            "/usr/local/lib/python3.7/dist-packages/keras/backend.py:4847: UserWarning: \"`categorical_crossentropy` received `from_logits=True`, but the `output` argument was produced by a sigmoid or softmax activation and thus does not represent logits. Was this intended?\"\n",
            "  '\"`categorical_crossentropy` received `from_logits=True`, but '\n"
          ],
          "name": "stderr"
        },
        {
          "output_type": "stream",
          "text": [
            "9/9 [==============================] - 55s 6s/step - loss: 1.5832 - categorical_accuracy: 0.3383 - val_loss: 1.0373 - val_categorical_accuracy: 0.7045\n",
            "Epoch 2/8\n",
            "9/9 [==============================] - 52s 6s/step - loss: 1.1203 - categorical_accuracy: 0.5489 - val_loss: 0.7536 - val_categorical_accuracy: 0.8182\n",
            "Epoch 3/8\n",
            "9/9 [==============================] - 52s 6s/step - loss: 0.7728 - categorical_accuracy: 0.7218 - val_loss: 0.5859 - val_categorical_accuracy: 0.8409\n",
            "Epoch 4/8\n",
            "9/9 [==============================] - 52s 6s/step - loss: 0.5791 - categorical_accuracy: 0.8195 - val_loss: 0.4806 - val_categorical_accuracy: 0.9091\n",
            "Epoch 5/8\n",
            "9/9 [==============================] - 52s 6s/step - loss: 0.4705 - categorical_accuracy: 0.8722 - val_loss: 0.4059 - val_categorical_accuracy: 0.8864\n",
            "Epoch 6/8\n",
            "9/9 [==============================] - 52s 6s/step - loss: 0.3872 - categorical_accuracy: 0.8797 - val_loss: 0.3654 - val_categorical_accuracy: 0.8864\n",
            "Epoch 7/8\n",
            "9/9 [==============================] - 52s 6s/step - loss: 0.3087 - categorical_accuracy: 0.9248 - val_loss: 0.3446 - val_categorical_accuracy: 0.8864\n",
            "Epoch 8/8\n",
            "9/9 [==============================] - 53s 6s/step - loss: 0.3468 - categorical_accuracy: 0.8797 - val_loss: 0.3243 - val_categorical_accuracy: 0.8864\n"
          ],
          "name": "stdout"
        }
      ]
    },
    {
      "cell_type": "code",
      "metadata": {
        "colab": {
          "base_uri": "https://localhost:8080/"
        },
        "id": "TszG6GbLaE_s",
        "outputId": "6cb9269d-8b10-4568-9585-ecb25e2a2dee"
      },
      "source": [
        "#MODEL PREPROCESSED ENG+HR\n",
        "model_eng_hr = model_build()\n",
        "model_eng_hr.compile(\n",
        "    optimizer=tf.keras.optimizers.Adam(0.001),\n",
        "    loss = tf.keras.losses.CategoricalCrossentropy(from_logits=True),\n",
        "    metrics = tf.keras.metrics.CategoricalAccuracy()\n",
        ")\n",
        "\n",
        "eng_hr_history = model_eng_hr.fit(\n",
        "    train_data_eng_hr,\n",
        "    epochs = 10,\n",
        "    batch_size = 16,\n",
        "    validation_data = validation_data_eng_hr\n",
        ")"
      ],
      "execution_count": null,
      "outputs": [
        {
          "output_type": "stream",
          "text": [
            "Epoch 1/10\n"
          ],
          "name": "stdout"
        },
        {
          "output_type": "stream",
          "text": [
            "/usr/local/lib/python3.7/dist-packages/keras/backend.py:4847: UserWarning: \"`categorical_crossentropy` received `from_logits=True`, but the `output` argument was produced by a sigmoid or softmax activation and thus does not represent logits. Was this intended?\"\n",
            "  '\"`categorical_crossentropy` received `from_logits=True`, but '\n"
          ],
          "name": "stderr"
        },
        {
          "output_type": "stream",
          "text": [
            "17/17 [==============================] - 108s 6s/step - loss: 1.4805 - categorical_accuracy: 0.4248 - val_loss: 0.8508 - val_categorical_accuracy: 0.7500\n",
            "Epoch 2/10\n",
            "17/17 [==============================] - 104s 6s/step - loss: 0.8325 - categorical_accuracy: 0.7331 - val_loss: 0.4482 - val_categorical_accuracy: 0.8977\n",
            "Epoch 3/10\n",
            "17/17 [==============================] - 104s 6s/step - loss: 0.5720 - categorical_accuracy: 0.8120 - val_loss: 0.3326 - val_categorical_accuracy: 0.9091\n",
            "Epoch 4/10\n",
            "17/17 [==============================] - 104s 6s/step - loss: 0.3886 - categorical_accuracy: 0.8797 - val_loss: 0.2687 - val_categorical_accuracy: 0.9205\n",
            "Epoch 5/10\n",
            "17/17 [==============================] - 105s 6s/step - loss: 0.3579 - categorical_accuracy: 0.8872 - val_loss: 0.2356 - val_categorical_accuracy: 0.9091\n",
            "Epoch 6/10\n",
            "17/17 [==============================] - 104s 6s/step - loss: 0.3202 - categorical_accuracy: 0.8910 - val_loss: 0.2322 - val_categorical_accuracy: 0.9091\n",
            "Epoch 7/10\n",
            "17/17 [==============================] - 104s 6s/step - loss: 0.2753 - categorical_accuracy: 0.9211 - val_loss: 0.2324 - val_categorical_accuracy: 0.9091\n",
            "Epoch 8/10\n",
            "17/17 [==============================] - 105s 6s/step - loss: 0.2549 - categorical_accuracy: 0.9398 - val_loss: 0.2098 - val_categorical_accuracy: 0.9318\n",
            "Epoch 9/10\n",
            "17/17 [==============================] - 104s 6s/step - loss: 0.1979 - categorical_accuracy: 0.9474 - val_loss: 0.2182 - val_categorical_accuracy: 0.8977\n",
            "Epoch 10/10\n",
            "17/17 [==============================] - 104s 6s/step - loss: 0.2307 - categorical_accuracy: 0.9361 - val_loss: 0.2231 - val_categorical_accuracy: 0.9091\n"
          ],
          "name": "stdout"
        }
      ]
    },
    {
      "cell_type": "code",
      "metadata": {
        "colab": {
          "base_uri": "https://localhost:8080/"
        },
        "id": "-VeaIRVqaFGr",
        "outputId": "75f939ee-8607-4ea3-c9b4-360c886ed391"
      },
      "source": [
        "#MODEL PREPROCESSED HUMAN+HR\n",
        "model_human_hr = model_build()\n",
        "model_human_hr.compile(\n",
        "    optimizer=tf.keras.optimizers.Adam(0.001),\n",
        "    loss = tf.keras.losses.CategoricalCrossentropy(from_logits=True),\n",
        "    metrics = tf.keras.metrics.CategoricalAccuracy()\n",
        ")\n",
        "\n",
        "human_hr_history = model_human_hr.fit(\n",
        "    train_data_human_hr,\n",
        "    epochs = 10,\n",
        "    batch_size = 16,\n",
        "    validation_data = validation_data_human_hr\n",
        ")"
      ],
      "execution_count": null,
      "outputs": [
        {
          "metadata": {
            "tags": null
          },
          "name": "stdout",
          "output_type": "stream",
          "text": [
            "Epoch 1/10\n"
          ]
        },
        {
          "metadata": {
            "tags": null
          },
          "name": "stderr",
          "output_type": "stream",
          "text": [
            "/usr/local/lib/python3.7/dist-packages/keras/backend.py:4847: UserWarning: \"`categorical_crossentropy` received `from_logits=True`, but the `output` argument was produced by a sigmoid or softmax activation and thus does not represent logits. Was this intended?\"\n",
            "  '\"`categorical_crossentropy` received `from_logits=True`, but '\n"
          ]
        },
        {
          "output_type": "stream",
          "text": [
            "17/17 [==============================] - 107s 6s/step - loss: 1.4979 - categorical_accuracy: 0.3722 - val_loss: 0.7988 - val_categorical_accuracy: 0.8409\n",
            "Epoch 2/10\n",
            "17/17 [==============================] - 104s 6s/step - loss: 0.7873 - categorical_accuracy: 0.7143 - val_loss: 0.4241 - val_categorical_accuracy: 0.9659\n",
            "Epoch 3/10\n",
            "17/17 [==============================] - 104s 6s/step - loss: 0.5639 - categorical_accuracy: 0.8233 - val_loss: 0.2464 - val_categorical_accuracy: 0.9773\n",
            "Epoch 4/10\n",
            "17/17 [==============================] - 104s 6s/step - loss: 0.4722 - categorical_accuracy: 0.8459 - val_loss: 0.1920 - val_categorical_accuracy: 0.9886\n",
            "Epoch 5/10\n",
            "17/17 [==============================] - 104s 6s/step - loss: 0.3894 - categorical_accuracy: 0.8797 - val_loss: 0.1578 - val_categorical_accuracy: 0.9886\n",
            "Epoch 6/10\n",
            "17/17 [==============================] - 103s 6s/step - loss: 0.3506 - categorical_accuracy: 0.8947 - val_loss: 0.1326 - val_categorical_accuracy: 0.9773\n",
            "Epoch 7/10\n",
            "17/17 [==============================] - 103s 6s/step - loss: 0.3047 - categorical_accuracy: 0.9135 - val_loss: 0.1345 - val_categorical_accuracy: 0.9773\n",
            "Epoch 8/10\n",
            "17/17 [==============================] - 103s 6s/step - loss: 0.2191 - categorical_accuracy: 0.9398 - val_loss: 0.1214 - val_categorical_accuracy: 0.9773\n",
            "Epoch 9/10\n",
            "17/17 [==============================] - 103s 6s/step - loss: 0.1938 - categorical_accuracy: 0.9323 - val_loss: 0.0996 - val_categorical_accuracy: 0.9886\n",
            "Epoch 10/10\n",
            "17/17 [==============================] - 104s 6s/step - loss: 0.1874 - categorical_accuracy: 0.9436 - val_loss: 0.1030 - val_categorical_accuracy: 0.9659\n"
          ],
          "name": "stdout"
        }
      ]
    }
  ]
}