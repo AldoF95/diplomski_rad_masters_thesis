{
  "nbformat": 4,
  "nbformat_minor": 0,
  "metadata": {
    "colab": {
      "name": "intent_recognition_phase2.ipynb",
      "provenance": [],
      "collapsed_sections": [
        "7uAyx3Z89uWr",
        "l4-OajOh0i7v",
        "B4Z5f3pD1Lna",
        "X86L7Hd_6r5E",
        "uE284w9XWdGN",
        "5LgjKFU5fv4U"
      ],
      "mount_file_id": "1PUe2cKZjMiRKZO1OFOiNcAZ3Hh9u5MLK",
      "authorship_tag": "ABX9TyMxWbmOqdR+8k2f0zUu73TG",
      "include_colab_link": true
    },
    "kernelspec": {
      "name": "python3",
      "display_name": "Python 3"
    },
    "language_info": {
      "name": "python"
    }
  },
  "cells": [
    {
      "cell_type": "markdown",
      "metadata": {
        "id": "view-in-github",
        "colab_type": "text"
      },
      "source": [
        "<a href=\"https://colab.research.google.com/github/AldoF95/diplomski_rad_masters_thesis/blob/main/intent_recognition_phase2.ipynb\" target=\"_parent\"><img src=\"https://colab.research.google.com/assets/colab-badge.svg\" alt=\"Open In Colab\"/></a>"
      ]
    },
    {
      "cell_type": "code",
      "metadata": {
        "id": "K31bt551vrbO"
      },
      "source": [
        "#!pip install tensorflow_text\n",
        "!pip install --upgrade matplotlib"
      ],
      "execution_count": null,
      "outputs": []
    },
    {
      "cell_type": "markdown",
      "metadata": {
        "id": "7uAyx3Z89uWr"
      },
      "source": [
        "# Data loading"
      ]
    },
    {
      "cell_type": "code",
      "metadata": {
        "id": "0px9_YjbvyO0"
      },
      "source": [
        "import tensorflow as tf\n",
        "#import tensorflow_text as tft\n",
        "import tensorflow_hub as tfh\n",
        "import pandas as pd\n",
        "import numpy as np\n",
        "import seaborn as sns\n",
        "import matplotlib.pyplot as plt"
      ],
      "execution_count": null,
      "outputs": []
    },
    {
      "cell_type": "code",
      "metadata": {
        "id": "8SDAA6v9vyXU"
      },
      "source": [
        "data = pd.read_excel('/content/drive/MyDrive/chatbot-data.xlsx')"
      ],
      "execution_count": null,
      "outputs": []
    },
    {
      "cell_type": "code",
      "metadata": {
        "id": "A9p6A3e7vyb0"
      },
      "source": [
        "#text preprocessor for bert based models\n",
        "preprocessor = tfh.KerasLayer('https://tfhub.dev/google/universal-sentence-encoder-cmlm/multilingual-preprocess/2')\n",
        "#Language Agnostic BERT sentence encoder\n",
        "model = tfh.KerasLayer('https://tfhub.dev/google/LaBSE/2')"
      ],
      "execution_count": null,
      "outputs": []
    },
    {
      "cell_type": "code",
      "metadata": {
        "colab": {
          "base_uri": "https://localhost:8080/"
        },
        "id": "-Od2WTG1vygQ",
        "outputId": "628da5a4-81b2-4443-c7a4-11248a5d095b"
      },
      "source": [
        "data.info(verbose=True)"
      ],
      "execution_count": null,
      "outputs": [
        {
          "output_type": "stream",
          "text": [
            "<class 'pandas.core.frame.DataFrame'>\n",
            "RangeIndex: 208 entries, 0 to 207\n",
            "Data columns (total 6 columns):\n",
            " #   Column                 Non-Null Count  Dtype \n",
            "---  ------                 --------------  ----- \n",
            " 0   tekst_pitanja          208 non-null    object\n",
            " 1   vrsta_akcije           208 non-null    object\n",
            " 2   namjera                208 non-null    object\n",
            " 3   namjera_02             208 non-null    object\n",
            " 4   eng_google_translator  208 non-null    object\n",
            " 5   eng_human_translation  208 non-null    object\n",
            "dtypes: object(6)\n",
            "memory usage: 9.9+ KB\n"
          ],
          "name": "stdout"
        }
      ]
    },
    {
      "cell_type": "code",
      "metadata": {
        "id": "adIFwm_1vykL"
      },
      "source": [
        "#text -> hrvatski text\n",
        "#action -> vrsta akcije (ne koristim ovdje)\n",
        "#intent -> 3 classes of intents\n",
        "#g_translation -> translation hr->eng using google translator\n",
        "#h_translation -> translation hr->eng manualy   \n",
        "columns = ['text', 'action', 'intent','intent02', 'g_translation', 'h_translation']\n",
        "data.columns = columns"
      ],
      "execution_count": null,
      "outputs": []
    },
    {
      "cell_type": "code",
      "metadata": {
        "id": "AQpmWDh6vypW"
      },
      "source": [
        "#creating out of domain category\n",
        "data['intent'][data['intent']=='studomat_problemi'] = 'OOD'\n",
        "data['intent'][data['intent']=='status_studenta'] = 'OOD'"
      ],
      "execution_count": null,
      "outputs": []
    },
    {
      "cell_type": "code",
      "metadata": {
        "id": "snUmYxtDvysD"
      },
      "source": [
        "data['intent'] = data['intent'].astype('category')\n",
        "data['intent_codes'] = data['intent'].cat.codes"
      ],
      "execution_count": null,
      "outputs": []
    },
    {
      "cell_type": "code",
      "metadata": {
        "id": "uYuWGuh-vyvb"
      },
      "source": [
        "values = data['intent'].value_counts()\n",
        "plt.stem(values)"
      ],
      "execution_count": null,
      "outputs": []
    },
    {
      "cell_type": "markdown",
      "metadata": {
        "id": "k2Dtj6en95Hy"
      },
      "source": [
        "# Analisys"
      ]
    },
    {
      "cell_type": "code",
      "metadata": {
        "id": "86MlH5kd4ptz"
      },
      "source": [
        "import seaborn as sns"
      ],
      "execution_count": null,
      "outputs": []
    },
    {
      "cell_type": "code",
      "metadata": {
        "colab": {
          "base_uri": "https://localhost:8080/"
        },
        "id": "iDkRxBKQb28d",
        "outputId": "5332a0ca-44be-48d8-d5c3-34230ee5af29"
      },
      "source": [
        "colorname = []\n",
        "colorid = []\n",
        "import matplotlib\n",
        "for name, hex in matplotlib.colors.cnames.items():\n",
        "    colorname.append(name)\n",
        "    colorid.append(hex)\n",
        "\n",
        "zippedcolors = list(zip(colorname, colorid))\n",
        "zippedcolors = sorted(zippedcolors, key=lambda x: x[1])\n",
        "zippedcolors"
      ],
      "execution_count": null,
      "outputs": [
        {
          "output_type": "execute_result",
          "data": {
            "text/plain": [
              "[('black', '#000000'),\n",
              " ('navy', '#000080'),\n",
              " ('darkblue', '#00008B'),\n",
              " ('mediumblue', '#0000CD'),\n",
              " ('blue', '#0000FF'),\n",
              " ('darkgreen', '#006400'),\n",
              " ('green', '#008000'),\n",
              " ('teal', '#008080'),\n",
              " ('darkcyan', '#008B8B'),\n",
              " ('deepskyblue', '#00BFFF'),\n",
              " ('darkturquoise', '#00CED1'),\n",
              " ('mediumspringgreen', '#00FA9A'),\n",
              " ('lime', '#00FF00'),\n",
              " ('springgreen', '#00FF7F'),\n",
              " ('aqua', '#00FFFF'),\n",
              " ('cyan', '#00FFFF'),\n",
              " ('midnightblue', '#191970'),\n",
              " ('dodgerblue', '#1E90FF'),\n",
              " ('lightseagreen', '#20B2AA'),\n",
              " ('forestgreen', '#228B22'),\n",
              " ('seagreen', '#2E8B57'),\n",
              " ('darkslategray', '#2F4F4F'),\n",
              " ('darkslategrey', '#2F4F4F'),\n",
              " ('limegreen', '#32CD32'),\n",
              " ('mediumseagreen', '#3CB371'),\n",
              " ('turquoise', '#40E0D0'),\n",
              " ('royalblue', '#4169E1'),\n",
              " ('steelblue', '#4682B4'),\n",
              " ('darkslateblue', '#483D8B'),\n",
              " ('mediumturquoise', '#48D1CC'),\n",
              " ('indigo', '#4B0082'),\n",
              " ('darkolivegreen', '#556B2F'),\n",
              " ('cadetblue', '#5F9EA0'),\n",
              " ('cornflowerblue', '#6495ED'),\n",
              " ('rebeccapurple', '#663399'),\n",
              " ('mediumaquamarine', '#66CDAA'),\n",
              " ('dimgray', '#696969'),\n",
              " ('dimgrey', '#696969'),\n",
              " ('slateblue', '#6A5ACD'),\n",
              " ('olivedrab', '#6B8E23'),\n",
              " ('slategray', '#708090'),\n",
              " ('slategrey', '#708090'),\n",
              " ('lightslategray', '#778899'),\n",
              " ('lightslategrey', '#778899'),\n",
              " ('mediumslateblue', '#7B68EE'),\n",
              " ('lawngreen', '#7CFC00'),\n",
              " ('chartreuse', '#7FFF00'),\n",
              " ('aquamarine', '#7FFFD4'),\n",
              " ('maroon', '#800000'),\n",
              " ('purple', '#800080'),\n",
              " ('olive', '#808000'),\n",
              " ('gray', '#808080'),\n",
              " ('grey', '#808080'),\n",
              " ('skyblue', '#87CEEB'),\n",
              " ('lightskyblue', '#87CEFA'),\n",
              " ('blueviolet', '#8A2BE2'),\n",
              " ('darkred', '#8B0000'),\n",
              " ('darkmagenta', '#8B008B'),\n",
              " ('saddlebrown', '#8B4513'),\n",
              " ('darkseagreen', '#8FBC8F'),\n",
              " ('lightgreen', '#90EE90'),\n",
              " ('mediumpurple', '#9370DB'),\n",
              " ('darkviolet', '#9400D3'),\n",
              " ('palegreen', '#98FB98'),\n",
              " ('darkorchid', '#9932CC'),\n",
              " ('yellowgreen', '#9ACD32'),\n",
              " ('sienna', '#A0522D'),\n",
              " ('brown', '#A52A2A'),\n",
              " ('darkgray', '#A9A9A9'),\n",
              " ('darkgrey', '#A9A9A9'),\n",
              " ('lightblue', '#ADD8E6'),\n",
              " ('greenyellow', '#ADFF2F'),\n",
              " ('paleturquoise', '#AFEEEE'),\n",
              " ('lightsteelblue', '#B0C4DE'),\n",
              " ('powderblue', '#B0E0E6'),\n",
              " ('firebrick', '#B22222'),\n",
              " ('darkgoldenrod', '#B8860B'),\n",
              " ('mediumorchid', '#BA55D3'),\n",
              " ('rosybrown', '#BC8F8F'),\n",
              " ('darkkhaki', '#BDB76B'),\n",
              " ('silver', '#C0C0C0'),\n",
              " ('mediumvioletred', '#C71585'),\n",
              " ('indianred', '#CD5C5C'),\n",
              " ('peru', '#CD853F'),\n",
              " ('chocolate', '#D2691E'),\n",
              " ('tan', '#D2B48C'),\n",
              " ('lightgray', '#D3D3D3'),\n",
              " ('lightgrey', '#D3D3D3'),\n",
              " ('thistle', '#D8BFD8'),\n",
              " ('orchid', '#DA70D6'),\n",
              " ('goldenrod', '#DAA520'),\n",
              " ('palevioletred', '#DB7093'),\n",
              " ('crimson', '#DC143C'),\n",
              " ('gainsboro', '#DCDCDC'),\n",
              " ('plum', '#DDA0DD'),\n",
              " ('burlywood', '#DEB887'),\n",
              " ('lightcyan', '#E0FFFF'),\n",
              " ('lavender', '#E6E6FA'),\n",
              " ('darksalmon', '#E9967A'),\n",
              " ('violet', '#EE82EE'),\n",
              " ('palegoldenrod', '#EEE8AA'),\n",
              " ('lightcoral', '#F08080'),\n",
              " ('khaki', '#F0E68C'),\n",
              " ('aliceblue', '#F0F8FF'),\n",
              " ('honeydew', '#F0FFF0'),\n",
              " ('azure', '#F0FFFF'),\n",
              " ('sandybrown', '#F4A460'),\n",
              " ('wheat', '#F5DEB3'),\n",
              " ('beige', '#F5F5DC'),\n",
              " ('whitesmoke', '#F5F5F5'),\n",
              " ('mintcream', '#F5FFFA'),\n",
              " ('ghostwhite', '#F8F8FF'),\n",
              " ('salmon', '#FA8072'),\n",
              " ('antiquewhite', '#FAEBD7'),\n",
              " ('linen', '#FAF0E6'),\n",
              " ('lightgoldenrodyellow', '#FAFAD2'),\n",
              " ('oldlace', '#FDF5E6'),\n",
              " ('red', '#FF0000'),\n",
              " ('fuchsia', '#FF00FF'),\n",
              " ('magenta', '#FF00FF'),\n",
              " ('deeppink', '#FF1493'),\n",
              " ('orangered', '#FF4500'),\n",
              " ('tomato', '#FF6347'),\n",
              " ('hotpink', '#FF69B4'),\n",
              " ('coral', '#FF7F50'),\n",
              " ('darkorange', '#FF8C00'),\n",
              " ('lightsalmon', '#FFA07A'),\n",
              " ('orange', '#FFA500'),\n",
              " ('lightpink', '#FFB6C1'),\n",
              " ('pink', '#FFC0CB'),\n",
              " ('gold', '#FFD700'),\n",
              " ('peachpuff', '#FFDAB9'),\n",
              " ('navajowhite', '#FFDEAD'),\n",
              " ('moccasin', '#FFE4B5'),\n",
              " ('bisque', '#FFE4C4'),\n",
              " ('mistyrose', '#FFE4E1'),\n",
              " ('blanchedalmond', '#FFEBCD'),\n",
              " ('papayawhip', '#FFEFD5'),\n",
              " ('lavenderblush', '#FFF0F5'),\n",
              " ('seashell', '#FFF5EE'),\n",
              " ('cornsilk', '#FFF8DC'),\n",
              " ('lemonchiffon', '#FFFACD'),\n",
              " ('floralwhite', '#FFFAF0'),\n",
              " ('snow', '#FFFAFA'),\n",
              " ('yellow', '#FFFF00'),\n",
              " ('lightyellow', '#FFFFE0'),\n",
              " ('ivory', '#FFFFF0'),\n",
              " ('white', '#FFFFFF')]"
            ]
          },
          "metadata": {},
          "execution_count": 17
        }
      ]
    },
    {
      "cell_type": "code",
      "metadata": {
        "colab": {
          "base_uri": "https://localhost:8080/",
          "height": 265
        },
        "id": "f8iHblIY4kHl",
        "outputId": "f0229f83-fc0d-401b-fe09-38878ddb727e"
      },
      "source": [
        "font_s = 25\n",
        "sns.set_style(\"darkgrid\")\n",
        "hist = sns.catplot(y=\"intent\", \n",
        "                   kind=\"count\", \n",
        "                   color=\"#9DB9F1\",\n",
        "                   alpha=0.9,\n",
        "                   data=data,\n",
        "                   order=data['intent'].value_counts().index)\n",
        "hist.fig.set_size_inches(20, 2.8)\n",
        "hist.set_xticklabels(fontsize=font_s)\n",
        "hist.set_yticklabels(fontsize=font_s)\n",
        "\n",
        "hist.set(xlabel=\"Iznos\", ylabel=None)\n",
        "hist.set_xlabels(label='Iznos', fontsize=font_s-5)\n",
        "#hist.fig.suptitle(\"Distribucija namjera Grupa_1\", fontsize=font_s+2, y=1.1)\n",
        "\n",
        "ax = hist.facet_axis(0, 0)\n",
        "\n",
        "for c in ax.containers:\n",
        "    labels = [f'{(v.get_width())}' for v in c]\n",
        "    ax.bar_label(c, labels=labels, label_type='edge', fontsize=font_s)"
      ],
      "execution_count": null,
      "outputs": [
        {
          "output_type": "display_data",
          "data": {
            "image/png": "[encoded data removed]",
            "text/plain": [
              "<Figure size 1440x201.6 with 1 Axes>"
            ]
          },
          "metadata": {}
        }
      ]
    },
    {
      "cell_type": "code",
      "metadata": {
        "id": "LtG72Ss-zpgX"
      },
      "source": [
        "data_cp = data"
      ],
      "execution_count": null,
      "outputs": []
    },
    {
      "cell_type": "code",
      "metadata": {
        "id": "KxAqyRaVzqEk"
      },
      "source": [
        "data_cp['no_space'] = data_cp['text'].str.replace(\" \", '')"
      ],
      "execution_count": null,
      "outputs": []
    },
    {
      "cell_type": "code",
      "metadata": {
        "id": "VwsdFok40jGT"
      },
      "source": [
        "data_cp['no_space_eng'] = data_cp['g_translation'].str.replace(\" \", '')\n",
        "data_cp['no_space_hum'] = data_cp['h_translation'].str.replace(\" \", '')"
      ],
      "execution_count": null,
      "outputs": []
    },
    {
      "cell_type": "code",
      "metadata": {
        "id": "1I5sMO7N0zrz"
      },
      "source": [
        "data_cp['tokens'] = data_cp['text'].str.split(\" \")"
      ],
      "execution_count": null,
      "outputs": []
    },
    {
      "cell_type": "code",
      "metadata": {
        "id": "whkf9Ahj1AmC"
      },
      "source": [
        "data_cp['tokens_eng'] = data_cp['g_translation'].str.split(\" \")\n",
        "data_cp['tokens_hum'] = data_cp['h_translation'].str.split(\" \")"
      ],
      "execution_count": null,
      "outputs": []
    },
    {
      "cell_type": "code",
      "metadata": {
        "id": "yA5fDpHt4yXU"
      },
      "source": [
        "data_cp['tokens_len'] = data_cp['tokens'].str.len()\n",
        "data_cp['tokens_len_eng'] = data_cp['tokens_eng'].str.len()\n",
        "data_cp['tokens_len_hum'] = data_cp['tokens_hum'].str.len()"
      ],
      "execution_count": null,
      "outputs": []
    },
    {
      "cell_type": "code",
      "metadata": {
        "colab": {
          "base_uri": "https://localhost:8080/",
          "height": 856
        },
        "id": "BkUOwZ9OzqIT",
        "outputId": "08580472-51e6-4f2e-efa8-b7cb5da3293b"
      },
      "source": [
        "font_s = 25\n",
        "fig, ax = plt.subplots(figsize=(12, 10))\n",
        "h = sns.histplot(data=data_cp, x='tokens_len', color=\"red\", ax=ax, label=\"duzina recenica hr\")\n",
        "h = sns.histplot(data=data_cp, x='tokens_len_eng',color=\"green\", ax=ax, label=\"duzina recenica eng\")\n",
        "h = sns.histplot(data=data_cp, x='tokens_len_hum', ax=ax, label=\"duzina recenica hum\")\n",
        "plt.legend(prop={'size': font_s-10})\n",
        "h.set_yticklabels(h.get_yticks(), size = font_s)\n",
        "h.set_xticklabels(h.get_xticks(), size = font_s)"
      ],
      "execution_count": null,
      "outputs": [
        {
          "output_type": "stream",
          "text": [
            "/usr/local/lib/python3.7/dist-packages/ipykernel_launcher.py:7: UserWarning: FixedFormatter should only be used together with FixedLocator\n",
            "  import sys\n",
            "/usr/local/lib/python3.7/dist-packages/ipykernel_launcher.py:8: UserWarning: FixedFormatter should only be used together with FixedLocator\n",
            "  \n"
          ],
          "name": "stderr"
        },
        {
          "output_type": "execute_result",
          "data": {
            "text/plain": [
              "[Text(0.0, 0, '0.0'),\n",
              " Text(2.5, 0, '2.5'),\n",
              " Text(5.0, 0, '5.0'),\n",
              " Text(7.5, 0, '7.5'),\n",
              " Text(10.0, 0, '10.0'),\n",
              " Text(12.5, 0, '12.5'),\n",
              " Text(15.0, 0, '15.0'),\n",
              " Text(17.5, 0, '17.5'),\n",
              " Text(20.0, 0, '20.0')]"
            ]
          },
          "metadata": {},
          "execution_count": 30
        },
        {
          "output_type": "display_data",
          "data": {
            "image/png": "[encoded data removed]",
            "text/plain": [
              "<Figure size 864x720 with 1 Axes>"
            ]
          },
          "metadata": {
            "needs_background": "light"
          }
        }
      ]
    },
    {
      "cell_type": "code",
      "metadata": {
        "colab": {
          "base_uri": "https://localhost:8080/",
          "height": 606
        },
        "id": "8_jMzxIx1JhD",
        "outputId": "ba0a2b59-ab42-47b2-d22a-9f5ef6ad3e93"
      },
      "source": [
        "font_s = 15\n",
        "#fig, ax = plt.subplots(1, 3, figsize=(25, 7), sharex=True, sharey=True)\n",
        "fig, ax = plt.subplots(1, 3, figsize=(25, 7))\n",
        "sns.set_style(\"darkgrid\")\n",
        "hr = sns.histplot(data=data_cp, x='tokens_len', kde=True, ax=ax[0], label=\"duzina recenica hr\")\n",
        "g = sns.histplot(data=data_cp, x='tokens_len_eng', ax=ax[1], kde=True, label=\"duzina recenica eng\")\n",
        "tr = sns.histplot(data=data_cp, x='tokens_len_hum', ax=ax[2], kde=True, label=\"duzina recenica hum\")\n",
        "hr.set_yticklabels(h.get_yticks(), size = font_s)\n",
        "hr.set_xticklabels(h.get_xticks(), size = font_s)\n",
        "hr.set_ylim((1, 52))\n",
        "hr.set_xlim((1, 20))\n",
        "hr.set_xlabel(\"Broj riječi u rečenici\", size=font_s-1)\n",
        "hr.set_ylabel('Količina', size=font_s-1)\n",
        "hr.set_title('Hrvatske rečenice', size=font_s)\n",
        "\n",
        "g.set_yticklabels(h.get_yticks(), size = font_s)\n",
        "g.set_xticklabels(h.get_xticks(), size = font_s)\n",
        "g.set_ylim((1, 52))\n",
        "g.set_xlim((1, 20))\n",
        "g.set_xlabel(\"Broj riječi u rečenici\", size=font_s-1)\n",
        "g.set_ylabel(None)\n",
        "g.set_title('Automatski prijevod', size=font_s)\n",
        "\n",
        "tr.set_yticklabels(h.get_yticks(), size = font_s)\n",
        "tr.set_xticklabels(h.get_xticks(), size = font_s)\n",
        "tr.set_ylim((1, 52))\n",
        "tr.set_xlim((1, 20))\n",
        "tr.set_xlabel(\"Broj riječi u rečenici\", size=font_s-1)\n",
        "tr.set_ylabel(None)\n",
        "tr.set_title('Ručni prijevod', size=font_s)"
      ],
      "execution_count": null,
      "outputs": [
        {
          "output_type": "stream",
          "text": [
            "/usr/local/lib/python3.7/dist-packages/ipykernel_launcher.py:8: UserWarning: FixedFormatter should only be used together with FixedLocator\n",
            "  \n",
            "/usr/local/lib/python3.7/dist-packages/ipykernel_launcher.py:9: UserWarning: FixedFormatter should only be used together with FixedLocator\n",
            "  if __name__ == '__main__':\n",
            "/usr/local/lib/python3.7/dist-packages/ipykernel_launcher.py:16: UserWarning: FixedFormatter should only be used together with FixedLocator\n",
            "  app.launch_new_instance()\n",
            "/usr/local/lib/python3.7/dist-packages/ipykernel_launcher.py:17: UserWarning: FixedFormatter should only be used together with FixedLocator\n",
            "/usr/local/lib/python3.7/dist-packages/ipykernel_launcher.py:24: UserWarning: FixedFormatter should only be used together with FixedLocator\n",
            "/usr/local/lib/python3.7/dist-packages/ipykernel_launcher.py:25: UserWarning: FixedFormatter should only be used together with FixedLocator\n"
          ],
          "name": "stderr"
        },
        {
          "output_type": "execute_result",
          "data": {
            "text/plain": [
              "Text(0.5, 1.0, 'Ručni prijevod')"
            ]
          },
          "metadata": {},
          "execution_count": 62
        },
        {
          "output_type": "display_data",
          "data": {
            "image/png": "[encoded data removed]",
            "text/plain": [
              "<Figure size 1800x504 with 3 Axes>"
            ]
          },
          "metadata": {}
        }
      ]
    },
    {
      "cell_type": "code",
      "metadata": {
        "id": "k3GLz6dZ1Jkr"
      },
      "source": [
        "avg_len = data_cp['tokens_len'].sum()/data_cp.shape[0]\n",
        "avg_len_eng = data_cp['tokens_len_eng'].sum()/data_cp.shape[0]\n",
        "avg_len_hum = data_cp['tokens_len_hum'].sum()/data_cp.shape[0]"
      ],
      "execution_count": null,
      "outputs": []
    },
    {
      "cell_type": "code",
      "metadata": {
        "id": "srWP8g501Jom",
        "colab": {
          "base_uri": "https://localhost:8080/"
        },
        "outputId": "a2b7675d-ea74-4239-ab2b-433a1b4167c5"
      },
      "source": [
        "(avg_len_eng-avg_len)/avg_len"
      ],
      "execution_count": null,
      "outputs": [
        {
          "output_type": "execute_result",
          "data": {
            "text/plain": [
              "0.23710546574287916"
            ]
          },
          "metadata": {},
          "execution_count": 73
        }
      ]
    },
    {
      "cell_type": "code",
      "metadata": {
        "id": "VQhHgs3E1Jrd",
        "colab": {
          "base_uri": "https://localhost:8080/"
        },
        "outputId": "874ec14a-8c67-4b51-a31a-dee648d9270f"
      },
      "source": [
        "(avg_len_hum-avg_len)/avg_len"
      ],
      "execution_count": null,
      "outputs": [
        {
          "output_type": "execute_result",
          "data": {
            "text/plain": [
              "0.3933795227097768"
            ]
          },
          "metadata": {},
          "execution_count": 74
        }
      ]
    },
    {
      "cell_type": "code",
      "metadata": {
        "colab": {
          "base_uri": "https://localhost:8080/"
        },
        "id": "0uOiQTATJw4S",
        "outputId": "345fc610-1ea3-42fc-cbcf-b7a2dfc8731b"
      },
      "source": [
        "avg_len_hum"
      ],
      "execution_count": null,
      "outputs": [
        {
          "output_type": "execute_result",
          "data": {
            "text/plain": [
              "8.701923076923077"
            ]
          },
          "metadata": {},
          "execution_count": 77
        }
      ]
    },
    {
      "cell_type": "markdown",
      "metadata": {
        "id": "l4-OajOh0i7v"
      },
      "source": [
        "# Train - Validation split"
      ]
    },
    {
      "cell_type": "code",
      "metadata": {
        "id": "C2HAzfrD018T"
      },
      "source": [
        "codes = data['intent_codes'].unique()"
      ],
      "execution_count": null,
      "outputs": []
    },
    {
      "cell_type": "code",
      "metadata": {
        "id": "JTNHDkiPvyzV"
      },
      "source": [
        "#train - validation split\n",
        "#TODO fixed validation split\n",
        "validation_data = pd.DataFrame(columns=data.columns)\n",
        "train_data = pd.DataFrame(columns=data.columns)\n",
        "for c in codes:\n",
        "  sample = data[data['intent_codes']==c]\n",
        "  sample = sample.sample(frac=1)\n",
        "  val = sample.sample(frac=0.25)\n",
        "  train = pd.concat([sample, val]).drop_duplicates(keep=False)\n",
        "  validation_data = validation_data.append(val, ignore_index=True)\n",
        "  train_data = train_data.append(train, ignore_index=True)"
      ],
      "execution_count": null,
      "outputs": []
    },
    {
      "cell_type": "code",
      "metadata": {
        "colab": {
          "base_uri": "https://localhost:8080/"
        },
        "id": "tBaCyB9Yvy26",
        "outputId": "69de9250-0ae2-4cd9-a8b2-3974283e9dd3"
      },
      "source": [
        "validation_data['intent'].value_counts()"
      ],
      "execution_count": null,
      "outputs": [
        {
          "output_type": "execute_result",
          "data": {
            "text/plain": [
              "prijava_zavrsnog_diplomskog    24\n",
              "upis_na_sveuciliste            14\n",
              "OOD                            14\n",
              "Name: intent, dtype: int64"
            ]
          },
          "metadata": {
            "tags": []
          },
          "execution_count": 13
        }
      ]
    },
    {
      "cell_type": "code",
      "metadata": {
        "colab": {
          "base_uri": "https://localhost:8080/"
        },
        "id": "ICCae6Gi07uM",
        "outputId": "430749e2-1e58-4b11-9834-9dc51ce3ce08"
      },
      "source": [
        "train_data['intent'].value_counts()"
      ],
      "execution_count": null,
      "outputs": [
        {
          "output_type": "execute_result",
          "data": {
            "text/plain": [
              "prijava_zavrsnog_diplomskog    74\n",
              "upis_na_sveuciliste            42\n",
              "OOD                            40\n",
              "Name: intent, dtype: int64"
            ]
          },
          "metadata": {
            "tags": []
          },
          "execution_count": 14
        }
      ]
    },
    {
      "cell_type": "markdown",
      "metadata": {
        "id": "B4Z5f3pD1Lna"
      },
      "source": [
        "# Split by language and dataframe to dataset transformation"
      ]
    },
    {
      "cell_type": "code",
      "metadata": {
        "colab": {
          "base_uri": "https://localhost:8080/",
          "height": 293
        },
        "id": "28JN_y-S2ImC",
        "outputId": "48aef3f5-7428-4ae6-8de9-d57b6d1c21f5"
      },
      "source": [
        "train_data.head()"
      ],
      "execution_count": null,
      "outputs": [
        {
          "output_type": "execute_result",
          "data": {
            "text/html": [
              "<div>\n",
              "<style scoped>\n",
              "    .dataframe tbody tr th:only-of-type {\n",
              "        vertical-align: middle;\n",
              "    }\n",
              "\n",
              "    .dataframe tbody tr th {\n",
              "        vertical-align: top;\n",
              "    }\n",
              "\n",
              "    .dataframe thead th {\n",
              "        text-align: right;\n",
              "    }\n",
              "</style>\n",
              "<table border=\"1\" class=\"dataframe\">\n",
              "  <thead>\n",
              "    <tr style=\"text-align: right;\">\n",
              "      <th></th>\n",
              "      <th>text</th>\n",
              "      <th>action</th>\n",
              "      <th>intent</th>\n",
              "      <th>g_translation</th>\n",
              "      <th>h_translation</th>\n",
              "      <th>intent_codes</th>\n",
              "    </tr>\n",
              "  </thead>\n",
              "  <tbody>\n",
              "    <tr>\n",
              "      <th>0</th>\n",
              "      <td>zavrsio sam preddiplomski racunalstva na feru,...</td>\n",
              "      <td>static_faq</td>\n",
              "      <td>upis_na_sveuciliste</td>\n",
              "      <td>I ended up undergraduate computing in Fer, can...</td>\n",
              "      <td>I am an undergraduate of informatics at FER, c...</td>\n",
              "      <td>2</td>\n",
              "    </tr>\n",
              "    <tr>\n",
              "      <th>1</th>\n",
              "      <td>Pozdrav, ja sam Ana, htjela bi se upisati.</td>\n",
              "      <td>pokreni_proces</td>\n",
              "      <td>upis_na_sveuciliste</td>\n",
              "      <td>Hello, I am Ana, wanted to enroll.</td>\n",
              "      <td>Hello, I am Ana, I would like to enroll to the...</td>\n",
              "      <td>2</td>\n",
              "    </tr>\n",
              "    <tr>\n",
              "      <th>2</th>\n",
              "      <td>ako sam zavrsio preddiplomski u inozemstvu, mo...</td>\n",
              "      <td>static_faq</td>\n",
              "      <td>upis_na_sveuciliste</td>\n",
              "      <td>If I finished undergraduate abroad, I can ente...</td>\n",
              "      <td>if I am an undergraduated abroad, can I enroll...</td>\n",
              "      <td>2</td>\n",
              "    </tr>\n",
              "    <tr>\n",
              "      <th>3</th>\n",
              "      <td>ako sam zavrsio preddiplomski studij knjizevno...</td>\n",
              "      <td>static_faq</td>\n",
              "      <td>upis_na_sveuciliste</td>\n",
              "      <td>If I finished undergraduate literature studies...</td>\n",
              "      <td>if I graduated from literature program, can I ...</td>\n",
              "      <td>2</td>\n",
              "    </tr>\n",
              "    <tr>\n",
              "      <th>4</th>\n",
              "      <td>Rečeno mi je da se javim za provedbu upisa</td>\n",
              "      <td>pokreni_proces</td>\n",
              "      <td>upis_na_sveuciliste</td>\n",
              "      <td>I was told to report to enforcement</td>\n",
              "      <td>I was told to come here for the enrollment</td>\n",
              "      <td>2</td>\n",
              "    </tr>\n",
              "  </tbody>\n",
              "</table>\n",
              "</div>"
            ],
            "text/plain": [
              "                                                text  ... intent_codes\n",
              "0  zavrsio sam preddiplomski racunalstva na feru,...  ...            2\n",
              "1         Pozdrav, ja sam Ana, htjela bi se upisati.  ...            2\n",
              "2  ako sam zavrsio preddiplomski u inozemstvu, mo...  ...            2\n",
              "3  ako sam zavrsio preddiplomski studij knjizevno...  ...            2\n",
              "4         Rečeno mi je da se javim za provedbu upisa  ...            2\n",
              "\n",
              "[5 rows x 6 columns]"
            ]
          },
          "metadata": {
            "tags": []
          },
          "execution_count": 15
        }
      ]
    },
    {
      "cell_type": "code",
      "metadata": {
        "id": "N0DJe2sc1P8h"
      },
      "source": [
        "#google translation data\n",
        "train_data_eng = train_data[['g_translation', 'intent_codes']]\n",
        "validation_data_eng = validation_data[['g_translation', 'intent_codes']]\n",
        "train_data_eng.columns = ['text', 'intent_codes']\n",
        "validation_data_eng.columns = ['text', 'intent_codes']\n",
        "#croatian data\n",
        "train_data_hr = train_data[['text', 'intent_codes']]\n",
        "validation_data_hr = validation_data[['text', 'intent_codes']]\n",
        "train_data_hr.columns = ['text', 'intent_codes']\n",
        "validation_data_hr.columns = ['text', 'intent_codes']\n",
        "#human translation data\n",
        "train_data_human = train_data[['h_translation', 'intent_codes']]\n",
        "validation_data_human = validation_data[['h_translation', 'intent_codes']]\n",
        "train_data_human.columns = ['text', 'intent_codes']\n",
        "validation_data_human.columns = ['text', 'intent_codes']\n",
        "#google translation + croatian data\n",
        "train_data_eng_hr = train_data_eng.append(train_data_hr, ignore_index = True)\n",
        "validation_data_eng_hr = validation_data_eng.append(validation_data_hr, ignore_index = True)\n",
        "\n",
        "#human translation + croatian data\n",
        "train_data_human_hr = train_data_human.append(train_data_hr, ignore_index = True)\n",
        "validation_data_human_hr = validation_data_human.append(validation_data_hr, ignore_index = True)\n"
      ],
      "execution_count": null,
      "outputs": []
    },
    {
      "cell_type": "code",
      "metadata": {
        "id": "4mbwGey11QlU"
      },
      "source": [
        "def df_to_dataset(df, shuffle=True, batch_size=16):\n",
        "  df = df.copy()\n",
        "  labels = df.pop('intent_codes')\n",
        "  lables_cat = tf.keras.utils.to_categorical(labels, 3)\n",
        "  dataset = tf.data.Dataset.from_tensor_slices((dict(df), lables_cat))\n",
        "  if shuffle:\n",
        "    dataset = dataset.shuffle(buffer_size=len(df))\n",
        "  dataset = dataset.batch(batch_size).prefetch(batch_size)\n",
        "  return dataset"
      ],
      "execution_count": null,
      "outputs": []
    },
    {
      "cell_type": "code",
      "metadata": {
        "id": "M7yGeV-D1Qoc"
      },
      "source": [
        "train_data_eng = df_to_dataset(train_data_eng)\n",
        "validation_data_eng = df_to_dataset(validation_data_eng)\n",
        "\n",
        "train_data_hr = df_to_dataset(train_data_hr)\n",
        "validation_data_hr = df_to_dataset(validation_data_hr)\n",
        "\n",
        "train_data_human = df_to_dataset(train_data_human)\n",
        "validation_data_human = df_to_dataset(validation_data_human)\n",
        "\n",
        "train_data_eng_hr = df_to_dataset(train_data_eng_hr)\n",
        "validation_data_eng_hr = df_to_dataset(validation_data_eng_hr)\n",
        "\n",
        "train_data_human_hr = df_to_dataset(train_data_human_hr)\n",
        "validation_data_human_hr = df_to_dataset(validation_data_human_hr)"
      ],
      "execution_count": null,
      "outputs": []
    },
    {
      "cell_type": "markdown",
      "metadata": {
        "id": "X86L7Hd_6r5E"
      },
      "source": [
        "# Model"
      ]
    },
    {
      "cell_type": "code",
      "metadata": {
        "id": "WIu3Efom57HF"
      },
      "source": [
        "def model_build():\n",
        "  inputs = tf.keras.layers.Input(shape=(), dtype=tf.string, name='text')\n",
        "  encoded_input = preprocessor(inputs)\n",
        "  encoder_outputs = model(encoded_input)\n",
        "  x = encoder_outputs['pooled_output']\n",
        "  x = tf.keras.layers.Dropout(0.1)(x)\n",
        "  x = tf.keras.layers.Dense(128, activation='relu')(x)\n",
        "  x = tf.keras.layers.Dropout(0.7)(x)\n",
        "  outputs = tf.keras.layers.Dense(3, activation='softmax', name='classifier')(x)\n",
        "  return tf.keras.Model(inputs, outputs)"
      ],
      "execution_count": null,
      "outputs": []
    },
    {
      "cell_type": "code",
      "metadata": {
        "colab": {
          "base_uri": "https://localhost:8080/"
        },
        "id": "08zeVswl57K1",
        "outputId": "81e8a319-9a80-4bf9-adbd-c61365267d21"
      },
      "source": [
        "#MODEL ENG\n",
        "model_eng = model_build()\n",
        "model_eng.compile(\n",
        "    optimizer=tf.keras.optimizers.Adam(0.001),\n",
        "    loss = tf.keras.losses.CategoricalCrossentropy(from_logits=True),\n",
        "    metrics = tf.keras.metrics.CategoricalAccuracy()\n",
        ")\n",
        "\n",
        "eng_history = model_eng.fit(\n",
        "    train_data_eng,\n",
        "    epochs = 5,\n",
        "    batch_size = 16,\n",
        "    validation_data = validation_data_eng\n",
        ")"
      ],
      "execution_count": null,
      "outputs": [
        {
          "output_type": "stream",
          "text": [
            "Epoch 1/5\n"
          ],
          "name": "stdout"
        },
        {
          "output_type": "stream",
          "text": [
            "/usr/local/lib/python3.7/dist-packages/tensorflow/python/keras/backend.py:4870: UserWarning: \"`categorical_crossentropy` received `from_logits=True`, but the `output` argument was produced by a sigmoid or softmax activation and thus does not represent logits. Was this intended?\"\n",
            "  '\"`categorical_crossentropy` received `from_logits=True`, but '\n"
          ],
          "name": "stderr"
        },
        {
          "output_type": "stream",
          "text": [
            "10/10 [==============================] - 102s 9s/step - loss: 1.0197 - categorical_accuracy: 0.5449 - val_loss: 0.6367 - val_categorical_accuracy: 0.7885\n",
            "Epoch 2/5\n",
            "10/10 [==============================] - 91s 9s/step - loss: 0.5862 - categorical_accuracy: 0.7628 - val_loss: 0.4268 - val_categorical_accuracy: 0.8846\n",
            "Epoch 3/5\n",
            "10/10 [==============================] - 91s 9s/step - loss: 0.3925 - categorical_accuracy: 0.8718 - val_loss: 0.3505 - val_categorical_accuracy: 0.8846\n",
            "Epoch 4/5\n",
            "10/10 [==============================] - 90s 9s/step - loss: 0.3324 - categorical_accuracy: 0.8910 - val_loss: 0.3069 - val_categorical_accuracy: 0.8846\n",
            "Epoch 5/5\n",
            "10/10 [==============================] - 90s 9s/step - loss: 0.2325 - categorical_accuracy: 0.9359 - val_loss: 0.2861 - val_categorical_accuracy: 0.8654\n"
          ],
          "name": "stdout"
        }
      ]
    },
    {
      "cell_type": "code",
      "metadata": {
        "colab": {
          "base_uri": "https://localhost:8080/"
        },
        "id": "lD9avEJa57Oz",
        "outputId": "55f296ec-e8c9-4599-90d9-7503700b4741"
      },
      "source": [
        "#MODEL HR\n",
        "model_hr = model_build()\n",
        "model_hr.compile(\n",
        "    optimizer=tf.keras.optimizers.Adam(0.001),\n",
        "    loss = tf.keras.losses.CategoricalCrossentropy(from_logits=True),\n",
        "    metrics = tf.keras.metrics.CategoricalAccuracy()\n",
        ")\n",
        "\n",
        "hr_history = model_hr.fit(\n",
        "    train_data_hr,\n",
        "    epochs = 5,\n",
        "    batch_size = 16,\n",
        "    validation_data = validation_data_hr\n",
        ")"
      ],
      "execution_count": null,
      "outputs": [
        {
          "output_type": "stream",
          "text": [
            "Epoch 1/5\n"
          ],
          "name": "stdout"
        },
        {
          "output_type": "stream",
          "text": [
            "/usr/local/lib/python3.7/dist-packages/tensorflow/python/keras/backend.py:4870: UserWarning: \"`categorical_crossentropy` received `from_logits=True`, but the `output` argument was produced by a sigmoid or softmax activation and thus does not represent logits. Was this intended?\"\n",
            "  '\"`categorical_crossentropy` received `from_logits=True`, but '\n"
          ],
          "name": "stderr"
        },
        {
          "output_type": "stream",
          "text": [
            "10/10 [==============================] - 94s 9s/step - loss: 1.2266 - categorical_accuracy: 0.4295 - val_loss: 0.7046 - val_categorical_accuracy: 0.7500\n",
            "Epoch 2/5\n",
            "10/10 [==============================] - 91s 9s/step - loss: 0.6923 - categorical_accuracy: 0.7051 - val_loss: 0.4885 - val_categorical_accuracy: 0.8654\n",
            "Epoch 3/5\n",
            "10/10 [==============================] - 90s 9s/step - loss: 0.4587 - categorical_accuracy: 0.8526 - val_loss: 0.4047 - val_categorical_accuracy: 0.8462\n",
            "Epoch 4/5\n",
            "10/10 [==============================] - 90s 9s/step - loss: 0.3530 - categorical_accuracy: 0.8654 - val_loss: 0.3430 - val_categorical_accuracy: 0.8846\n",
            "Epoch 5/5\n",
            "10/10 [==============================] - 91s 9s/step - loss: 0.2896 - categorical_accuracy: 0.9103 - val_loss: 0.2947 - val_categorical_accuracy: 0.8462\n"
          ],
          "name": "stdout"
        }
      ]
    },
    {
      "cell_type": "code",
      "metadata": {
        "id": "uVIyQek357Sf",
        "colab": {
          "base_uri": "https://localhost:8080/"
        },
        "outputId": "3871963b-cad1-4d63-8af9-59f864502887"
      },
      "source": [
        "#MODEL HUMAN\n",
        "model_human = model_build()\n",
        "model_human.compile(\n",
        "    optimizer=tf.keras.optimizers.Adam(0.001),\n",
        "    loss = tf.keras.losses.CategoricalCrossentropy(from_logits=True),\n",
        "    metrics = tf.keras.metrics.CategoricalAccuracy()\n",
        ")\n",
        "\n",
        "human_history = model_human.fit(\n",
        "    train_data_human,\n",
        "    epochs = 5,\n",
        "    batch_size = 16,\n",
        "    validation_data = validation_data_human\n",
        ")"
      ],
      "execution_count": null,
      "outputs": [
        {
          "output_type": "stream",
          "text": [
            "Epoch 1/5\n"
          ],
          "name": "stdout"
        },
        {
          "output_type": "stream",
          "text": [
            "/usr/local/lib/python3.7/dist-packages/tensorflow/python/keras/backend.py:4870: UserWarning: \"`categorical_crossentropy` received `from_logits=True`, but the `output` argument was produced by a sigmoid or softmax activation and thus does not represent logits. Was this intended?\"\n",
            "  '\"`categorical_crossentropy` received `from_logits=True`, but '\n"
          ],
          "name": "stderr"
        },
        {
          "output_type": "stream",
          "text": [
            "10/10 [==============================] - 101s 9s/step - loss: 1.1208 - categorical_accuracy: 0.4872 - val_loss: 0.4665 - val_categorical_accuracy: 0.9615\n",
            "Epoch 2/5\n",
            "10/10 [==============================] - 91s 9s/step - loss: 0.5783 - categorical_accuracy: 0.8077 - val_loss: 0.3013 - val_categorical_accuracy: 0.9231\n",
            "Epoch 3/5\n",
            "10/10 [==============================] - 90s 9s/step - loss: 0.3756 - categorical_accuracy: 0.8590 - val_loss: 0.1999 - val_categorical_accuracy: 0.9808\n",
            "Epoch 4/5\n",
            "10/10 [==============================] - 91s 9s/step - loss: 0.2441 - categorical_accuracy: 0.9167 - val_loss: 0.1543 - val_categorical_accuracy: 0.9808\n",
            "Epoch 5/5\n",
            "10/10 [==============================] - 90s 9s/step - loss: 0.2252 - categorical_accuracy: 0.9295 - val_loss: 0.1327 - val_categorical_accuracy: 0.9808\n"
          ],
          "name": "stdout"
        }
      ]
    },
    {
      "cell_type": "code",
      "metadata": {
        "id": "U7E7omqq7D40",
        "colab": {
          "base_uri": "https://localhost:8080/"
        },
        "outputId": "8af72f84-c920-4268-ed7d-237a8bfd262d"
      },
      "source": [
        "#MODEL ENG+HR\n",
        "model_eng_hr = model_build()\n",
        "model_eng_hr.compile(\n",
        "    optimizer=tf.keras.optimizers.Adam(0.001),\n",
        "    loss = tf.keras.losses.CategoricalCrossentropy(from_logits=True),\n",
        "    metrics = tf.keras.metrics.CategoricalAccuracy()\n",
        ")\n",
        "\n",
        "eng_hr_history = model_eng_hr.fit(\n",
        "    train_data_eng_hr,\n",
        "    epochs = 5,\n",
        "    batch_size = 16,\n",
        "    validation_data = validation_data_eng_hr\n",
        ")"
      ],
      "execution_count": null,
      "outputs": [
        {
          "output_type": "stream",
          "text": [
            "Epoch 1/5\n"
          ],
          "name": "stdout"
        },
        {
          "output_type": "stream",
          "text": [
            "/usr/local/lib/python3.7/dist-packages/tensorflow/python/keras/backend.py:4870: UserWarning: \"`categorical_crossentropy` received `from_logits=True`, but the `output` argument was produced by a sigmoid or softmax activation and thus does not represent logits. Was this intended?\"\n",
            "  '\"`categorical_crossentropy` received `from_logits=True`, but '\n"
          ],
          "name": "stderr"
        },
        {
          "output_type": "stream",
          "text": [
            "20/20 [==============================] - 184s 9s/step - loss: 1.0611 - categorical_accuracy: 0.5385 - val_loss: 0.4522 - val_categorical_accuracy: 0.9423\n",
            "Epoch 2/5\n",
            "20/20 [==============================] - 180s 9s/step - loss: 0.5063 - categorical_accuracy: 0.8013 - val_loss: 0.2602 - val_categorical_accuracy: 0.9712\n",
            "Epoch 3/5\n",
            "20/20 [==============================] - 182s 9s/step - loss: 0.2866 - categorical_accuracy: 0.9263 - val_loss: 0.1900 - val_categorical_accuracy: 0.9423\n",
            "Epoch 4/5\n",
            "20/20 [==============================] - 182s 9s/step - loss: 0.1905 - categorical_accuracy: 0.9455 - val_loss: 0.1581 - val_categorical_accuracy: 0.9327\n",
            "Epoch 5/5\n",
            "20/20 [==============================] - 181s 9s/step - loss: 0.1680 - categorical_accuracy: 0.9551 - val_loss: 0.1297 - val_categorical_accuracy: 0.9423\n"
          ],
          "name": "stdout"
        }
      ]
    },
    {
      "cell_type": "code",
      "metadata": {
        "id": "1oySphkH7D-h",
        "colab": {
          "base_uri": "https://localhost:8080/"
        },
        "outputId": "b15ae92a-bf0e-449b-85c3-581543392aed"
      },
      "source": [
        "#MODEL HUMAN+HR\n",
        "model_human_hr = model_build()\n",
        "model_human_hr.compile(\n",
        "    optimizer=tf.keras.optimizers.Adam(0.001),\n",
        "    loss = tf.keras.losses.CategoricalCrossentropy(from_logits=True),\n",
        "    metrics = tf.keras.metrics.CategoricalAccuracy()\n",
        ")\n",
        "\n",
        "human_hr_history = model_human_hr.fit(\n",
        "    train_data_human_hr,\n",
        "    epochs = 5,\n",
        "    batch_size = 16,\n",
        "    validation_data = validation_data_human_hr\n",
        ")"
      ],
      "execution_count": null,
      "outputs": [
        {
          "output_type": "stream",
          "text": [
            "Epoch 1/5\n"
          ],
          "name": "stdout"
        },
        {
          "output_type": "stream",
          "text": [
            "/usr/local/lib/python3.7/dist-packages/tensorflow/python/keras/backend.py:4870: UserWarning: \"`categorical_crossentropy` received `from_logits=True`, but the `output` argument was produced by a sigmoid or softmax activation and thus does not represent logits. Was this intended?\"\n",
            "  '\"`categorical_crossentropy` received `from_logits=True`, but '\n"
          ],
          "name": "stderr"
        },
        {
          "output_type": "stream",
          "text": [
            "20/20 [==============================] - 187s 9s/step - loss: 0.9680 - categorical_accuracy: 0.5737 - val_loss: 0.5131 - val_categorical_accuracy: 0.7692\n",
            "Epoch 2/5\n",
            "20/20 [==============================] - 181s 9s/step - loss: 0.5274 - categorical_accuracy: 0.7949 - val_loss: 0.2474 - val_categorical_accuracy: 0.9423\n",
            "Epoch 3/5\n",
            "20/20 [==============================] - 181s 9s/step - loss: 0.3029 - categorical_accuracy: 0.9071 - val_loss: 0.1871 - val_categorical_accuracy: 0.9231\n",
            "Epoch 4/5\n",
            "20/20 [==============================] - 181s 9s/step - loss: 0.2622 - categorical_accuracy: 0.9006 - val_loss: 0.1580 - val_categorical_accuracy: 0.9615\n",
            "Epoch 5/5\n",
            "20/20 [==============================] - 181s 9s/step - loss: 0.2060 - categorical_accuracy: 0.9295 - val_loss: 0.1381 - val_categorical_accuracy: 0.9327\n"
          ],
          "name": "stdout"
        }
      ]
    },
    {
      "cell_type": "markdown",
      "metadata": {
        "id": "uE284w9XWdGN"
      },
      "source": [
        "# Text preprocessing"
      ]
    },
    {
      "cell_type": "code",
      "metadata": {
        "id": "JhnQy4t77ETl",
        "colab": {
          "base_uri": "https://localhost:8080/"
        },
        "outputId": "2bb69dd1-1dc6-4446-822e-b36d600c35eb"
      },
      "source": [
        "import string\n",
        "import re\n",
        "import nltk\n",
        "nltk.download('stopwords')\n",
        "nltk.download('wordnet')\n",
        "from nltk.stem.porter import PorterStemmer\n",
        "from nltk.stem import WordNetLemmatizer"
      ],
      "execution_count": null,
      "outputs": [
        {
          "output_type": "stream",
          "text": [
            "[nltk_data] Downloading package stopwords to /root/nltk_data...\n",
            "[nltk_data]   Unzipping corpora/stopwords.zip.\n",
            "[nltk_data] Downloading package wordnet to /root/nltk_data...\n",
            "[nltk_data]   Unzipping corpora/wordnet.zip.\n"
          ],
          "name": "stdout"
        }
      ]
    },
    {
      "cell_type": "code",
      "metadata": {
        "id": "X2nix_nE7EXl"
      },
      "source": [
        "def remove_punctuation(text):\n",
        "    punctuationfree=\"\".join([i for i in text if i not in string.punctuation])\n",
        "    return punctuationfree\n",
        "\n",
        "def tokenization(text):\n",
        "    tokens = re.split(r\"\\s+\",text)\n",
        "    return tokens\n",
        "\n",
        "stopwords = nltk.corpus.stopwords.words('english')\n",
        "def remove_stopwords(text):\n",
        "    output= [i for i in text if i not in stopwords]\n",
        "    return output\n",
        "\n",
        "porter_stemmer = PorterStemmer()\n",
        "def stemming(text):\n",
        "    stem_text = [porter_stemmer.stem(word) for word in text]\n",
        "    return stem_text\n",
        "\n",
        "wordnet_lemmatizer = WordNetLemmatizer()\n",
        "def lemmatizer(text):\n",
        "    lemm_text = [wordnet_lemmatizer.lemmatize(word) for word in text]\n",
        "    return lemm_text"
      ],
      "execution_count": null,
      "outputs": []
    },
    {
      "cell_type": "code",
      "metadata": {
        "id": "9NCj_juSY0ap",
        "colab": {
          "base_uri": "https://localhost:8080/"
        },
        "outputId": "9b6eca4a-8d9b-4913-81e0-d773108ac458"
      },
      "source": [
        "data['h_translation'].head()"
      ],
      "execution_count": null,
      "outputs": [
        {
          "output_type": "execute_result",
          "data": {
            "text/plain": [
              "0    is preliminary exam needed for the enrllment\n",
              "1                    is there a part-time program\n",
              "2                  how much is the enrollment fee\n",
              "3                 where can I pay enrollment fees\n",
              "4                    where can I pay tuition fees\n",
              "Name: h_translation, dtype: object"
            ]
          },
          "metadata": {},
          "execution_count": 8
        }
      ]
    },
    {
      "cell_type": "code",
      "metadata": {
        "id": "e_Xu6-Nr7Eas",
        "colab": {
          "base_uri": "https://localhost:8080/",
          "height": 223
        },
        "outputId": "669e882f-ba13-4d6f-a7d0-2a08b0537652"
      },
      "source": [
        "#remove punctuations\n",
        "data['h_translation']= data['h_translation'].apply(lambda x:remove_punctuation(x))\n",
        "data['text'] = data['text'].apply(lambda x:remove_punctuation(x))\n",
        "data.head()"
      ],
      "execution_count": null,
      "outputs": [
        {
          "output_type": "execute_result",
          "data": {
            "text/html": [
              "<div>\n",
              "<style scoped>\n",
              "    .dataframe tbody tr th:only-of-type {\n",
              "        vertical-align: middle;\n",
              "    }\n",
              "\n",
              "    .dataframe tbody tr th {\n",
              "        vertical-align: top;\n",
              "    }\n",
              "\n",
              "    .dataframe thead th {\n",
              "        text-align: right;\n",
              "    }\n",
              "</style>\n",
              "<table border=\"1\" class=\"dataframe\">\n",
              "  <thead>\n",
              "    <tr style=\"text-align: right;\">\n",
              "      <th></th>\n",
              "      <th>text</th>\n",
              "      <th>action</th>\n",
              "      <th>intent</th>\n",
              "      <th>g_translation</th>\n",
              "      <th>h_translation</th>\n",
              "      <th>intent_codes</th>\n",
              "    </tr>\n",
              "  </thead>\n",
              "  <tbody>\n",
              "    <tr>\n",
              "      <th>0</th>\n",
              "      <td>je li potreban prijemni ispit za upis</td>\n",
              "      <td>static_faq</td>\n",
              "      <td>upis_na_sveuciliste</td>\n",
              "      <td>Is the admission exam for enrollment</td>\n",
              "      <td>is preliminary exam needed for the enrllment</td>\n",
              "      <td>2</td>\n",
              "    </tr>\n",
              "    <tr>\n",
              "      <th>1</th>\n",
              "      <td>postoji li izvanredan studij</td>\n",
              "      <td>static_faq</td>\n",
              "      <td>upis_na_sveuciliste</td>\n",
              "      <td>Is there a remarkable study</td>\n",
              "      <td>is there a parttime program</td>\n",
              "      <td>2</td>\n",
              "    </tr>\n",
              "    <tr>\n",
              "      <th>2</th>\n",
              "      <td>koji su troskovi upisa</td>\n",
              "      <td>static_faq</td>\n",
              "      <td>upis_na_sveuciliste</td>\n",
              "      <td>What are the cost of enrollment</td>\n",
              "      <td>how much is the enrollment fee</td>\n",
              "      <td>2</td>\n",
              "    </tr>\n",
              "    <tr>\n",
              "      <th>3</th>\n",
              "      <td>gdje da uplatim troskove</td>\n",
              "      <td>static_faq</td>\n",
              "      <td>upis_na_sveuciliste</td>\n",
              "      <td>where to pay spots</td>\n",
              "      <td>where can I pay enrollment fees</td>\n",
              "      <td>2</td>\n",
              "    </tr>\n",
              "    <tr>\n",
              "      <th>4</th>\n",
              "      <td>gdje da uplatim skolarinu</td>\n",
              "      <td>static_faq</td>\n",
              "      <td>upis_na_sveuciliste</td>\n",
              "      <td>where to pay the skolarin</td>\n",
              "      <td>where can I pay tuition fees</td>\n",
              "      <td>2</td>\n",
              "    </tr>\n",
              "  </tbody>\n",
              "</table>\n",
              "</div>"
            ],
            "text/plain": [
              "                                    text  ... intent_codes\n",
              "0  je li potreban prijemni ispit za upis  ...            2\n",
              "1           postoji li izvanredan studij  ...            2\n",
              "2                 koji su troskovi upisa  ...            2\n",
              "3               gdje da uplatim troskove  ...            2\n",
              "4              gdje da uplatim skolarinu  ...            2\n",
              "\n",
              "[5 rows x 6 columns]"
            ]
          },
          "metadata": {
            "tags": []
          },
          "execution_count": 14
        }
      ]
    },
    {
      "cell_type": "code",
      "metadata": {
        "colab": {
          "base_uri": "https://localhost:8080/",
          "height": 223
        },
        "id": "Iy44vVnaWjbv",
        "outputId": "394527f3-9047-4103-fca4-65a1599a2990"
      },
      "source": [
        "#lowercase\n",
        "data['h_translation']= data['h_translation'].apply(lambda x: x.lower())\n",
        "data['text']= data['text'].apply(lambda x: x.lower())\n",
        "data.head()"
      ],
      "execution_count": null,
      "outputs": [
        {
          "output_type": "execute_result",
          "data": {
            "text/html": [
              "<div>\n",
              "<style scoped>\n",
              "    .dataframe tbody tr th:only-of-type {\n",
              "        vertical-align: middle;\n",
              "    }\n",
              "\n",
              "    .dataframe tbody tr th {\n",
              "        vertical-align: top;\n",
              "    }\n",
              "\n",
              "    .dataframe thead th {\n",
              "        text-align: right;\n",
              "    }\n",
              "</style>\n",
              "<table border=\"1\" class=\"dataframe\">\n",
              "  <thead>\n",
              "    <tr style=\"text-align: right;\">\n",
              "      <th></th>\n",
              "      <th>text</th>\n",
              "      <th>action</th>\n",
              "      <th>intent</th>\n",
              "      <th>g_translation</th>\n",
              "      <th>h_translation</th>\n",
              "      <th>intent_codes</th>\n",
              "    </tr>\n",
              "  </thead>\n",
              "  <tbody>\n",
              "    <tr>\n",
              "      <th>0</th>\n",
              "      <td>je li potreban prijemni ispit za upis</td>\n",
              "      <td>static_faq</td>\n",
              "      <td>upis_na_sveuciliste</td>\n",
              "      <td>Is the admission exam for enrollment</td>\n",
              "      <td>is preliminary exam needed for the enrllment</td>\n",
              "      <td>2</td>\n",
              "    </tr>\n",
              "    <tr>\n",
              "      <th>1</th>\n",
              "      <td>postoji li izvanredan studij</td>\n",
              "      <td>static_faq</td>\n",
              "      <td>upis_na_sveuciliste</td>\n",
              "      <td>Is there a remarkable study</td>\n",
              "      <td>is there a parttime program</td>\n",
              "      <td>2</td>\n",
              "    </tr>\n",
              "    <tr>\n",
              "      <th>2</th>\n",
              "      <td>koji su troskovi upisa</td>\n",
              "      <td>static_faq</td>\n",
              "      <td>upis_na_sveuciliste</td>\n",
              "      <td>What are the cost of enrollment</td>\n",
              "      <td>how much is the enrollment fee</td>\n",
              "      <td>2</td>\n",
              "    </tr>\n",
              "    <tr>\n",
              "      <th>3</th>\n",
              "      <td>gdje da uplatim troskove</td>\n",
              "      <td>static_faq</td>\n",
              "      <td>upis_na_sveuciliste</td>\n",
              "      <td>where to pay spots</td>\n",
              "      <td>where can i pay enrollment fees</td>\n",
              "      <td>2</td>\n",
              "    </tr>\n",
              "    <tr>\n",
              "      <th>4</th>\n",
              "      <td>gdje da uplatim skolarinu</td>\n",
              "      <td>static_faq</td>\n",
              "      <td>upis_na_sveuciliste</td>\n",
              "      <td>where to pay the skolarin</td>\n",
              "      <td>where can i pay tuition fees</td>\n",
              "      <td>2</td>\n",
              "    </tr>\n",
              "  </tbody>\n",
              "</table>\n",
              "</div>"
            ],
            "text/plain": [
              "                                    text  ... intent_codes\n",
              "0  je li potreban prijemni ispit za upis  ...            2\n",
              "1           postoji li izvanredan studij  ...            2\n",
              "2                 koji su troskovi upisa  ...            2\n",
              "3               gdje da uplatim troskove  ...            2\n",
              "4              gdje da uplatim skolarinu  ...            2\n",
              "\n",
              "[5 rows x 6 columns]"
            ]
          },
          "metadata": {
            "tags": []
          },
          "execution_count": 15
        }
      ]
    },
    {
      "cell_type": "code",
      "metadata": {
        "colab": {
          "base_uri": "https://localhost:8080/",
          "height": 223
        },
        "id": "6iQgOQ-VWjgI",
        "outputId": "03c86fc6-08d6-49d1-b22c-c23c3faa9d2b"
      },
      "source": [
        "#tokenize split\n",
        "data['h_translation']= data['h_translation'].apply(lambda x: tokenization(x))\n",
        "data['text']= data['text'].apply(lambda x: tokenization(x))\n",
        "data.head()"
      ],
      "execution_count": null,
      "outputs": [
        {
          "output_type": "execute_result",
          "data": {
            "text/html": [
              "<div>\n",
              "<style scoped>\n",
              "    .dataframe tbody tr th:only-of-type {\n",
              "        vertical-align: middle;\n",
              "    }\n",
              "\n",
              "    .dataframe tbody tr th {\n",
              "        vertical-align: top;\n",
              "    }\n",
              "\n",
              "    .dataframe thead th {\n",
              "        text-align: right;\n",
              "    }\n",
              "</style>\n",
              "<table border=\"1\" class=\"dataframe\">\n",
              "  <thead>\n",
              "    <tr style=\"text-align: right;\">\n",
              "      <th></th>\n",
              "      <th>text</th>\n",
              "      <th>action</th>\n",
              "      <th>intent</th>\n",
              "      <th>g_translation</th>\n",
              "      <th>h_translation</th>\n",
              "      <th>intent_codes</th>\n",
              "    </tr>\n",
              "  </thead>\n",
              "  <tbody>\n",
              "    <tr>\n",
              "      <th>0</th>\n",
              "      <td>[je, li, potreban, prijemni, ispit, za, upis]</td>\n",
              "      <td>static_faq</td>\n",
              "      <td>upis_na_sveuciliste</td>\n",
              "      <td>Is the admission exam for enrollment</td>\n",
              "      <td>[is, preliminary, exam, needed, for, the, enrl...</td>\n",
              "      <td>2</td>\n",
              "    </tr>\n",
              "    <tr>\n",
              "      <th>1</th>\n",
              "      <td>[postoji, li, izvanredan, studij]</td>\n",
              "      <td>static_faq</td>\n",
              "      <td>upis_na_sveuciliste</td>\n",
              "      <td>Is there a remarkable study</td>\n",
              "      <td>[is, there, a, parttime, program]</td>\n",
              "      <td>2</td>\n",
              "    </tr>\n",
              "    <tr>\n",
              "      <th>2</th>\n",
              "      <td>[koji, su, troskovi, upisa]</td>\n",
              "      <td>static_faq</td>\n",
              "      <td>upis_na_sveuciliste</td>\n",
              "      <td>What are the cost of enrollment</td>\n",
              "      <td>[how, much, is, the, enrollment, fee]</td>\n",
              "      <td>2</td>\n",
              "    </tr>\n",
              "    <tr>\n",
              "      <th>3</th>\n",
              "      <td>[gdje, da, uplatim, troskove]</td>\n",
              "      <td>static_faq</td>\n",
              "      <td>upis_na_sveuciliste</td>\n",
              "      <td>where to pay spots</td>\n",
              "      <td>[where, can, i, pay, enrollment, fees]</td>\n",
              "      <td>2</td>\n",
              "    </tr>\n",
              "    <tr>\n",
              "      <th>4</th>\n",
              "      <td>[gdje, da, uplatim, skolarinu]</td>\n",
              "      <td>static_faq</td>\n",
              "      <td>upis_na_sveuciliste</td>\n",
              "      <td>where to pay the skolarin</td>\n",
              "      <td>[where, can, i, pay, tuition, fees]</td>\n",
              "      <td>2</td>\n",
              "    </tr>\n",
              "  </tbody>\n",
              "</table>\n",
              "</div>"
            ],
            "text/plain": [
              "                                            text  ... intent_codes\n",
              "0  [je, li, potreban, prijemni, ispit, za, upis]  ...            2\n",
              "1              [postoji, li, izvanredan, studij]  ...            2\n",
              "2                    [koji, su, troskovi, upisa]  ...            2\n",
              "3                  [gdje, da, uplatim, troskove]  ...            2\n",
              "4                 [gdje, da, uplatim, skolarinu]  ...            2\n",
              "\n",
              "[5 rows x 6 columns]"
            ]
          },
          "metadata": {
            "tags": []
          },
          "execution_count": 16
        }
      ]
    },
    {
      "cell_type": "code",
      "metadata": {
        "colab": {
          "base_uri": "https://localhost:8080/"
        },
        "id": "7WjV3DZeWjkH",
        "outputId": "b1e3114a-ab58-4207-8837-ccbaa680a62d"
      },
      "source": [
        "#stopwords remove (eng)\n",
        "data['h_translation']= data['h_translation'].apply(lambda x:remove_stopwords(x))\n",
        "data['h_translation'].head()"
      ],
      "execution_count": null,
      "outputs": [
        {
          "output_type": "execute_result",
          "data": {
            "text/plain": [
              "0    [preliminary, exam, needed, enrllment]\n",
              "1                       [parttime, program]\n",
              "2                   [much, enrollment, fee]\n",
              "3                   [pay, enrollment, fees]\n",
              "4                      [pay, tuition, fees]\n",
              "Name: h_translation, dtype: object"
            ]
          },
          "metadata": {
            "tags": []
          },
          "execution_count": 17
        }
      ]
    },
    {
      "cell_type": "code",
      "metadata": {
        "colab": {
          "base_uri": "https://localhost:8080/"
        },
        "id": "d2ZKfOyEWjn9",
        "outputId": "0426d0f4-627b-4cbd-d46b-181ffc7c612c"
      },
      "source": [
        "#stemming (eng)\n",
        "data['h_translation']=data['h_translation'].apply(lambda x: stemming(x))\n",
        "data['h_translation'].head()"
      ],
      "execution_count": null,
      "outputs": [
        {
          "output_type": "execute_result",
          "data": {
            "text/plain": [
              "0    [preliminari, exam, need, enrllment]\n",
              "1                      [parttim, program]\n",
              "2                      [much, enrol, fee]\n",
              "3                       [pay, enrol, fee]\n",
              "4                     [pay, tuition, fee]\n",
              "Name: h_translation, dtype: object"
            ]
          },
          "metadata": {
            "tags": []
          },
          "execution_count": 82
        }
      ]
    },
    {
      "cell_type": "code",
      "metadata": {
        "colab": {
          "base_uri": "https://localhost:8080/"
        },
        "id": "WfZ29MT1e7qE",
        "outputId": "e37d55af-becd-47c4-e777-68f748dbf6c3"
      },
      "source": [
        "#lemmatization (eng)\n",
        "data['h_translation']=data['h_translation'].apply(lambda x:lemmatizer(x))\n",
        "data['h_translation'].head()"
      ],
      "execution_count": null,
      "outputs": [
        {
          "output_type": "execute_result",
          "data": {
            "text/plain": [
              "0    [preliminary, exam, needed, enrllment]\n",
              "1                       [parttime, program]\n",
              "2                   [much, enrollment, fee]\n",
              "3                    [pay, enrollment, fee]\n",
              "4                       [pay, tuition, fee]\n",
              "Name: h_translation, dtype: object"
            ]
          },
          "metadata": {
            "tags": []
          },
          "execution_count": 18
        }
      ]
    },
    {
      "cell_type": "code",
      "metadata": {
        "colab": {
          "base_uri": "https://localhost:8080/"
        },
        "id": "wmVEW3iST4s-",
        "outputId": "d8060914-5aa1-4a9d-8531-681cd8b12728"
      },
      "source": [
        "data['g_translation']= data['g_translation'].apply(lambda x:remove_punctuation(x))\n",
        "data['g_translation']= data['g_translation'].apply(lambda x: x.lower())\n",
        "data['g_translation']= data['g_translation'].apply(lambda x: tokenization(x))\n",
        "data['g_translation']= data['g_translation'].apply(lambda x:remove_stopwords(x))\n",
        "data['g_translation']=data['g_translation'].apply(lambda x:lemmatizer(x))\n",
        "data['g_translation'].head()"
      ],
      "execution_count": null,
      "outputs": [
        {
          "output_type": "execute_result",
          "data": {
            "text/plain": [
              "0    [admission, exam, enrollment]\n",
              "1              [remarkable, study]\n",
              "2               [cost, enrollment]\n",
              "3                      [pay, spot]\n",
              "4                  [pay, skolarin]\n",
              "Name: g_translation, dtype: object"
            ]
          },
          "metadata": {
            "tags": []
          },
          "execution_count": 19
        }
      ]
    },
    {
      "cell_type": "code",
      "metadata": {
        "colab": {
          "base_uri": "https://localhost:8080/",
          "height": 206
        },
        "id": "a2BZlwBGe7t9",
        "outputId": "eafbedff-6999-4be5-eb24-0ae8829217fc"
      },
      "source": [
        "data[['text','g_translation', 'h_translation']].head()"
      ],
      "execution_count": null,
      "outputs": [
        {
          "output_type": "execute_result",
          "data": {
            "text/html": [
              "<div>\n",
              "<style scoped>\n",
              "    .dataframe tbody tr th:only-of-type {\n",
              "        vertical-align: middle;\n",
              "    }\n",
              "\n",
              "    .dataframe tbody tr th {\n",
              "        vertical-align: top;\n",
              "    }\n",
              "\n",
              "    .dataframe thead th {\n",
              "        text-align: right;\n",
              "    }\n",
              "</style>\n",
              "<table border=\"1\" class=\"dataframe\">\n",
              "  <thead>\n",
              "    <tr style=\"text-align: right;\">\n",
              "      <th></th>\n",
              "      <th>text</th>\n",
              "      <th>g_translation</th>\n",
              "      <th>h_translation</th>\n",
              "    </tr>\n",
              "  </thead>\n",
              "  <tbody>\n",
              "    <tr>\n",
              "      <th>0</th>\n",
              "      <td>[je, li, potreban, prijemni, ispit, za, upis]</td>\n",
              "      <td>[admission, exam, enrollment]</td>\n",
              "      <td>[preliminary, exam, needed, enrllment]</td>\n",
              "    </tr>\n",
              "    <tr>\n",
              "      <th>1</th>\n",
              "      <td>[postoji, li, izvanredan, studij]</td>\n",
              "      <td>[remarkable, study]</td>\n",
              "      <td>[parttime, program]</td>\n",
              "    </tr>\n",
              "    <tr>\n",
              "      <th>2</th>\n",
              "      <td>[koji, su, troskovi, upisa]</td>\n",
              "      <td>[cost, enrollment]</td>\n",
              "      <td>[much, enrollment, fee]</td>\n",
              "    </tr>\n",
              "    <tr>\n",
              "      <th>3</th>\n",
              "      <td>[gdje, da, uplatim, troskove]</td>\n",
              "      <td>[pay, spot]</td>\n",
              "      <td>[pay, enrollment, fee]</td>\n",
              "    </tr>\n",
              "    <tr>\n",
              "      <th>4</th>\n",
              "      <td>[gdje, da, uplatim, skolarinu]</td>\n",
              "      <td>[pay, skolarin]</td>\n",
              "      <td>[pay, tuition, fee]</td>\n",
              "    </tr>\n",
              "  </tbody>\n",
              "</table>\n",
              "</div>"
            ],
            "text/plain": [
              "                                            text  ...                           h_translation\n",
              "0  [je, li, potreban, prijemni, ispit, za, upis]  ...  [preliminary, exam, needed, enrllment]\n",
              "1              [postoji, li, izvanredan, studij]  ...                     [parttime, program]\n",
              "2                    [koji, su, troskovi, upisa]  ...                 [much, enrollment, fee]\n",
              "3                  [gdje, da, uplatim, troskove]  ...                  [pay, enrollment, fee]\n",
              "4                 [gdje, da, uplatim, skolarinu]  ...                     [pay, tuition, fee]\n",
              "\n",
              "[5 rows x 3 columns]"
            ]
          },
          "metadata": {
            "tags": []
          },
          "execution_count": 20
        }
      ]
    },
    {
      "cell_type": "code",
      "metadata": {
        "id": "kgk4tugoUwhr"
      },
      "source": [
        "#!pip install text-hr"
      ],
      "execution_count": null,
      "outputs": []
    },
    {
      "cell_type": "code",
      "metadata": {
        "id": "k1gj5AozU3CL"
      },
      "source": [
        "import text_hr"
      ],
      "execution_count": null,
      "outputs": []
    },
    {
      "cell_type": "code",
      "metadata": {
        "id": "0EaJ0FwSVXdj"
      },
      "source": [
        "stop_words_list_hr = []\n",
        "for word_base, l_key, cnt, _suff_id, wform_key, wform in text_hr.get_all_std_words():\n",
        "  if word_base is not None: stop_words_list_hr.append(word_base)\n",
        "  if wform is not None: stop_words_list_hr.append(wform)"
      ],
      "execution_count": null,
      "outputs": []
    },
    {
      "cell_type": "code",
      "metadata": {
        "colab": {
          "base_uri": "https://localhost:8080/"
        },
        "id": "ocHP8DanXTZb",
        "outputId": "ca55a465-0c44-4410-8979-0572e73e15c8"
      },
      "source": [
        "stop_words_list_hr = list(dict.fromkeys(stop_words_list_hr))\n",
        "len(stop_words_list_hr)"
      ],
      "execution_count": null,
      "outputs": [
        {
          "output_type": "execute_result",
          "data": {
            "text/plain": [
              "1207"
            ]
          },
          "metadata": {
            "tags": []
          },
          "execution_count": 26
        }
      ]
    },
    {
      "cell_type": "code",
      "metadata": {
        "id": "_ayyppnMU50C"
      },
      "source": [
        "def remove_stopwords_hr(text):\n",
        "    output= [i for i in text if i not in stop_words_list_hr]\n",
        "    return output"
      ],
      "execution_count": null,
      "outputs": []
    },
    {
      "cell_type": "code",
      "metadata": {
        "id": "mReIAe_zXnRL"
      },
      "source": [
        "data['text']= data['text'].apply(lambda x:remove_stopwords_hr(x))"
      ],
      "execution_count": null,
      "outputs": []
    },
    {
      "cell_type": "code",
      "metadata": {
        "colab": {
          "base_uri": "https://localhost:8080/",
          "height": 206
        },
        "id": "hySD0o55Y9Pa",
        "outputId": "929ba9dc-d484-40fc-bcbb-8117cd1cd307"
      },
      "source": [
        "data[['text','g_translation', 'h_translation']].head()"
      ],
      "execution_count": null,
      "outputs": [
        {
          "output_type": "execute_result",
          "data": {
            "text/html": [
              "<div>\n",
              "<style scoped>\n",
              "    .dataframe tbody tr th:only-of-type {\n",
              "        vertical-align: middle;\n",
              "    }\n",
              "\n",
              "    .dataframe tbody tr th {\n",
              "        vertical-align: top;\n",
              "    }\n",
              "\n",
              "    .dataframe thead th {\n",
              "        text-align: right;\n",
              "    }\n",
              "</style>\n",
              "<table border=\"1\" class=\"dataframe\">\n",
              "  <thead>\n",
              "    <tr style=\"text-align: right;\">\n",
              "      <th></th>\n",
              "      <th>text</th>\n",
              "      <th>g_translation</th>\n",
              "      <th>h_translation</th>\n",
              "    </tr>\n",
              "  </thead>\n",
              "  <tbody>\n",
              "    <tr>\n",
              "      <th>0</th>\n",
              "      <td>[potreban, prijemni, ispit, upis]</td>\n",
              "      <td>[admission, exam, enrollment]</td>\n",
              "      <td>[preliminary, exam, needed, enrllment]</td>\n",
              "    </tr>\n",
              "    <tr>\n",
              "      <th>1</th>\n",
              "      <td>[postoji, izvanredan, studij]</td>\n",
              "      <td>[remarkable, study]</td>\n",
              "      <td>[parttime, program]</td>\n",
              "    </tr>\n",
              "    <tr>\n",
              "      <th>2</th>\n",
              "      <td>[troskovi, upisa]</td>\n",
              "      <td>[cost, enrollment]</td>\n",
              "      <td>[much, enrollment, fee]</td>\n",
              "    </tr>\n",
              "    <tr>\n",
              "      <th>3</th>\n",
              "      <td>[uplatim, troskove]</td>\n",
              "      <td>[pay, spot]</td>\n",
              "      <td>[pay, enrollment, fee]</td>\n",
              "    </tr>\n",
              "    <tr>\n",
              "      <th>4</th>\n",
              "      <td>[uplatim, skolarinu]</td>\n",
              "      <td>[pay, skolarin]</td>\n",
              "      <td>[pay, tuition, fee]</td>\n",
              "    </tr>\n",
              "  </tbody>\n",
              "</table>\n",
              "</div>"
            ],
            "text/plain": [
              "                                text  ...                           h_translation\n",
              "0  [potreban, prijemni, ispit, upis]  ...  [preliminary, exam, needed, enrllment]\n",
              "1      [postoji, izvanredan, studij]  ...                     [parttime, program]\n",
              "2                  [troskovi, upisa]  ...                 [much, enrollment, fee]\n",
              "3                [uplatim, troskove]  ...                  [pay, enrollment, fee]\n",
              "4               [uplatim, skolarinu]  ...                     [pay, tuition, fee]\n",
              "\n",
              "[5 rows x 3 columns]"
            ]
          },
          "metadata": {
            "tags": []
          },
          "execution_count": 29
        }
      ]
    },
    {
      "cell_type": "code",
      "metadata": {
        "colab": {
          "base_uri": "https://localhost:8080/"
        },
        "id": "ktpZY3yJiW1L",
        "outputId": "1cec545b-76a8-4882-c517-17058f4c4fd0"
      },
      "source": [
        "data['text'] = data['text'].str.join(\" \")\n",
        "data['h_translation'] = data['h_translation'].str.join(\" \")\n",
        "data['g_translation'] = data['g_translation'].str.join(\" \")\n",
        "data['text'].head()"
      ],
      "execution_count": null,
      "outputs": [
        {
          "output_type": "execute_result",
          "data": {
            "text/plain": [
              "0    potreban prijemni ispit upis\n",
              "1       postoji izvanredan studij\n",
              "2                  troskovi upisa\n",
              "3                uplatim troskove\n",
              "4               uplatim skolarinu\n",
              "Name: text, dtype: object"
            ]
          },
          "metadata": {
            "tags": []
          },
          "execution_count": 30
        }
      ]
    },
    {
      "cell_type": "code",
      "metadata": {
        "colab": {
          "base_uri": "https://localhost:8080/",
          "height": 206
        },
        "id": "wjyTlZAFjhHB",
        "outputId": "014c09cb-f38e-4f7f-ff70-5ee8cddfafc2"
      },
      "source": [
        "data.head()"
      ],
      "execution_count": null,
      "outputs": [
        {
          "output_type": "execute_result",
          "data": {
            "text/html": [
              "<div>\n",
              "<style scoped>\n",
              "    .dataframe tbody tr th:only-of-type {\n",
              "        vertical-align: middle;\n",
              "    }\n",
              "\n",
              "    .dataframe tbody tr th {\n",
              "        vertical-align: top;\n",
              "    }\n",
              "\n",
              "    .dataframe thead th {\n",
              "        text-align: right;\n",
              "    }\n",
              "</style>\n",
              "<table border=\"1\" class=\"dataframe\">\n",
              "  <thead>\n",
              "    <tr style=\"text-align: right;\">\n",
              "      <th></th>\n",
              "      <th>text</th>\n",
              "      <th>action</th>\n",
              "      <th>intent</th>\n",
              "      <th>g_translation</th>\n",
              "      <th>h_translation</th>\n",
              "      <th>intent_codes</th>\n",
              "    </tr>\n",
              "  </thead>\n",
              "  <tbody>\n",
              "    <tr>\n",
              "      <th>0</th>\n",
              "      <td>potreban prijemni ispit upis</td>\n",
              "      <td>static_faq</td>\n",
              "      <td>upis_na_sveuciliste</td>\n",
              "      <td>admission exam enrollment</td>\n",
              "      <td>preliminary exam needed enrllment</td>\n",
              "      <td>2</td>\n",
              "    </tr>\n",
              "    <tr>\n",
              "      <th>1</th>\n",
              "      <td>postoji izvanredan studij</td>\n",
              "      <td>static_faq</td>\n",
              "      <td>upis_na_sveuciliste</td>\n",
              "      <td>remarkable study</td>\n",
              "      <td>parttime program</td>\n",
              "      <td>2</td>\n",
              "    </tr>\n",
              "    <tr>\n",
              "      <th>2</th>\n",
              "      <td>troskovi upisa</td>\n",
              "      <td>static_faq</td>\n",
              "      <td>upis_na_sveuciliste</td>\n",
              "      <td>cost enrollment</td>\n",
              "      <td>much enrollment fee</td>\n",
              "      <td>2</td>\n",
              "    </tr>\n",
              "    <tr>\n",
              "      <th>3</th>\n",
              "      <td>uplatim troskove</td>\n",
              "      <td>static_faq</td>\n",
              "      <td>upis_na_sveuciliste</td>\n",
              "      <td>pay spot</td>\n",
              "      <td>pay enrollment fee</td>\n",
              "      <td>2</td>\n",
              "    </tr>\n",
              "    <tr>\n",
              "      <th>4</th>\n",
              "      <td>uplatim skolarinu</td>\n",
              "      <td>static_faq</td>\n",
              "      <td>upis_na_sveuciliste</td>\n",
              "      <td>pay skolarin</td>\n",
              "      <td>pay tuition fee</td>\n",
              "      <td>2</td>\n",
              "    </tr>\n",
              "  </tbody>\n",
              "</table>\n",
              "</div>"
            ],
            "text/plain": [
              "                           text  ... intent_codes\n",
              "0  potreban prijemni ispit upis  ...            2\n",
              "1     postoji izvanredan studij  ...            2\n",
              "2                troskovi upisa  ...            2\n",
              "3              uplatim troskove  ...            2\n",
              "4             uplatim skolarinu  ...            2\n",
              "\n",
              "[5 rows x 6 columns]"
            ]
          },
          "metadata": {
            "tags": []
          },
          "execution_count": 31
        }
      ]
    },
    {
      "cell_type": "markdown",
      "metadata": {
        "id": "5LgjKFU5fv4U"
      },
      "source": [
        "#Data split after preprocessing"
      ]
    },
    {
      "cell_type": "code",
      "metadata": {
        "colab": {
          "base_uri": "https://localhost:8080/"
        },
        "id": "RfaMj1uQgj9y",
        "outputId": "59cd36af-a113-4fa2-cfc2-8a8df44159e4"
      },
      "source": [
        "data['text'][0]"
      ],
      "execution_count": null,
      "outputs": [
        {
          "output_type": "execute_result",
          "data": {
            "text/plain": [
              "['je li potreban prijemni ispit za upis']"
            ]
          },
          "metadata": {
            "tags": []
          },
          "execution_count": 53
        }
      ]
    },
    {
      "cell_type": "code",
      "metadata": {
        "id": "PoEvgaANe7yL"
      },
      "source": [
        "preprocessed_validation_data = pd.DataFrame(columns=data.columns)\n",
        "preprocessed_train_data = pd.DataFrame(columns=data.columns)\n",
        "for c in codes:\n",
        "  sample = data[data['intent_codes']==c]\n",
        "  sample = sample.sample(frac=1)\n",
        "  val = sample.sample(frac=0.25)\n",
        "  train = pd.concat([sample, val]).drop_duplicates(keep=False)\n",
        "  preprocessed_validation_data = preprocessed_validation_data.append(val, ignore_index=True)\n",
        "  preprocessed_train_data = preprocessed_train_data.append(train, ignore_index=True)"
      ],
      "execution_count": null,
      "outputs": []
    },
    {
      "cell_type": "code",
      "metadata": {
        "id": "g1mDKCnXe714"
      },
      "source": [
        "#preprocessed croatian data\n",
        "train_data_hr = preprocessed_train_data[['text', 'intent_codes']]\n",
        "validation_data_hr = preprocessed_validation_data[['text', 'intent_codes']]\n",
        "train_data_hr.columns = ['text', 'intent_codes']\n",
        "validation_data_hr.columns = ['text', 'intent_codes']\n",
        "#preprocessed human translation data\n",
        "train_data_human = preprocessed_train_data[['h_translation', 'intent_codes']]\n",
        "validation_data_human = preprocessed_validation_data[['h_translation', 'intent_codes']]\n",
        "train_data_human.columns = ['text', 'intent_codes']\n",
        "validation_data_human.columns = ['text', 'intent_codes']\n",
        "#preprocessed google translation data\n",
        "train_data_eng = preprocessed_train_data[['g_translation', 'intent_codes']]\n",
        "validation_data_eng = preprocessed_validation_data[['g_translation', 'intent_codes']]\n",
        "train_data_eng.columns = ['text', 'intent_codes']\n",
        "validation_data_eng.columns = ['text', 'intent_codes']\n",
        "\n",
        "\n",
        "#google translation + croatian data\n",
        "train_data_eng_hr = train_data_eng.append(train_data_hr, ignore_index = True)\n",
        "validation_data_eng_hr = validation_data_eng.append(validation_data_hr, ignore_index = True)\n",
        "\n",
        "#human translation + croatian data\n",
        "train_data_human_hr = train_data_human.append(train_data_hr, ignore_index = True)\n",
        "validation_data_human_hr = validation_data_human.append(validation_data_hr, ignore_index = True)"
      ],
      "execution_count": null,
      "outputs": []
    },
    {
      "cell_type": "code",
      "metadata": {
        "id": "_ZM8jhIrj_eh"
      },
      "source": [
        "train_data_eng = df_to_dataset(train_data_eng)\n",
        "validation_data_eng = df_to_dataset(validation_data_eng)\n",
        "\n",
        "train_data_hr = df_to_dataset(train_data_hr)\n",
        "validation_data_hr = df_to_dataset(validation_data_hr)\n",
        "\n",
        "train_data_human = df_to_dataset(train_data_human)\n",
        "validation_data_human = df_to_dataset(validation_data_human)\n",
        "\n",
        "train_data_eng_hr = df_to_dataset(train_data_eng_hr)\n",
        "validation_data_eng_hr = df_to_dataset(validation_data_eng_hr)\n",
        "\n",
        "train_data_human_hr = df_to_dataset(train_data_human_hr)\n",
        "validation_data_human_hr = df_to_dataset(validation_data_human_hr)"
      ],
      "execution_count": null,
      "outputs": []
    },
    {
      "cell_type": "markdown",
      "metadata": {
        "id": "c4iV9MClkQYm"
      },
      "source": [
        "# Model after preprocessing"
      ]
    },
    {
      "cell_type": "code",
      "metadata": {
        "colab": {
          "base_uri": "https://localhost:8080/"
        },
        "id": "K9F3E9LykG5Q",
        "outputId": "15d1c4d8-1598-4684-d62a-eca5a1c118ac"
      },
      "source": [
        "#MODEL PREPROCESSED HR\n",
        "model_hr = model_build()\n",
        "model_hr.compile(\n",
        "    optimizer=tf.keras.optimizers.Adam(0.001),\n",
        "    loss = tf.keras.losses.CategoricalCrossentropy(from_logits=True),\n",
        "    metrics = tf.keras.metrics.CategoricalAccuracy()\n",
        ")\n",
        "\n",
        "hr_history = model_hr.fit(\n",
        "    train_data_hr,\n",
        "    epochs = 5,\n",
        "    batch_size = 16,\n",
        "    validation_data = validation_data_hr\n",
        ")"
      ],
      "execution_count": null,
      "outputs": [
        {
          "output_type": "stream",
          "text": [
            "Epoch 1/5\n"
          ],
          "name": "stdout"
        },
        {
          "output_type": "stream",
          "text": [
            "/usr/local/lib/python3.7/dist-packages/tensorflow/python/keras/backend.py:4870: UserWarning: \"`categorical_crossentropy` received `from_logits=True`, but the `output` argument was produced by a sigmoid or softmax activation and thus does not represent logits. Was this intended?\"\n",
            "  '\"`categorical_crossentropy` received `from_logits=True`, but '\n"
          ],
          "name": "stderr"
        },
        {
          "output_type": "stream",
          "text": [
            "10/10 [==============================] - 103s 10s/step - loss: 1.0494 - categorical_accuracy: 0.4968 - val_loss: 0.6897 - val_categorical_accuracy: 0.7885\n",
            "Epoch 2/5\n",
            "10/10 [==============================] - 92s 9s/step - loss: 0.6483 - categorical_accuracy: 0.7290 - val_loss: 0.4635 - val_categorical_accuracy: 0.9038\n",
            "Epoch 3/5\n",
            "10/10 [==============================] - 93s 9s/step - loss: 0.5115 - categorical_accuracy: 0.8129 - val_loss: 0.3347 - val_categorical_accuracy: 0.9231\n",
            "Epoch 4/5\n",
            "10/10 [==============================] - 93s 9s/step - loss: 0.3202 - categorical_accuracy: 0.9161 - val_loss: 0.2763 - val_categorical_accuracy: 0.9231\n",
            "Epoch 5/5\n",
            "10/10 [==============================] - 93s 10s/step - loss: 0.2783 - categorical_accuracy: 0.9355 - val_loss: 0.2430 - val_categorical_accuracy: 0.9423\n"
          ],
          "name": "stdout"
        }
      ]
    },
    {
      "cell_type": "code",
      "metadata": {
        "colab": {
          "base_uri": "https://localhost:8080/"
        },
        "id": "heczjrCskHCQ",
        "outputId": "db672413-d6a0-4e7f-b79b-dd40acd41119"
      },
      "source": [
        "#MODEL PREPROCESSED HUMAN\n",
        "model_human = model_build()\n",
        "model_human.compile(\n",
        "    optimizer=tf.keras.optimizers.Adam(0.001),\n",
        "    loss = tf.keras.losses.CategoricalCrossentropy(from_logits=True),\n",
        "    metrics = tf.keras.metrics.CategoricalAccuracy()\n",
        ")\n",
        "\n",
        "human_history = model_human.fit(\n",
        "    train_data_human,\n",
        "    epochs = 5,\n",
        "    batch_size = 16,\n",
        "    validation_data = validation_data_human\n",
        ")"
      ],
      "execution_count": null,
      "outputs": [
        {
          "output_type": "stream",
          "text": [
            "Epoch 1/5\n"
          ],
          "name": "stdout"
        },
        {
          "output_type": "stream",
          "text": [
            "/usr/local/lib/python3.7/dist-packages/tensorflow/python/keras/backend.py:4870: UserWarning: \"`categorical_crossentropy` received `from_logits=True`, but the `output` argument was produced by a sigmoid or softmax activation and thus does not represent logits. Was this intended?\"\n",
            "  '\"`categorical_crossentropy` received `from_logits=True`, but '\n"
          ],
          "name": "stderr"
        },
        {
          "output_type": "stream",
          "text": [
            "10/10 [==============================] - 97s 10s/step - loss: 1.0595 - categorical_accuracy: 0.5161 - val_loss: 0.5370 - val_categorical_accuracy: 0.8462\n",
            "Epoch 2/5\n",
            "10/10 [==============================] - 93s 10s/step - loss: 0.5062 - categorical_accuracy: 0.8194 - val_loss: 0.3329 - val_categorical_accuracy: 0.9423\n",
            "Epoch 3/5\n",
            "10/10 [==============================] - 93s 9s/step - loss: 0.3449 - categorical_accuracy: 0.8903 - val_loss: 0.2603 - val_categorical_accuracy: 0.9231\n",
            "Epoch 4/5\n",
            "10/10 [==============================] - 93s 10s/step - loss: 0.2237 - categorical_accuracy: 0.9548 - val_loss: 0.2169 - val_categorical_accuracy: 0.9423\n",
            "Epoch 5/5\n",
            "10/10 [==============================] - 93s 9s/step - loss: 0.2045 - categorical_accuracy: 0.9419 - val_loss: 0.1941 - val_categorical_accuracy: 0.9423\n"
          ],
          "name": "stdout"
        }
      ]
    },
    {
      "cell_type": "code",
      "metadata": {
        "colab": {
          "base_uri": "https://localhost:8080/"
        },
        "id": "lLuKBFDQaE3T",
        "outputId": "a9bbee09-d536-45bf-fd48-bb927d53e0f2"
      },
      "source": [
        "#MODEL PREPROCESSED ENG\n",
        "model_eng = model_build()\n",
        "model_eng.compile(\n",
        "    optimizer=tf.keras.optimizers.Adam(0.001),\n",
        "    loss = tf.keras.losses.CategoricalCrossentropy(from_logits=True),\n",
        "    metrics = tf.keras.metrics.CategoricalAccuracy()\n",
        ")\n",
        "\n",
        "eng_history = model_eng.fit(\n",
        "    train_data_eng,\n",
        "    epochs = 5,\n",
        "    batch_size = 16,\n",
        "    validation_data = validation_data_eng\n",
        ")"
      ],
      "execution_count": null,
      "outputs": [
        {
          "output_type": "stream",
          "text": [
            "Epoch 1/5\n"
          ],
          "name": "stdout"
        },
        {
          "output_type": "stream",
          "text": [
            "/usr/local/lib/python3.7/dist-packages/tensorflow/python/keras/backend.py:4870: UserWarning: \"`categorical_crossentropy` received `from_logits=True`, but the `output` argument was produced by a sigmoid or softmax activation and thus does not represent logits. Was this intended?\"\n",
            "  '\"`categorical_crossentropy` received `from_logits=True`, but '\n"
          ],
          "name": "stderr"
        },
        {
          "output_type": "stream",
          "text": [
            "10/10 [==============================] - 97s 10s/step - loss: 1.0505 - categorical_accuracy: 0.5419 - val_loss: 0.6342 - val_categorical_accuracy: 0.6923\n",
            "Epoch 2/5\n",
            "10/10 [==============================] - 91s 9s/step - loss: 0.6167 - categorical_accuracy: 0.7419 - val_loss: 0.4092 - val_categorical_accuracy: 0.8462\n",
            "Epoch 3/5\n",
            "10/10 [==============================] - 91s 9s/step - loss: 0.3917 - categorical_accuracy: 0.8323 - val_loss: 0.3117 - val_categorical_accuracy: 0.8654\n",
            "Epoch 4/5\n",
            "10/10 [==============================] - 92s 9s/step - loss: 0.2985 - categorical_accuracy: 0.9355 - val_loss: 0.2735 - val_categorical_accuracy: 0.8654\n",
            "Epoch 5/5\n",
            "10/10 [==============================] - 92s 9s/step - loss: 0.2351 - categorical_accuracy: 0.9161 - val_loss: 0.2692 - val_categorical_accuracy: 0.8846\n"
          ],
          "name": "stdout"
        }
      ]
    },
    {
      "cell_type": "code",
      "metadata": {
        "colab": {
          "base_uri": "https://localhost:8080/"
        },
        "id": "TszG6GbLaE_s",
        "outputId": "a5373496-0ee3-4968-a7f9-1134ab556a0f"
      },
      "source": [
        "#MODEL PREPROCESSED ENG+HR\n",
        "model_eng_hr = model_build()\n",
        "model_eng_hr.compile(\n",
        "    optimizer=tf.keras.optimizers.Adam(0.001),\n",
        "    loss = tf.keras.losses.CategoricalCrossentropy(from_logits=True),\n",
        "    metrics = tf.keras.metrics.CategoricalAccuracy()\n",
        ")\n",
        "\n",
        "eng_hr_history = model_eng_hr.fit(\n",
        "    train_data_eng_hr,\n",
        "    epochs = 5,\n",
        "    batch_size = 16,\n",
        "    validation_data = validation_data_eng_hr\n",
        ")"
      ],
      "execution_count": null,
      "outputs": [
        {
          "output_type": "stream",
          "text": [
            "Epoch 1/5\n"
          ],
          "name": "stdout"
        },
        {
          "output_type": "stream",
          "text": [
            "/usr/local/lib/python3.7/dist-packages/tensorflow/python/keras/backend.py:4870: UserWarning: \"`categorical_crossentropy` received `from_logits=True`, but the `output` argument was produced by a sigmoid or softmax activation and thus does not represent logits. Was this intended?\"\n",
            "  '\"`categorical_crossentropy` received `from_logits=True`, but '\n"
          ],
          "name": "stderr"
        },
        {
          "output_type": "stream",
          "text": [
            "20/20 [==============================] - 188s 9s/step - loss: 0.8884 - categorical_accuracy: 0.5774 - val_loss: 0.4818 - val_categorical_accuracy: 0.8750\n",
            "Epoch 2/5\n",
            "20/20 [==============================] - 183s 9s/step - loss: 0.4453 - categorical_accuracy: 0.8548 - val_loss: 0.2797 - val_categorical_accuracy: 0.9231\n",
            "Epoch 3/5\n",
            "20/20 [==============================] - 184s 9s/step - loss: 0.2601 - categorical_accuracy: 0.9355 - val_loss: 0.2166 - val_categorical_accuracy: 0.9231\n",
            "Epoch 4/5\n",
            "20/20 [==============================] - 184s 9s/step - loss: 0.2138 - categorical_accuracy: 0.9290 - val_loss: 0.1901 - val_categorical_accuracy: 0.9423\n",
            "Epoch 5/5\n",
            "20/20 [==============================] - 184s 9s/step - loss: 0.1793 - categorical_accuracy: 0.9516 - val_loss: 0.1891 - val_categorical_accuracy: 0.9327\n"
          ],
          "name": "stdout"
        }
      ]
    },
    {
      "cell_type": "code",
      "metadata": {
        "colab": {
          "base_uri": "https://localhost:8080/"
        },
        "id": "-VeaIRVqaFGr",
        "outputId": "48c49559-c731-4bb2-da55-7708cb18b4bb"
      },
      "source": [
        "#MODEL PREPROCESSED HUMAN+HR\n",
        "model_human_hr = model_build()\n",
        "model_human_hr.compile(\n",
        "    optimizer=tf.keras.optimizers.Adam(0.001),\n",
        "    loss = tf.keras.losses.CategoricalCrossentropy(from_logits=True),\n",
        "    metrics = tf.keras.metrics.CategoricalAccuracy()\n",
        ")\n",
        "\n",
        "human_hr_history = model_human_hr.fit(\n",
        "    train_data_human_hr,\n",
        "    epochs = 5,\n",
        "    batch_size = 16,\n",
        "    validation_data = validation_data_human_hr\n",
        ")"
      ],
      "execution_count": null,
      "outputs": [
        {
          "output_type": "stream",
          "text": [
            "Epoch 1/5\n"
          ],
          "name": "stdout"
        },
        {
          "output_type": "stream",
          "text": [
            "/usr/local/lib/python3.7/dist-packages/tensorflow/python/keras/backend.py:4870: UserWarning: \"`categorical_crossentropy` received `from_logits=True`, but the `output` argument was produced by a sigmoid or softmax activation and thus does not represent logits. Was this intended?\"\n",
            "  '\"`categorical_crossentropy` received `from_logits=True`, but '\n"
          ],
          "name": "stderr"
        },
        {
          "output_type": "stream",
          "text": [
            "20/20 [==============================] - 186s 9s/step - loss: 0.9665 - categorical_accuracy: 0.6000 - val_loss: 0.4188 - val_categorical_accuracy: 0.9327\n",
            "Epoch 2/5\n",
            "20/20 [==============================] - 181s 9s/step - loss: 0.4189 - categorical_accuracy: 0.8742 - val_loss: 0.2582 - val_categorical_accuracy: 0.9519\n",
            "Epoch 3/5\n",
            "20/20 [==============================] - 182s 9s/step - loss: 0.2642 - categorical_accuracy: 0.9290 - val_loss: 0.1943 - val_categorical_accuracy: 0.9423\n",
            "Epoch 4/5\n",
            "20/20 [==============================] - 184s 9s/step - loss: 0.1852 - categorical_accuracy: 0.9419 - val_loss: 0.1782 - val_categorical_accuracy: 0.9615\n",
            "Epoch 5/5\n",
            "20/20 [==============================] - 183s 9s/step - loss: 0.1607 - categorical_accuracy: 0.9484 - val_loss: 0.1707 - val_categorical_accuracy: 0.9423\n"
          ],
          "name": "stdout"
        }
      ]
    }
  ]
}